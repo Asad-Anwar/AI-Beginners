{
 "cells": [
  {
   "cell_type": "code",
   "execution_count": 1,
   "id": "873db65d",
   "metadata": {},
   "outputs": [
    {
     "name": "stdout",
     "output_type": "stream",
     "text": [
      "Okay You are not allowed!\n"
     ]
    }
   ],
   "source": [
    "age = 25\n",
    "if(age==18):\n",
    "    print(\"Okay You are allowed to enter\")\n",
    "else:\n",
    "    print(\"Okay You are not allowed!\")"
   ]
  },
  {
   "cell_type": "code",
   "execution_count": 2,
   "id": "5518d305",
   "metadata": {},
   "outputs": [
    {
     "name": "stdout",
     "output_type": "stream",
     "text": [
      "Your password is correct\n"
     ]
    }
   ],
   "source": [
    "Password = 123;\n",
    "if (Password==123):\n",
    "    print(\"Your password is correct\")\n",
    "else:\n",
    "    print(\"You entered an incorrect password, Please try again\")"
   ]
  },
  {
   "cell_type": "code",
   "execution_count": 1,
   "id": "239a7e7f",
   "metadata": {},
   "outputs": [
    {
     "name": "stdout",
     "output_type": "stream",
     "text": [
      "Please enter a password : 123\n",
      "Your password is correct\n"
     ]
    }
   ],
   "source": [
    "Password = int(input(\"Please enter a password : \"));\n",
    "if (Password==123):\n",
    "    print(\"Your password is correct\")\n",
    "else:\n",
    "    print(\"You entered an incorrect password, Please try again\")"
   ]
  },
  {
   "cell_type": "code",
   "execution_count": 5,
   "id": "56576297",
   "metadata": {},
   "outputs": [
    {
     "name": "stdout",
     "output_type": "stream",
     "text": [
      "Tender2 is approved.\n"
     ]
    }
   ],
   "source": [
    "Tender1 = 2000\n",
    "Tender2 = 1800\n",
    "Tender3 = 1500\n",
    "Tender4 = 3500\n",
    "\n",
    "if (Tender1 <= Tender2):\n",
    "    print(\"Tender1 is approved.\")\n",
    "else:\n",
    "    print(\"Tender2 is approved.\")"
   ]
  },
  {
   "cell_type": "code",
   "execution_count": 11,
   "id": "b244f051",
   "metadata": {},
   "outputs": [
    {
     "name": "stdout",
     "output_type": "stream",
     "text": [
      "1500\n"
     ]
    }
   ],
   "source": [
    "Tender1 = 2000\n",
    "Tender2 = 1800\n",
    "Tender3 = 1500\n",
    "Tender4 = 3500\n",
    "\n",
    "if (Tender1 < Tender2):\n",
    "    c = Tender1\n",
    "else:\n",
    "    c = Tender2\n",
    "if (c < Tender3):\n",
    "    d = c\n",
    "else:\n",
    "    d = Tender3\n",
    "if (d < Tender4):\n",
    "    e = d\n",
    "else:\n",
    "    e = Tender4\n",
    "    \n",
    "#print(e + \" \" + \"Your Tender is approved.\" )\n",
    "#print(\"Your Tender is approved : \")\n",
    "print(e)"
   ]
  },
  {
   "cell_type": "code",
   "execution_count": 17,
   "id": "c37ddc22",
   "metadata": {},
   "outputs": [
    {
     "name": "stdout",
     "output_type": "stream",
     "text": [
      "10\n"
     ]
    }
   ],
   "source": [
    "donut_condition = 'fresh'\n",
    "if donut_condition == \"fresh\":\n",
    "    buy_score = 10\n",
    "elif donut_price == \"low\":\n",
    "    buy_score = 5\n",
    "else:\n",
    "    buy_score = 0\n",
    "print(buy_score)"
   ]
  },
  {
   "cell_type": "code",
   "execution_count": 38,
   "id": "e2420923",
   "metadata": {},
   "outputs": [
    {
     "name": "stdout",
     "output_type": "stream",
     "text": [
      "recruit him!\n"
     ]
    }
   ],
   "source": [
    "weight = 300\n",
    "time = 6\n",
    "height = 5.8\n",
    "if(weight >= 300 and time >= 6 and height >= 5.8):\n",
    "    print(\"recruit him!\")"
   ]
  },
  {
   "cell_type": "code",
   "execution_count": 40,
   "id": "9260d78e",
   "metadata": {},
   "outputs": [
    {
     "ename": "SyntaxError",
     "evalue": "invalid syntax (<ipython-input-40-eeb87342171e>, line 5)",
     "output_type": "error",
     "traceback": [
      "\u001b[1;36m  File \u001b[1;32m\"<ipython-input-40-eeb87342171e>\"\u001b[1;36m, line \u001b[1;32m5\u001b[0m\n\u001b[1;33m    elif(time >= 6):\u001b[0m\n\u001b[1;37m    ^\u001b[0m\n\u001b[1;31mSyntaxError\u001b[0m\u001b[1;31m:\u001b[0m invalid syntax\n"
     ]
    }
   ],
   "source": [
    "weight = 300\n",
    "time = 6\n",
    "height = 5.8\n",
    "if(weight >= 300):\n",
    "    elif(time >= 6):\n",
    "        if(height >= 5.8):\n",
    "            print(\"recruit him!\")"
   ]
  },
  {
   "cell_type": "code",
   "execution_count": null,
   "id": "b26d4fbb",
   "metadata": {},
   "outputs": [],
   "source": []
  },
  {
   "cell_type": "code",
   "execution_count": null,
   "id": "ff25df56",
   "metadata": {},
   "outputs": [],
   "source": []
  },
  {
   "cell_type": "code",
   "execution_count": null,
   "id": "733f08db",
   "metadata": {},
   "outputs": [],
   "source": []
  }
 ],
 "metadata": {
  "kernelspec": {
   "display_name": "Python 3",
   "language": "python",
   "name": "python3"
  },
  "language_info": {
   "codemirror_mode": {
    "name": "ipython",
    "version": 3
   },
   "file_extension": ".py",
   "mimetype": "text/x-python",
   "name": "python",
   "nbconvert_exporter": "python",
   "pygments_lexer": "ipython3",
   "version": "3.8.8"
  }
 },
 "nbformat": 4,
 "nbformat_minor": 5
}
