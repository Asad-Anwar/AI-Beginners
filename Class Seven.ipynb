{
 "cells": [
  {
   "cell_type": "code",
   "execution_count": null,
   "metadata": {},
   "outputs": [],
   "source": [
    "psl_cities =['Karachi','Quetta','Islamabad','Peshawar','Multan','Lahore']"
   ]
  },
  {
   "cell_type": "code",
   "execution_count": null,
   "metadata": {},
   "outputs": [],
   "source": [
    "city = 'Multan'"
   ]
  },
  {
   "cell_type": "code",
   "execution_count": null,
   "metadata": {},
   "outputs": [],
   "source": [
    "if city == psl_cities[0]:\n",
    "    print(\"Winner\",psl_cities[0])\n",
    "elif city == psl_cities[1]:\n",
    "    print(\"Winner\",psl_cities[1])\n",
    "elif city == psl_cities[2]:\n",
    "    print(\"Winner\",psl_cities[2])\n",
    "elif city == psl_cities[3]:\n",
    "    print(\"Winner\",psl_cities[3])\n",
    "elif city == psl_cities[4]:\n",
    "    print(\"Winner\",psl_cities[4])\n",
    "elif city == psl_cities[5]:\n",
    "    print(\"Winner\",psl_cities[5])"
   ]
  },
  {
   "cell_type": "code",
   "execution_count": null,
   "metadata": {},
   "outputs": [],
   "source": [
    "for temp_city in psl_cities:\n",
    "    if temp_city == city:\n",
    "        print(\"Winner\",temp_city)"
   ]
  },
  {
   "cell_type": "code",
   "execution_count": null,
   "metadata": {},
   "outputs": [],
   "source": [
    "a = range(100)\n",
    "a"
   ]
  },
  {
   "cell_type": "code",
   "execution_count": null,
   "metadata": {},
   "outputs": [],
   "source": [
    "for i in range(4):\n",
    "    print(i)"
   ]
  },
  {
   "cell_type": "code",
   "execution_count": null,
   "metadata": {},
   "outputs": [],
   "source": [
    "for i in range(4):\n",
    "    print(\"I'll be a good student in class.\")"
   ]
  },
  {
   "cell_type": "code",
   "execution_count": null,
   "metadata": {},
   "outputs": [],
   "source": [
    "First_Names = ['BlueRay','Upchuck','Lojack','Gizmo']\n",
    "Full_Names = [];"
   ]
  },
  {
   "cell_type": "code",
   "execution_count": null,
   "metadata": {},
   "outputs": [],
   "source": [
    "Last_Names = ['Zzz','Burp','Dogbone','Droop']"
   ]
  },
  {
   "cell_type": "code",
   "execution_count": null,
   "metadata": {},
   "outputs": [],
   "source": [
    "for i in First_Names:\n",
    "    for j in Last_Names:\n",
    "        Full_Names.append(i +' '+ j)\n",
    "Full_Names"
   ]
  },
  {
   "cell_type": "code",
   "execution_count": null,
   "metadata": {},
   "outputs": [],
   "source": [
    "for i in range(4):\n",
    "    print(First_Names[i],Last_Names[i])"
   ]
  },
  {
   "cell_type": "code",
   "execution_count": null,
   "metadata": {},
   "outputs": [],
   "source": [
    "username = input('Enter your name: ')"
   ]
  },
  {
   "cell_type": "code",
   "execution_count": null,
   "metadata": {},
   "outputs": [],
   "source": [
    "print(username)"
   ]
  },
  {
   "cell_type": "code",
   "execution_count": null,
   "metadata": {},
   "outputs": [],
   "source": [
    "type(username)"
   ]
  },
  {
   "cell_type": "code",
   "execution_count": null,
   "metadata": {},
   "outputs": [],
   "source": [
    "num1 = int(input('Enter your num1: '))\n",
    "num2 = int(input('Enter your num2: '))\n",
    "num = num1 + num2\n",
    "print('Result:',num)\n",
    "# parsing: to convert str into integer"
   ]
  },
  {
   "cell_type": "code",
   "execution_count": null,
   "metadata": {},
   "outputs": [],
   "source": [
    "# Assignment No 1 to operate it in num1: 9 and num2: c\n",
    "num1 = input('Enter your num1: ')\n",
    "num2 = input('Enter your num2: ')\n",
    "try:\n",
    "    num1 = int(num1)\n",
    "    num2 = int(num2)\n",
    "    num = num1 + num2\n",
    "    print('Result:',num)\n",
    "except:\n",
    "    num = num1 + num2\n",
    "    print('Result:',num)"
   ]
  },
  {
   "cell_type": "code",
   "execution_count": null,
   "metadata": {},
   "outputs": [],
   "source": [
    "# Google Colab - Welcome to Colab then new notebook"
   ]
  },
  {
   "cell_type": "code",
   "execution_count": null,
   "metadata": {},
   "outputs": [],
   "source": [
    "# Assignment No 1 to operate it in num1: 9 and num2: c\n",
    "num1 = input('Enter your num1: ')\n",
    "num2 = input('Enter your num2: ')\n",
    "try:\n",
    "    num1 = int(num1)\n",
    "except:\n",
    "    num1 = num1\n",
    "try:\n",
    "    num2 = int(num2)\n",
    "    num = num1 + num2\n",
    "    print('Result:',num)\n",
    "except:\n",
    "    num2 = num2\n",
    "    num = num1 + num2\n",
    "    print('Result:',num)"
   ]
  },
  {
   "cell_type": "code",
   "execution_count": null,
   "metadata": {},
   "outputs": [],
   "source": [
    "psl_cities =['Karachi','Quetta','Islamabad','Peshawar','Multan','Lahore']\n",
    "city = input(\"Please input your city: \")\n",
    "city = city.title()\n",
    "for temp_city in psl_cities:\n",
    "    if temp_city == city:\n",
    "        print(\"Congratz you were the participant.\")\n",
    "        break\n",
    "    else:\n",
    "        print(\"Sorry Better Luck Next Time\")"
   ]
  },
  {
   "cell_type": "code",
   "execution_count": 15,
   "metadata": {},
   "outputs": [
    {
     "name": "stdout",
     "output_type": "stream",
     "text": [
      "Enter your num1: 9\n",
      "Enter your num2: 5\n",
      "Result: 14\n"
     ]
    }
   ],
   "source": [
    "# Assignment Completed\n",
    "# Assignment No 1 to operate it in num1: 9 and num2: c\n",
    "num1 = input('Enter your num1: ')\n",
    "num2 = input('Enter your num2: ')\n",
    "try:\n",
    "    num1 = int(num1)\n",
    "    num2 = int(num2)\n",
    "    num = num1 + num2\n",
    "    print('Result:',num)\n",
    "except:\n",
    "    num1 = str(num1)\n",
    "    num2 = num2\n",
    "    num = num1 + num2\n",
    "    print('Result:',num)"
   ]
  },
  {
   "cell_type": "code",
   "execution_count": 1,
   "metadata": {},
   "outputs": [
    {
     "name": "stdout",
     "output_type": "stream",
     "text": [
      "Please input your city: \n",
      "Sorry Better Luck Next Time.\n"
     ]
    }
   ],
   "source": [
    "# Task Completed\n",
    "psl_cities =['Karachi','Quetta','Islamabad','Peshawar','Multan','Lahore']\n",
    "city = input(\"Please input your city: \")\n",
    "city = city.title()\n",
    "a = 'Not Found'\n",
    "for i in range(5):\n",
    "    if psl_cities[i] == city:\n",
    "        a = 'Found' \n",
    "if a == 'Found':\n",
    "    print(\"Congratz you were the participant.\")\n",
    "else:\n",
    "    print(\"Sorry Better Luck Next Time.\")   "
   ]
  },
  {
   "cell_type": "code",
   "execution_count": 8,
   "metadata": {},
   "outputs": [],
   "source": [
    "# Dic\n",
    "contact_book = { \n",
    "    'umair' : '03323226899',\n",
    "    'ammar' : '03022689522'\n",
    "}"
   ]
  },
  {
   "cell_type": "code",
   "execution_count": 5,
   "metadata": {},
   "outputs": [
    {
     "name": "stdout",
     "output_type": "stream",
     "text": [
      "03022689522\n"
     ]
    }
   ],
   "source": [
    "print(contact_book['umair'])"
   ]
  },
  {
   "cell_type": "code",
   "execution_count": 9,
   "metadata": {},
   "outputs": [],
   "source": [
    "# How to add new key in dict\n",
    "contact_book['test'] = '03322'"
   ]
  },
  {
   "cell_type": "code",
   "execution_count": 12,
   "metadata": {},
   "outputs": [
    {
     "name": "stdout",
     "output_type": "stream",
     "text": [
      "{'umair': '03323226899', 'ammar': '03022689522'}\n"
     ]
    }
   ],
   "source": [
    "print(contact_book)"
   ]
  },
  {
   "cell_type": "code",
   "execution_count": 11,
   "metadata": {},
   "outputs": [],
   "source": [
    "del contact_book['test']"
   ]
  },
  {
   "cell_type": "code",
   "execution_count": 16,
   "metadata": {},
   "outputs": [],
   "source": [
    "Customer_Data ={'Mobile':'Samsung', 'Watch':'Casino', 'Car':'Honda'}"
   ]
  },
  {
   "cell_type": "code",
   "execution_count": 17,
   "metadata": {},
   "outputs": [],
   "source": [
    "# Add\n",
    "Customer_Data['Wallet'] = 'Horse'"
   ]
  },
  {
   "cell_type": "code",
   "execution_count": 18,
   "metadata": {},
   "outputs": [
    {
     "name": "stdout",
     "output_type": "stream",
     "text": [
      "{'Mobile': 'Samsung', 'Watch': 'Casino', 'Car': 'Honda', 'Wallet': 'Horse'}\n"
     ]
    }
   ],
   "source": [
    "print(Customer_Data)"
   ]
  },
  {
   "cell_type": "code",
   "execution_count": 20,
   "metadata": {},
   "outputs": [],
   "source": [
    "del Customer_Data['Watch']"
   ]
  },
  {
   "cell_type": "code",
   "execution_count": 22,
   "metadata": {},
   "outputs": [
    {
     "name": "stdout",
     "output_type": "stream",
     "text": [
      "{'Mobile': 'Samsung', 'Car': 'Honda', 'Wallet': 'Horse'}\n"
     ]
    }
   ],
   "source": [
    "print(Customer_Data)"
   ]
  },
  {
   "cell_type": "code",
   "execution_count": 26,
   "metadata": {},
   "outputs": [
    {
     "data": {
      "text/plain": [
       "dict_values(['Samsung', 'Honda', 'Horse'])"
      ]
     },
     "execution_count": 26,
     "metadata": {},
     "output_type": "execute_result"
    }
   ],
   "source": [
    "Customer_Data.values()"
   ]
  },
  {
   "cell_type": "code",
   "execution_count": 27,
   "metadata": {},
   "outputs": [
    {
     "data": {
      "text/plain": [
       "dict_keys(['Mobile', 'Car', 'Wallet'])"
      ]
     },
     "execution_count": 27,
     "metadata": {},
     "output_type": "execute_result"
    }
   ],
   "source": [
    "Customer_Data.keys()"
   ]
  },
  {
   "cell_type": "code",
   "execution_count": 28,
   "metadata": {},
   "outputs": [
    {
     "data": {
      "text/plain": [
       "dict_items([('Mobile', 'Samsung'), ('Car', 'Honda'), ('Wallet', 'Horse')])"
      ]
     },
     "execution_count": 28,
     "metadata": {},
     "output_type": "execute_result"
    }
   ],
   "source": [
    "Customer_Data.items()"
   ]
  },
  {
   "cell_type": "code",
   "execution_count": 29,
   "metadata": {},
   "outputs": [
    {
     "name": "stdout",
     "output_type": "stream",
     "text": [
      "03323226899\n",
      "03022689522\n"
     ]
    }
   ],
   "source": [
    "for temp in contact_book.values():\n",
    "    print(temp)"
   ]
  },
  {
   "cell_type": "code",
   "execution_count": 30,
   "metadata": {},
   "outputs": [
    {
     "name": "stdout",
     "output_type": "stream",
     "text": [
      "umair\n",
      "ammar\n"
     ]
    }
   ],
   "source": [
    "for temp in contact_book.keys():\n",
    "    print(temp)"
   ]
  },
  {
   "cell_type": "code",
   "execution_count": 33,
   "metadata": {},
   "outputs": [
    {
     "name": "stdout",
     "output_type": "stream",
     "text": [
      "('umair', '03323226899')\n",
      "('ammar', '03022689522')\n"
     ]
    }
   ],
   "source": [
    "for temp in contact_book.items():\n",
    "    print(temp)"
   ]
  },
  {
   "cell_type": "code",
   "execution_count": 34,
   "metadata": {},
   "outputs": [
    {
     "name": "stdout",
     "output_type": "stream",
     "text": [
      "umair 03323226899\n",
      "ammar 03022689522\n"
     ]
    }
   ],
   "source": [
    "for key,value in contact_book.items():\n",
    "    print(key,value)"
   ]
  },
  {
   "cell_type": "code",
   "execution_count": 5,
   "metadata": {},
   "outputs": [
    {
     "name": "stdout",
     "output_type": "stream",
     "text": [
      "Enter Your Username: A\n",
      "Enter Your Contact Number: S\n",
      "Enter Your Email Address: S\n",
      "[{'username': 'A', 'number': 'S', 'email': 'S'}]\n"
     ]
    }
   ],
   "source": [
    "username = input('Enter Your Username: ')\n",
    "number = input('Enter Your Contact Number: ')\n",
    "email = input('Enter Your Email Address: ')\n",
    "\n",
    "temp_dict = {}\n",
    "\n",
    "temp_dict['username'] = username\n",
    "temp_dict['number'] = number\n",
    "temp_dict['email'] = email\n",
    "\n",
    "customers =[]\n",
    "customers.append(temp_dict)\n",
    "print(customers)"
   ]
  },
  {
   "cell_type": "code",
   "execution_count": 6,
   "metadata": {},
   "outputs": [],
   "source": [
    "customers =[]"
   ]
  },
  {
   "cell_type": "code",
   "execution_count": 7,
   "metadata": {},
   "outputs": [
    {
     "name": "stdout",
     "output_type": "stream",
     "text": [
      "Enter Your Username: A\n",
      "Enter Your Contact Number: A\n",
      "Enter Your Email Address: A\n",
      "[{'username': 'A', 'number': 'S', 'email': 'S'}, {'username': 'A', 'number': 'S', 'email': 'S'}, {'username': 'A', 'number': 'A', 'email': 'A'}]\n"
     ]
    }
   ],
   "source": [
    "username = input('Enter Your Username: ')\n",
    "number = input('Enter Your Contact Number: ')\n",
    "email = input('Enter Your Email Address: ')\n",
    "\n",
    "temp_dict = {}\n",
    "\n",
    "temp_dict['username'] = username\n",
    "temp_dict['number'] = number\n",
    "temp_dict['email'] = email\n",
    "\n",
    "customers.append(temp_dict)\n",
    "print(customers)"
   ]
  },
  {
   "cell_type": "code",
   "execution_count": 17,
   "metadata": {},
   "outputs": [],
   "source": [
    "customers[0]['email'] = 'asadanwqar'"
   ]
  },
  {
   "cell_type": "code",
   "execution_count": 18,
   "metadata": {},
   "outputs": [
    {
     "name": "stdout",
     "output_type": "stream",
     "text": [
      "[{'username': 'a', 'number': 's', 'email': 'asadanwqar'}, {'username': 's', 'number': 'f', 'email': 'w'}]\n"
     ]
    }
   ],
   "source": [
    "print(customers)"
   ]
  },
  {
   "cell_type": "code",
   "execution_count": 19,
   "metadata": {},
   "outputs": [],
   "source": [
    "del customers[0]['email']"
   ]
  },
  {
   "cell_type": "code",
   "execution_count": 20,
   "metadata": {},
   "outputs": [
    {
     "name": "stdout",
     "output_type": "stream",
     "text": [
      "[{'username': 'a', 'number': 's'}, {'username': 's', 'number': 'f', 'email': 'w'}]\n"
     ]
    }
   ],
   "source": [
    "print(customers)"
   ]
  },
  {
   "cell_type": "code",
   "execution_count": 21,
   "metadata": {},
   "outputs": [
    {
     "data": {
      "text/plain": [
       "2"
      ]
     },
     "execution_count": 21,
     "metadata": {},
     "output_type": "execute_result"
    }
   ],
   "source": [
    "len(customers)"
   ]
  },
  {
   "cell_type": "code",
   "execution_count": 23,
   "metadata": {},
   "outputs": [
    {
     "data": {
      "text/plain": [
       "3"
      ]
     },
     "execution_count": 23,
     "metadata": {},
     "output_type": "execute_result"
    }
   ],
   "source": [
    "len(customers[1])"
   ]
  },
  {
   "cell_type": "code",
   "execution_count": 25,
   "metadata": {},
   "outputs": [],
   "source": [
    "customer_29876 = {\n",
    "\"first name\": \"David\",\n",
    "\"last name\": \"Elliott\",\n",
    "\"address\": \"4803 Wellesley St.\"\n",
    "}\n"
   ]
  },
  {
   "cell_type": "code",
   "execution_count": 26,
   "metadata": {},
   "outputs": [],
   "source": [
    "customer_29876['Contact'] = ['3364','3378','3916']"
   ]
  },
  {
   "cell_type": "code",
   "execution_count": 32,
   "metadata": {},
   "outputs": [
    {
     "data": {
      "text/plain": [
       "'3378'"
      ]
     },
     "execution_count": 32,
     "metadata": {},
     "output_type": "execute_result"
    }
   ],
   "source": [
    "customer_29876['Contact'][1]"
   ]
  },
  {
   "cell_type": "code",
   "execution_count": 33,
   "metadata": {},
   "outputs": [],
   "source": [
    "customers = [\n",
    "{\n",
    "\"customer id\": 0,\n",
    "\"first name\":\"John\",\n",
    "\"last name\": \"Ogden\",\n",
    "\"address\": \"301 Arbor Rd.\",\n",
    "},\n",
    "{\n",
    "\"customer id\": 1,\n",
    "\"first name\":\"Ann\",\n",
    "\"last name\": \"Sattermyer\",\n",
    "\"address\": \"PO Box 1145\",\n",
    "},\n",
    "{\n",
    "\"customer id\": 2,\n",
    "\"first name\":\"Jill\",\n",
    "\"last name\": \"Somers\",\n",
    "\"address\": \"3 Main St.\",\n",
    "},\n",
    "]\n"
   ]
  },
  {
   "cell_type": "code",
   "execution_count": 44,
   "metadata": {},
   "outputs": [],
   "source": [
    "dict_customers = {}"
   ]
  },
  {
   "cell_type": "code",
   "execution_count": 53,
   "metadata": {},
   "outputs": [
    {
     "name": "stdout",
     "output_type": "stream",
     "text": [
      "Enter Your Username: S\n",
      "Enter Your Contact Number: S\n",
      "Enter Your Email Address: A\n"
     ]
    }
   ],
   "source": [
    "username = input('Enter Your Username: ')\n",
    "number = input('Enter Your Contact Number: ')\n",
    "email = input('Enter Your Email Address: ')\n",
    "\n",
    "temp_dict = {}\n",
    "\n",
    "temp_dict['username'] = username\n",
    "temp_dict['number'] = number\n",
    "temp_dict['email'] = email\n",
    "\n",
    "dict_customers[email] = temp_dict\n",
    "# customers =[]\n",
    "# customers.append(temp_dict)\n",
    "# print(customers)"
   ]
  },
  {
   "cell_type": "code",
   "execution_count": 62,
   "metadata": {},
   "outputs": [
    {
     "data": {
      "text/plain": [
       "'S'"
      ]
     },
     "execution_count": 62,
     "metadata": {},
     "output_type": "execute_result"
    }
   ],
   "source": [
    "dict_customers['A']['username']"
   ]
  },
  {
   "cell_type": "code",
   "execution_count": null,
   "metadata": {},
   "outputs": [],
   "source": [
    "x = int(input('Enter the value of x: '))\n",
    "y = int(input('Enter the value of y: '))\n",
    "if (x > 3 or (y % 2) == 0):\n",
    "    print('Atleast one of the conditions is satisfied')\n",
    "elif (x <= 3 and (y % 2) != 0):\n",
    "    print('Neither condition is satisfied')"
   ]
  },
  {
   "cell_type": "code",
   "execution_count": 11,
   "metadata": {},
   "outputs": [
    {
     "name": "stdout",
     "output_type": "stream",
     "text": [
      "1505\n",
      "1540\n",
      "1575\n",
      "1610\n",
      "1645\n",
      "1680\n",
      "1715\n",
      "1750\n",
      "1785\n",
      "1820\n",
      "1855\n",
      "1890\n",
      "1925\n",
      "1960\n",
      "1995\n",
      "2030\n",
      "2065\n",
      "2100\n",
      "2135\n",
      "2170\n",
      "2205\n",
      "2240\n",
      "2275\n",
      "2310\n",
      "2345\n",
      "2380\n",
      "2415\n",
      "2450\n",
      "2485\n",
      "2520\n",
      "2555\n",
      "2590\n",
      "2625\n",
      "2660\n",
      "2695\n"
     ]
    }
   ],
   "source": [
    "for y in range(1500,2701):\n",
    "    if (y % 7 == 0 and y % 5 == 0):\n",
    "            print(y)"
   ]
  },
  {
   "cell_type": "code",
   "execution_count": 15,
   "metadata": {},
   "outputs": [
    {
     "name": "stdout",
     "output_type": "stream",
     "text": [
      "10\n"
     ]
    }
   ],
   "source": [
    "numbers =[1,2,3,4,5,6,7,8,9]\n",
    "i = 0\n",
    "for i in numbers:\n",
    "    i = i + 1\n",
    "print(i)"
   ]
  },
  {
   "cell_type": "code",
   "execution_count": 33,
   "metadata": {},
   "outputs": [
    {
     "data": {
      "text/plain": [
       "45"
      ]
     },
     "execution_count": 33,
     "metadata": {},
     "output_type": "execute_result"
    }
   ],
   "source": [
    "a = 0\n",
    "i = 0\n",
    "for i in range(1,10):\n",
    "    a = a + i\n",
    "a"
   ]
  },
  {
   "cell_type": "code",
   "execution_count": 3,
   "metadata": {},
   "outputs": [
    {
     "name": "stdout",
     "output_type": "stream",
     "text": [
      "Enter a word: a\n",
      "a\n"
     ]
    }
   ],
   "source": [
    "# Slicing a word\n",
    "word = input('Enter a word: ')\n",
    "print(word[::-1])"
   ]
  },
  {
   "cell_type": "code",
   "execution_count": 7,
   "metadata": {},
   "outputs": [
    {
     "name": "stdout",
     "output_type": "stream",
     "text": [
      "[9, 8, 7, 6, 5, 4, 3, 2, 1]\n"
     ]
    }
   ],
   "source": [
    "# Slicing a number\n",
    "numbers =[1,2,3,4,5,6,7,8,9]\n",
    "print(numbers[::-1])"
   ]
  },
  {
   "cell_type": "code",
   "execution_count": 14,
   "metadata": {},
   "outputs": [
    {
     "name": "stdout",
     "output_type": "stream",
     "text": [
      "1\n",
      "2\n",
      "3 Fizz\n",
      "4\n",
      "5 Buzz\n",
      "6 Fizz\n",
      "7\n",
      "8\n",
      "9 Fizz\n",
      "10 Buzz\n",
      "11\n",
      "12 Fizz\n",
      "13\n",
      "14\n",
      "15 FizzBuzz\n",
      "16\n",
      "17\n",
      "18 Fizz\n",
      "19\n",
      "20 Buzz\n",
      "21 Fizz\n",
      "22\n",
      "23\n",
      "24 Fizz\n",
      "25 Buzz\n",
      "26\n",
      "27 Fizz\n",
      "28\n",
      "29\n",
      "30 FizzBuzz\n",
      "31\n",
      "32\n",
      "33 Fizz\n",
      "34\n",
      "35 Buzz\n",
      "36 Fizz\n",
      "37\n",
      "38\n",
      "39 Fizz\n",
      "40 Buzz\n",
      "41\n",
      "42 Fizz\n",
      "43\n",
      "44\n",
      "45 FizzBuzz\n",
      "46\n",
      "47\n",
      "48 Fizz\n",
      "49\n",
      "50 Buzz\n"
     ]
    }
   ],
   "source": [
    "for i in range(1,51):\n",
    "    if i % 3 == 0 and i % 5 == 0:\n",
    "        print(i, 'FizzBuzz')\n",
    "    elif i % 5 == 0:\n",
    "        print(i, 'Buzz')\n",
    "    elif i % 3 == 0:\n",
    "        print(i, 'Fizz')\n",
    "    else:\n",
    "        print(i)"
   ]
  },
  {
   "cell_type": "code",
   "execution_count": 20,
   "metadata": {},
   "outputs": [
    {
     "name": "stdout",
     "output_type": "stream",
     "text": [
      "3 Fizz\n",
      "5 Buzz\n",
      "6 Fizz\n",
      "9 Fizz\n",
      "10 Buzz\n",
      "12 Fizz\n",
      "15 FizzBuzz\n",
      "18 Fizz\n",
      "20 Buzz\n",
      "21 Fizz\n",
      "24 Fizz\n",
      "25 Buzz\n",
      "27 Fizz\n",
      "30 FizzBuzz\n",
      "33 Fizz\n",
      "35 Buzz\n",
      "36 Fizz\n",
      "39 Fizz\n",
      "40 Buzz\n",
      "42 Fizz\n",
      "45 FizzBuzz\n",
      "48 Fizz\n",
      "50 Buzz\n"
     ]
    }
   ],
   "source": [
    "for i in range(1,51):\n",
    "    if i % 3 == 0 and i % 5 == 0:\n",
    "        print(i, 'FizzBuzz')\n",
    "        continue\n",
    "    if i % 5 == 0:\n",
    "        print(i, 'Buzz')\n",
    "#         continue\n",
    "    if i % 3 == 0:\n",
    "        print(i, 'Fizz')"
   ]
  },
  {
   "cell_type": "code",
   "execution_count": 5,
   "metadata": {},
   "outputs": [],
   "source": [
    "def add_numbers():\n",
    "    first_number = 2\n",
    "    second_number = 3\n",
    "    total = first_number + second_number\n",
    "    print(total)\n"
   ]
  },
  {
   "cell_type": "code",
   "execution_count": 21,
   "metadata": {},
   "outputs": [
    {
     "name": "stdout",
     "output_type": "stream",
     "text": [
      "1 \n",
      "1 2 \n",
      "1 2 3 \n",
      "1 2 3 4 \n",
      "1 2 3 4 5 \n"
     ]
    }
   ],
   "source": [
    "for i in range(1,6):\n",
    "    for j in range(i):\n",
    "        print(j+1, end = \" \")\n",
    "    print()\n",
    "        "
   ]
  },
  {
   "cell_type": "code",
   "execution_count": 23,
   "metadata": {},
   "outputs": [
    {
     "name": "stdout",
     "output_type": "stream",
     "text": [
      "5 \n",
      "5 4 \n",
      "5 4 3 \n",
      "5 4 3 2 \n",
      "5 4 3 2 1 \n"
     ]
    }
   ],
   "source": [
    "for i in range(1,6):\n",
    "    for j in range(i):\n",
    "        print(-j+5, end = \" \")\n",
    "    print()"
   ]
  },
  {
   "cell_type": "code",
   "execution_count": 47,
   "metadata": {},
   "outputs": [
    {
     "name": "stdout",
     "output_type": "stream",
     "text": [
      "1 \n",
      "1 2 \n",
      "1 2 3 \n",
      "1 2 3 4 \n",
      "1 2 3 4 5 \n",
      "1 2 3 4 5 \n",
      "1 2 3 4 \n",
      "1 2 3 \n",
      "1 2 \n",
      "1 \n"
     ]
    }
   ],
   "source": [
    "for i in range(1,6):\n",
    "    for j in range(i):\n",
    "        print(j+1, end = \" \")\n",
    "    print()\n",
    "for i in range(5,0,-1):\n",
    "    for j in range(i):\n",
    "        print(j+1, end = \" \")\n",
    "    print()"
   ]
  },
  {
   "cell_type": "code",
   "execution_count": 48,
   "metadata": {},
   "outputs": [
    {
     "name": "stdout",
     "output_type": "stream",
     "text": [
      "1 \n",
      "1 2 \n",
      "1 2 3 \n",
      "1 2 3 4 \n",
      "1 2 3 4 5 \n",
      "1 2 3 4 \n",
      "1 2 3 \n",
      "1 2 \n",
      "1 \n"
     ]
    }
   ],
   "source": [
    "for i in range(1,6):\n",
    "    for j in range(i):\n",
    "        print(j+1, end = \" \")\n",
    "    print()\n",
    "for i in range(4,0,-1):\n",
    "    for j in range(i):\n",
    "        print(j+1, end = \" \")\n",
    "    print()"
   ]
  },
  {
   "cell_type": "markdown",
   "metadata": {},
   "source": [
    "## Functions<br>\n",
    "1- Take nothing return nothing.\n",
    "2- Take nothing return something.\n",
    "3- Take something return nothing.\n",
    "4- Take something return something."
   ]
  },
  {
   "cell_type": "code",
   "execution_count": 6,
   "metadata": {},
   "outputs": [],
   "source": [
    "def add_two_numbers():\n",
    "    print(2+3)"
   ]
  },
  {
   "cell_type": "code",
   "execution_count": 7,
   "metadata": {},
   "outputs": [
    {
     "name": "stdout",
     "output_type": "stream",
     "text": [
      "5\n"
     ]
    }
   ],
   "source": [
    "add_two_numbers()"
   ]
  },
  {
   "cell_type": "code",
   "execution_count": 17,
   "metadata": {},
   "outputs": [],
   "source": [
    "def add_numbers(first_number, second_number):\n",
    "    total = first_number + second_number\n",
    "    print(total)"
   ]
  },
  {
   "cell_type": "code",
   "execution_count": 18,
   "metadata": {},
   "outputs": [],
   "source": [
    "def sub_numbers(first_number, second_number):\n",
    "    total = first_number - second_number\n",
    "    print(total)"
   ]
  },
  {
   "cell_type": "code",
   "execution_count": 19,
   "metadata": {},
   "outputs": [],
   "source": [
    "def multiply_numbers(first_number, second_number):\n",
    "    total = first_number * second_number\n",
    "    print(total)"
   ]
  },
  {
   "cell_type": "code",
   "execution_count": 20,
   "metadata": {},
   "outputs": [],
   "source": [
    "def divide_numbers(first_number, second_number):\n",
    "    total = first_number / second_number\n",
    "    print(total)"
   ]
  },
  {
   "cell_type": "code",
   "execution_count": 21,
   "metadata": {},
   "outputs": [
    {
     "name": "stdout",
     "output_type": "stream",
     "text": [
      "15\n"
     ]
    }
   ],
   "source": [
    "add_numbers(7, 8)"
   ]
  },
  {
   "cell_type": "code",
   "execution_count": null,
   "metadata": {},
   "outputs": [],
   "source": [
    "sub_numbers(7, 8)"
   ]
  },
  {
   "cell_type": "code",
   "execution_count": 23,
   "metadata": {},
   "outputs": [
    {
     "name": "stdout",
     "output_type": "stream",
     "text": [
      "40\n"
     ]
    }
   ],
   "source": [
    "multiply_numbers(8, 5)"
   ]
  },
  {
   "cell_type": "code",
   "execution_count": null,
   "metadata": {},
   "outputs": [],
   "source": [
    "divide_numbers(10, 5)"
   ]
  },
  {
   "cell_type": "code",
   "execution_count": 25,
   "metadata": {},
   "outputs": [],
   "source": [
    "n = 0\n",
    "def guess_number(a):\n",
    "    while(n>0):\n",
    "        print('dsd')"
   ]
  },
  {
   "cell_type": "code",
   "execution_count": 10,
   "metadata": {},
   "outputs": [],
   "source": [
    "import random"
   ]
  },
  {
   "cell_type": "code",
   "execution_count": 11,
   "metadata": {},
   "outputs": [
    {
     "data": {
      "text/plain": [
       "<module 'random' from 'C:\\\\Users\\\\lab5.DESKTOP-LTE7OJF\\\\anaconda3\\\\lib\\\\random.py'>"
      ]
     },
     "execution_count": 11,
     "metadata": {},
     "output_type": "execute_result"
    }
   ],
   "source": [
    "random"
   ]
  },
  {
   "cell_type": "code",
   "execution_count": 12,
   "metadata": {},
   "outputs": [],
   "source": [
    "def return_random_number():\n",
    "    number = random.randint(0,10)\n",
    "    return number"
   ]
  },
  {
   "cell_type": "code",
   "execution_count": 13,
   "metadata": {},
   "outputs": [
    {
     "name": "stdout",
     "output_type": "stream",
     "text": [
      "9\n"
     ]
    }
   ],
   "source": [
    "number = return_random_number()\n",
    "print(number)"
   ]
  },
  {
   "cell_type": "code",
   "execution_count": 19,
   "metadata": {},
   "outputs": [
    {
     "name": "stdout",
     "output_type": "stream",
     "text": [
      "Please enter a number: 1\n",
      "Sorry but Try again if you are still curious :p\n",
      "Please enter a number: 2\n",
      "Sorry but Try again if you are still curious :p\n",
      "Please enter a number: 3\n",
      "Sorry but Try again if you are still curious :p\n",
      "Please enter a number: 4\n",
      "Sorry but Try again if you are still curious :p\n",
      "Please enter a number: 5\n",
      "Sorry but Try again if you are still curious :p\n",
      "Please enter a number: 6\n",
      "Sorry but Try again if you are still curious :p\n",
      "Please enter a number: 7\n",
      "Sorry but Try again if you are still curious :p\n",
      "Please enter a number: 8\n",
      "Sorry but Try again if you are still curious :p\n",
      "Please enter a number: 9\n",
      "Sorry but Try again if you are still curious :p\n",
      "Please enter a number: 10\n",
      "Congrats! You Guessed the correct number\n"
     ]
    }
   ],
   "source": [
    "x = 1\n",
    "number = return_random_number()\n",
    "while x<11:\n",
    "    num = int(input('Please enter a number: '))\n",
    "    if num == number:\n",
    "        print('Congrats! You Guessed the correct number')\n",
    "        break\n",
    "    else:\n",
    "        print('Sorry but Try again if you are still curious :p')\n",
    "        x= x + 1"
   ]
  },
  {
   "cell_type": "code",
   "execution_count": 2,
   "metadata": {},
   "outputs": [],
   "source": [
    "def add_two_numbers(num1,num2):\n",
    "    x = (num1 + num2)\n",
    "    return x\n",
    "def sub_two_numbers(num1,num2):\n",
    "    x = (num1 - num2)\n",
    "    return x\n",
    "def multiply_two_numbers(num1,num2):\n",
    "    x = (num1 * num2)\n",
    "    return x\n",
    "def divide_two_numbers(num1,num2):\n",
    "    x = (num1 / num2)\n",
    "    return x"
   ]
  },
  {
   "cell_type": "code",
   "execution_count": 23,
   "metadata": {},
   "outputs": [
    {
     "name": "stdout",
     "output_type": "stream",
     "text": [
      "Please enter number1: 1\n",
      "Please enter number2: 2\n",
      "3\n"
     ]
    }
   ],
   "source": [
    "num1 = int(input('Please enter number1: '))\n",
    "num2 = int(input('Please enter number2: '))\n",
    "x = add_two_numbers(num1,num2)\n",
    "print(x)"
   ]
  },
  {
   "cell_type": "code",
   "execution_count": 25,
   "metadata": {},
   "outputs": [
    {
     "name": "stdout",
     "output_type": "stream",
     "text": [
      "Please enter number1: 5\n",
      "Please enter number2: 3\n",
      "2\n"
     ]
    }
   ],
   "source": [
    "num1 = int(input('Please enter number1: '))\n",
    "num2 = int(input('Please enter number2: '))\n",
    "x = sub_two_numbers(num1,num2)\n",
    "print(x)"
   ]
  },
  {
   "cell_type": "code",
   "execution_count": 3,
   "metadata": {},
   "outputs": [
    {
     "name": "stdout",
     "output_type": "stream",
     "text": [
      "Please enter number1: 2\n",
      "Please enter number2: 3\n",
      "6\n"
     ]
    }
   ],
   "source": [
    "num1 = int(input('Please enter number1: '))\n",
    "num2 = int(input('Please enter number2: '))\n",
    "x = multiply_two_numbers(num1,num2)\n",
    "print(x)"
   ]
  },
  {
   "cell_type": "code",
   "execution_count": 4,
   "metadata": {},
   "outputs": [
    {
     "name": "stdout",
     "output_type": "stream",
     "text": [
      "Please enter number1: 10\n",
      "Please enter number2: 5\n",
      "2.0\n"
     ]
    }
   ],
   "source": [
    "num1 = int(input('Please enter number1: '))\n",
    "num2 = int(input('Please enter number2: '))\n",
    "x = divide_two_numbers(num1,num2)\n",
    "print(x)"
   ]
  },
  {
   "cell_type": "code",
   "execution_count": null,
   "metadata": {},
   "outputs": [],
   "source": [
    "posiitonal Arguments\n",
    "Default/fixed/keywords Arguments\n",
    "Arbitary Arguments"
   ]
  },
  {
   "cell_type": "code",
   "execution_count": 12,
   "metadata": {},
   "outputs": [],
   "source": [
    "def calc_tax(total_amount,tax_ratio = 0.08):\n",
    "    result = total_amount * tax_ratio\n",
    "    total_price = result + total_amount\n",
    "    print(total_price)"
   ]
  },
  {
   "cell_type": "code",
   "execution_count": 14,
   "metadata": {},
   "outputs": [
    {
     "name": "stdout",
     "output_type": "stream",
     "text": [
      "1272.0\n"
     ]
    }
   ],
   "source": [
    "calc_tax(1200,0.06)"
   ]
  },
  {
   "cell_type": "code",
   "execution_count": 15,
   "metadata": {},
   "outputs": [
    {
     "name": "stdout",
     "output_type": "stream",
     "text": [
      "1320.0\n"
     ]
    }
   ],
   "source": [
    "calc_tax(tax_ratio = 0.1, total_amount = 1200)"
   ]
  },
  {
   "cell_type": "markdown",
   "metadata": {},
   "source": [
    "**Functions: Dealing with an unknown number of arguments**"
   ]
  },
  {
   "cell_type": "code",
   "execution_count": 4,
   "metadata": {},
   "outputs": [],
   "source": [
    "def display_result(pizza_type, pizza_flavor, **other_info):\n",
    "    print(\"Your selected pizza flavor is\",pizza_flavor)\n",
    "    print(\"Your selected pizza type is\",pizza_type)\n",
    "    for i, j in other_info.items():\n",
    "        print(\"Your selected\",i,\"is\",j)"
   ]
  },
  {
   "cell_type": "code",
   "execution_count": 5,
   "metadata": {},
   "outputs": [
    {
     "name": "stdout",
     "output_type": "stream",
     "text": [
      "Your selected pizza flavor is Afghani Feast\n",
      "Your selected pizza type is Extra Large\n",
      "Your selected topping1 is Cheese\n",
      "Your selected topping2 is olive\n",
      "Your selected colddrink is miranda\n"
     ]
    }
   ],
   "source": [
    "display_result('Extra Large','Afghani Feast', topping1 ='Cheese',topping2 ='olive', colddrink ='miranda')"
   ]
  },
  {
   "cell_type": "code",
   "execution_count": 6,
   "metadata": {},
   "outputs": [
    {
     "name": "stdout",
     "output_type": "stream",
     "text": [
      "Your selected pizza flavor is Afghani Feast\n",
      "Your selected pizza type is Extra Large\n"
     ]
    }
   ],
   "source": [
    "display_result('Extra Large','Afghani Feast')"
   ]
  },
  {
   "cell_type": "code",
   "execution_count": 14,
   "metadata": {},
   "outputs": [],
   "source": [
    "def display_nums(first_num, second_num,*opt_nums):\n",
    "    print(first_num)\n",
    "    print(second_num)\n",
    "    print(opt_nums[0])\n",
    "    print(opt_nums[1])\n",
    "    print(opt_nums[2])"
   ]
  },
  {
   "cell_type": "code",
   "execution_count": 15,
   "metadata": {},
   "outputs": [
    {
     "name": "stdout",
     "output_type": "stream",
     "text": [
      "100\n",
      "200\n",
      "300\n",
      "400\n",
      "500\n"
     ]
    }
   ],
   "source": [
    "display_nums(100, 200, 300, 400, 500)"
   ]
  },
  {
   "cell_type": "code",
   "execution_count": 16,
   "metadata": {},
   "outputs": [],
   "source": [
    "def add_numbers(num1,num2,*numbers):\n",
    "    result = num1 + num2\n",
    "    for i in numbers:\n",
    "        result += i \n",
    "    print(result)"
   ]
  },
  {
   "cell_type": "code",
   "execution_count": 18,
   "metadata": {},
   "outputs": [
    {
     "name": "stdout",
     "output_type": "stream",
     "text": [
      "46\n"
     ]
    }
   ],
   "source": [
    "add_numbers(7,8,9,7,5,6,4)"
   ]
  },
  {
   "cell_type": "code",
   "execution_count": 29,
   "metadata": {},
   "outputs": [],
   "source": [
    "def sub_numbers(num1,num2,*numbers):\n",
    "    result = num1 - num2\n",
    "    for i in numbers:\n",
    "        result -= i \n",
    "    return result"
   ]
  },
  {
   "cell_type": "code",
   "execution_count": 30,
   "metadata": {},
   "outputs": [],
   "source": [
    "x = sub_numbers(100,8,9,7,5,6,4,5,6,4)"
   ]
  },
  {
   "cell_type": "code",
   "execution_count": null,
   "metadata": {},
   "outputs": [],
   "source": [
    "print(x)"
   ]
  },
  {
   "cell_type": "code",
   "execution_count": null,
   "metadata": {},
   "outputs": [],
   "source": [
    "user_input = ''\n",
    "while user_input != 'q':\n",
    "    user_input=input(\"Please enter a number, or q to quit: \")\n",
    "    if user_input == 'q':\n",
    "        print(\"your program is terminated\")       \n",
    "    else:\n",
    "        print(user_input)"
   ]
  },
  {
   "cell_type": "code",
   "execution_count": 4,
   "metadata": {},
   "outputs": [
    {
     "name": "stdout",
     "output_type": "stream",
     "text": [
      "Press q to terminate the program or press another key to resume: 4\n",
      "Please enter a number1: 5\n",
      "Please enter a number2: 6\n",
      "11\n",
      "Press q to terminate the program or press another key to resume: 7\n",
      "Please enter a number1: 8\n",
      "Please enter a number2: 9\n",
      "17\n",
      "Press q to terminate the program or press another key to resume: q\n",
      "your program is terminated.\n"
     ]
    }
   ],
   "source": [
    "user_input = ''\n",
    "while user_input != 'q':\n",
    "    user_input = input(\"Press q to terminate the program or press another key to resume: \")\n",
    "    if user_input == 'q':\n",
    "        print(\"your program is terminated.\")\n",
    "    else:\n",
    "        user_input1 = int(input(\"Please enter a number1: \"))\n",
    "        user_input2 = int(input(\"Please enter a number2: \"))\n",
    "        print(user_input1 + user_input2)"
   ]
  },
  {
   "cell_type": "code",
   "execution_count": 1,
   "metadata": {},
   "outputs": [],
   "source": [
    "customers =[]"
   ]
  },
  {
   "cell_type": "code",
   "execution_count": null,
   "metadata": {},
   "outputs": [
    {
     "name": "stdout",
     "output_type": "stream",
     "text": [
      "Enter your name: Asad\n",
      "Enter your father name: Anwar\n",
      "Enter your age: 28\n",
      "Enter your city: Karachi\n",
      "Enter your country: Pakistan\n",
      "Enter your gender: Male\n",
      "Enter your CNIC: 42201-1035011-8\n",
      "Please mention total number of family members: 8\n",
      "[{'Name': 'Asad', 'FatherName': 'Anwar', 'Age': '28', 'City': 'Karachi', 'Country': 'Pakistan', 'Gender': 'Male', 'CNIC': '42201-1035011-8', 'Family_Members': '8'}]\n"
     ]
    }
   ],
   "source": [
    "user_input = ''\n",
    "while user_input != 'q':\n",
    "    Name = input('Enter your name: ')\n",
    "    FatherName = input('Enter your father name: ')\n",
    "    Age = input(\"Enter your age: \")\n",
    "    City = input(\"Enter your city: \")\n",
    "    Country = input(\"Enter your country: \")\n",
    "    Gender = input('Enter your gender: ')\n",
    "    CNIC = input('Enter your CNIC: ')\n",
    "    Family_Members = input(\"Please mention total number of family members: \")\n",
    "    temp_dict = {}\n",
    "    temp_dict['Name'] = Name\n",
    "    temp_dict['FatherName'] = FatherName\n",
    "    temp_dict['Age'] = Age \n",
    "    temp_dict['City'] = City\n",
    "    temp_dict['Country'] = Country\n",
    "    temp_dict['Gender'] = Gender\n",
    "    temp_dict['CNIC'] = CNIC\n",
    "    temp_dict['Family_Members'] = Family_Members   \n",
    "    \n",
    "    customers.append(temp_dict)\n",
    "    print(customers)\n",
    "    user_input = input('Press q to terminate the program: ')"
   ]
  },
  {
   "cell_type": "code",
   "execution_count": 3,
   "metadata": {},
   "outputs": [
    {
     "name": "stdout",
     "output_type": "stream",
     "text": [
      "[{'Name': 'a', 'FatherName': 'a', 'Age': 'a', 'City': 'a', 'Country': 'a', 'Gender': 'a', 'CNIC': 'a', 'Family_Members': 'a'}, {'Name': 'b', 'FatherName': 'b', 'Age': 'b', 'City': 'b', 'Country': 'b', 'Gender': 'b', 'CNIC': 'b', 'Family_Members': 'b'}, {'Name': 'v', 'FatherName': 'v', 'Age': 'v', 'City': 'v', 'Country': 'v', 'Gender': 'v', 'CNIC': 'v', 'Family_Members': 'v'}, {'Name': 'd', 'FatherName': 'd', 'Age': 'd', 'City': 'd', 'Country': 'd', 'Gender': 'd', 'CNIC': 'd', 'Family_Members': 'd'}, {'Name': 'e', 'FatherName': 'e', 'Age': 'e', 'City': 'e', 'Country': 'e', 'Gender': 'e', 'CNIC': 'e', 'Family_Members': 'e'}, {'Name': 'f', 'FatherName': 'f', 'Age': 'f', 'City': 'f', 'Country': 'f', 'Gender': 'f', 'CNIC': 'f', 'Family_Members': 'f'}, {'Name': 'g', 'FatherName': 'g', 'Age': 'g', 'City': 'g', 'Country': 'g', 'Gender': 'g', 'CNIC': 'g', 'Family_Members': 'g'}, {'Name': 'h', 'FatherName': 'h', 'Age': 'h', 'City': 'h', 'Country': 'h', 'Gender': 'h', 'CNIC': 'h', 'Family_Members': 'h'}, {'Name': 'i', 'FatherName': 'i', 'Age': 'i', 'City': 'i', 'Country': 'i', 'Gender': 'i', 'CNIC': 'i', 'Family_Members': 'i'}, {'Name': 'j', 'FatherName': 'j', 'Age': 'j', 'City': 'j', 'Country': 'j', 'Gender': 'j', 'CNIC': 'j', 'Family_Members': 'j'}]\n"
     ]
    }
   ],
   "source": [
    "print(customers)"
   ]
  },
  {
   "cell_type": "code",
   "execution_count": null,
   "metadata": {},
   "outputs": [],
   "source": []
  }
 ],
 "metadata": {
  "kernelspec": {
   "display_name": "Python 3",
   "language": "python",
   "name": "python3"
  },
  "language_info": {
   "codemirror_mode": {
    "name": "ipython",
    "version": 3
   },
   "file_extension": ".py",
   "mimetype": "text/x-python",
   "name": "python",
   "nbconvert_exporter": "python",
   "pygments_lexer": "ipython3",
   "version": "3.8.8"
  }
 },
 "nbformat": 4,
 "nbformat_minor": 2
}
