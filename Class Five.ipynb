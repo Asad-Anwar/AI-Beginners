{
 "cells": [
  {
   "cell_type": "code",
   "execution_count": null,
   "metadata": {},
   "outputs": [],
   "source": [
    "psl_cities =['Karachi','Quetta','Islamabad','Peshawar','Multan','Lahore']"
   ]
  },
  {
   "cell_type": "code",
   "execution_count": null,
   "metadata": {},
   "outputs": [],
   "source": [
    "city = 'Multan'"
   ]
  },
  {
   "cell_type": "code",
   "execution_count": null,
   "metadata": {},
   "outputs": [],
   "source": [
    "if city == psl_cities[0]:\n",
    "    print(\"Winner\",psl_cities[0])\n",
    "elif city == psl_cities[1]:\n",
    "    print(\"Winner\",psl_cities[1])\n",
    "elif city == psl_cities[2]:\n",
    "    print(\"Winner\",psl_cities[2])\n",
    "elif city == psl_cities[3]:\n",
    "    print(\"Winner\",psl_cities[3])\n",
    "elif city == psl_cities[4]:\n",
    "    print(\"Winner\",psl_cities[4])\n",
    "elif city == psl_cities[5]:\n",
    "    print(\"Winner\",psl_cities[5])"
   ]
  },
  {
   "cell_type": "code",
   "execution_count": null,
   "metadata": {},
   "outputs": [],
   "source": [
    "for temp_city in psl_cities:\n",
    "    if temp_city == city:\n",
    "        print(\"Winner\",temp_city)"
   ]
  },
  {
   "cell_type": "code",
   "execution_count": null,
   "metadata": {},
   "outputs": [],
   "source": [
    "a = range(100)\n",
    "a"
   ]
  },
  {
   "cell_type": "code",
   "execution_count": null,
   "metadata": {},
   "outputs": [],
   "source": [
    "for i in range(4):\n",
    "    print(i)"
   ]
  },
  {
   "cell_type": "code",
   "execution_count": null,
   "metadata": {},
   "outputs": [],
   "source": [
    "for i in range(4):\n",
    "    print(\"I'll be a good student in class.\")"
   ]
  },
  {
   "cell_type": "code",
   "execution_count": null,
   "metadata": {},
   "outputs": [],
   "source": [
    "First_Names = ['BlueRay','Upchuck','Lojack','Gizmo']\n",
    "Full_Names = [];"
   ]
  },
  {
   "cell_type": "code",
   "execution_count": null,
   "metadata": {},
   "outputs": [],
   "source": [
    "Last_Names = ['Zzz','Burp','Dogbone','Droop']"
   ]
  },
  {
   "cell_type": "code",
   "execution_count": null,
   "metadata": {},
   "outputs": [],
   "source": [
    "for i in First_Names:\n",
    "    for j in Last_Names:\n",
    "        Full_Names.append(i +' '+ j)\n",
    "Full_Names"
   ]
  },
  {
   "cell_type": "code",
   "execution_count": null,
   "metadata": {},
   "outputs": [],
   "source": [
    "for i in range(4):\n",
    "    print(First_Names[i],Last_Names[i])"
   ]
  },
  {
   "cell_type": "code",
   "execution_count": null,
   "metadata": {},
   "outputs": [],
   "source": [
    "username = input('Enter your name: ')"
   ]
  },
  {
   "cell_type": "code",
   "execution_count": null,
   "metadata": {},
   "outputs": [],
   "source": [
    "print(username)"
   ]
  },
  {
   "cell_type": "code",
   "execution_count": null,
   "metadata": {},
   "outputs": [],
   "source": [
    "type(username)"
   ]
  },
  {
   "cell_type": "code",
   "execution_count": null,
   "metadata": {},
   "outputs": [],
   "source": [
    "num1 = int(input('Enter your num1: '))\n",
    "num2 = int(input('Enter your num2: '))\n",
    "num = num1 + num2\n",
    "print('Result:',num)\n",
    "# parsing: to convert str into integer"
   ]
  },
  {
   "cell_type": "code",
   "execution_count": null,
   "metadata": {},
   "outputs": [],
   "source": [
    "# Assignment No 1 to operate it in num1: 9 and num2: c\n",
    "num1 = input('Enter your num1: ')\n",
    "num2 = input('Enter your num2: ')\n",
    "try:\n",
    "    num1 = int(num1)\n",
    "    num2 = int(num2)\n",
    "    num = num1 + num2\n",
    "    print('Result:',num)\n",
    "except:\n",
    "    num = num1 + num2\n",
    "    print('Result:',num)"
   ]
  },
  {
   "cell_type": "code",
   "execution_count": null,
   "metadata": {},
   "outputs": [],
   "source": [
    "# Google Colab - Welcome to Colab then new notebook"
   ]
  },
  {
   "cell_type": "code",
   "execution_count": null,
   "metadata": {},
   "outputs": [],
   "source": [
    "# Assignment No 1 to operate it in num1: 9 and num2: c\n",
    "num1 = input('Enter your num1: ')\n",
    "num2 = input('Enter your num2: ')\n",
    "try:\n",
    "    num1 = int(num1)\n",
    "except:\n",
    "    num1 = num1\n",
    "try:\n",
    "    num2 = int(num2)\n",
    "    num = num1 + num2\n",
    "    print('Result:',num)\n",
    "except:\n",
    "    num2 = num2\n",
    "    num = num1 + num2\n",
    "    print('Result:',num)"
   ]
  },
  {
   "cell_type": "code",
   "execution_count": null,
   "metadata": {},
   "outputs": [],
   "source": [
    "psl_cities =['Karachi','Quetta','Islamabad','Peshawar','Multan','Lahore']\n",
    "city = input(\"Please input your city: \")\n",
    "city = city.title()\n",
    "for temp_city in psl_cities:\n",
    "    if temp_city == city:\n",
    "        print(\"Congratz you were the participant.\")\n",
    "        break\n",
    "    else:\n",
    "        print(\"Sorry Better Luck Next Time\")"
   ]
  },
  {
   "cell_type": "code",
   "execution_count": 15,
   "metadata": {},
   "outputs": [
    {
     "name": "stdout",
     "output_type": "stream",
     "text": [
      "Enter your num1: 9\n",
      "Enter your num2: 5\n",
      "Result: 14\n"
     ]
    }
   ],
   "source": [
    "# Assignment Completed\n",
    "# Assignment No 1 to operate it in num1: 9 and num2: c\n",
    "num1 = input('Enter your num1: ')\n",
    "num2 = input('Enter your num2: ')\n",
    "try:\n",
    "    num1 = int(num1)\n",
    "    num2 = int(num2)\n",
    "    num = num1 + num2\n",
    "    print('Result:',num)\n",
    "except:\n",
    "    num1 = str(num1)\n",
    "    num2 = num2\n",
    "    num = num1 + num2\n",
    "    print('Result:',num)"
   ]
  },
  {
   "cell_type": "code",
   "execution_count": 1,
   "metadata": {},
   "outputs": [
    {
     "name": "stdout",
     "output_type": "stream",
     "text": [
      "Please input your city: \n",
      "Sorry Better Luck Next Time.\n"
     ]
    }
   ],
   "source": [
    "# Task Completed\n",
    "psl_cities =['Karachi','Quetta','Islamabad','Peshawar','Multan','Lahore']\n",
    "city = input(\"Please input your city: \")\n",
    "city = city.title()\n",
    "a = 'Not Found'\n",
    "for i in range(5):\n",
    "    if psl_cities[i] == city:\n",
    "        a = 'Found' \n",
    "if a == 'Found':\n",
    "    print(\"Congratz you were the participant.\")\n",
    "else:\n",
    "    print(\"Sorry Better Luck Next Time.\")   "
   ]
  },
  {
   "cell_type": "code",
   "execution_count": 8,
   "metadata": {},
   "outputs": [],
   "source": [
    "# Dic\n",
    "contact_book = { \n",
    "    'umair' : '03323226899',\n",
    "    'ammar' : '03022689522'\n",
    "}"
   ]
  },
  {
   "cell_type": "code",
   "execution_count": 5,
   "metadata": {},
   "outputs": [
    {
     "name": "stdout",
     "output_type": "stream",
     "text": [
      "03022689522\n"
     ]
    }
   ],
   "source": [
    "print(contact_book['umair'])"
   ]
  },
  {
   "cell_type": "code",
   "execution_count": 9,
   "metadata": {},
   "outputs": [],
   "source": [
    "# How to add new key in dict\n",
    "contact_book['test'] = '03322'"
   ]
  },
  {
   "cell_type": "code",
   "execution_count": 12,
   "metadata": {},
   "outputs": [
    {
     "name": "stdout",
     "output_type": "stream",
     "text": [
      "{'umair': '03323226899', 'ammar': '03022689522'}\n"
     ]
    }
   ],
   "source": [
    "print(contact_book)"
   ]
  },
  {
   "cell_type": "code",
   "execution_count": 11,
   "metadata": {},
   "outputs": [],
   "source": [
    "del contact_book['test']"
   ]
  },
  {
   "cell_type": "code",
   "execution_count": 16,
   "metadata": {},
   "outputs": [],
   "source": [
    "Customer_Data ={'Mobile':'Samsung', 'Watch':'Casino', 'Car':'Honda'}"
   ]
  },
  {
   "cell_type": "code",
   "execution_count": 17,
   "metadata": {},
   "outputs": [],
   "source": [
    "# Add\n",
    "Customer_Data['Wallet'] = 'Horse'"
   ]
  },
  {
   "cell_type": "code",
   "execution_count": 18,
   "metadata": {},
   "outputs": [
    {
     "name": "stdout",
     "output_type": "stream",
     "text": [
      "{'Mobile': 'Samsung', 'Watch': 'Casino', 'Car': 'Honda', 'Wallet': 'Horse'}\n"
     ]
    }
   ],
   "source": [
    "print(Customer_Data)"
   ]
  },
  {
   "cell_type": "code",
   "execution_count": 20,
   "metadata": {},
   "outputs": [],
   "source": [
    "del Customer_Data['Watch']"
   ]
  },
  {
   "cell_type": "code",
   "execution_count": 22,
   "metadata": {},
   "outputs": [
    {
     "name": "stdout",
     "output_type": "stream",
     "text": [
      "{'Mobile': 'Samsung', 'Car': 'Honda', 'Wallet': 'Horse'}\n"
     ]
    }
   ],
   "source": [
    "print(Customer_Data)"
   ]
  },
  {
   "cell_type": "code",
   "execution_count": 26,
   "metadata": {},
   "outputs": [
    {
     "data": {
      "text/plain": [
       "dict_values(['Samsung', 'Honda', 'Horse'])"
      ]
     },
     "execution_count": 26,
     "metadata": {},
     "output_type": "execute_result"
    }
   ],
   "source": [
    "Customer_Data.values()"
   ]
  },
  {
   "cell_type": "code",
   "execution_count": 27,
   "metadata": {},
   "outputs": [
    {
     "data": {
      "text/plain": [
       "dict_keys(['Mobile', 'Car', 'Wallet'])"
      ]
     },
     "execution_count": 27,
     "metadata": {},
     "output_type": "execute_result"
    }
   ],
   "source": [
    "Customer_Data.keys()"
   ]
  },
  {
   "cell_type": "code",
   "execution_count": 28,
   "metadata": {},
   "outputs": [
    {
     "data": {
      "text/plain": [
       "dict_items([('Mobile', 'Samsung'), ('Car', 'Honda'), ('Wallet', 'Horse')])"
      ]
     },
     "execution_count": 28,
     "metadata": {},
     "output_type": "execute_result"
    }
   ],
   "source": [
    "Customer_Data.items()"
   ]
  },
  {
   "cell_type": "code",
   "execution_count": 29,
   "metadata": {},
   "outputs": [
    {
     "name": "stdout",
     "output_type": "stream",
     "text": [
      "03323226899\n",
      "03022689522\n"
     ]
    }
   ],
   "source": [
    "for temp in contact_book.values():\n",
    "    print(temp)"
   ]
  },
  {
   "cell_type": "code",
   "execution_count": 30,
   "metadata": {},
   "outputs": [
    {
     "name": "stdout",
     "output_type": "stream",
     "text": [
      "umair\n",
      "ammar\n"
     ]
    }
   ],
   "source": [
    "for temp in contact_book.keys():\n",
    "    print(temp)"
   ]
  },
  {
   "cell_type": "code",
   "execution_count": 33,
   "metadata": {},
   "outputs": [
    {
     "name": "stdout",
     "output_type": "stream",
     "text": [
      "('umair', '03323226899')\n",
      "('ammar', '03022689522')\n"
     ]
    }
   ],
   "source": [
    "for temp in contact_book.items():\n",
    "    print(temp)"
   ]
  },
  {
   "cell_type": "code",
   "execution_count": 34,
   "metadata": {},
   "outputs": [
    {
     "name": "stdout",
     "output_type": "stream",
     "text": [
      "umair 03323226899\n",
      "ammar 03022689522\n"
     ]
    }
   ],
   "source": [
    "for key,value in contact_book.items():\n",
    "    print(key,value)"
   ]
  },
  {
   "cell_type": "code",
   "execution_count": 5,
   "metadata": {},
   "outputs": [
    {
     "name": "stdout",
     "output_type": "stream",
     "text": [
      "Enter Your Username: Asad Anwar\n",
      "Enter Your Contact Number: 3368/3378\n",
      "Enter Your Email Address: asadanwar77@hotmail.com\n",
      "[{'username': 'Asad Anwar', 'number': '3368/3378', 'email': 'asadanwar77@hotmail.com'}]\n"
     ]
    }
   ],
   "source": [
    "username = input('Enter Your Username: ')\n",
    "number = input('Enter Your Contact Number: ')\n",
    "email = input('Enter Your Email Address: ')\n",
    "\n",
    "temp_dict = {}\n",
    "\n",
    "temp_dict['username'] = username\n",
    "temp_dict['number'] = number\n",
    "temp_dict['email'] = email\n",
    "\n",
    "customers =[]\n",
    "customers.append(temp_dict)\n",
    "print(customers)"
   ]
  },
  {
   "cell_type": "code",
   "execution_count": 6,
   "metadata": {},
   "outputs": [],
   "source": [
    "customers =[]"
   ]
  },
  {
   "cell_type": "code",
   "execution_count": 8,
   "metadata": {},
   "outputs": [
    {
     "name": "stdout",
     "output_type": "stream",
     "text": [
      "Enter Your Username: s\n",
      "Enter Your Contact Number: f\n",
      "Enter Your Email Address: w\n",
      "[{'username': 'a', 'number': 's', 'email': 'd'}, {'username': 's', 'number': 'f', 'email': 'w'}]\n"
     ]
    }
   ],
   "source": [
    "username = input('Enter Your Username: ')\n",
    "number = input('Enter Your Contact Number: ')\n",
    "email = input('Enter Your Email Address: ')\n",
    "\n",
    "temp_dict = {}\n",
    "\n",
    "temp_dict['username'] = username\n",
    "temp_dict['number'] = number\n",
    "temp_dict['email'] = email\n",
    "\n",
    "customers.append(temp_dict)\n",
    "print(customers)"
   ]
  },
  {
   "cell_type": "code",
   "execution_count": 17,
   "metadata": {},
   "outputs": [],
   "source": [
    "customers[0]['email'] = 'asadanwqar'"
   ]
  },
  {
   "cell_type": "code",
   "execution_count": 18,
   "metadata": {},
   "outputs": [
    {
     "name": "stdout",
     "output_type": "stream",
     "text": [
      "[{'username': 'a', 'number': 's', 'email': 'asadanwqar'}, {'username': 's', 'number': 'f', 'email': 'w'}]\n"
     ]
    }
   ],
   "source": [
    "print(customers)"
   ]
  },
  {
   "cell_type": "code",
   "execution_count": 19,
   "metadata": {},
   "outputs": [],
   "source": [
    "del customers[0]['email']"
   ]
  },
  {
   "cell_type": "code",
   "execution_count": 20,
   "metadata": {},
   "outputs": [
    {
     "name": "stdout",
     "output_type": "stream",
     "text": [
      "[{'username': 'a', 'number': 's'}, {'username': 's', 'number': 'f', 'email': 'w'}]\n"
     ]
    }
   ],
   "source": [
    "print(customers)"
   ]
  },
  {
   "cell_type": "code",
   "execution_count": 21,
   "metadata": {},
   "outputs": [
    {
     "data": {
      "text/plain": [
       "2"
      ]
     },
     "execution_count": 21,
     "metadata": {},
     "output_type": "execute_result"
    }
   ],
   "source": [
    "len(customers)"
   ]
  },
  {
   "cell_type": "code",
   "execution_count": 23,
   "metadata": {},
   "outputs": [
    {
     "data": {
      "text/plain": [
       "3"
      ]
     },
     "execution_count": 23,
     "metadata": {},
     "output_type": "execute_result"
    }
   ],
   "source": [
    "len(customers[1])"
   ]
  },
  {
   "cell_type": "code",
   "execution_count": 25,
   "metadata": {},
   "outputs": [],
   "source": [
    "customer_29876 = {\n",
    "\"first name\": \"David\",\n",
    "\"last name\": \"Elliott\",\n",
    "\"address\": \"4803 Wellesley St.\"\n",
    "}\n"
   ]
  },
  {
   "cell_type": "code",
   "execution_count": 26,
   "metadata": {},
   "outputs": [],
   "source": [
    "customer_29876['Contact'] = ['3364','3378','3916']"
   ]
  },
  {
   "cell_type": "code",
   "execution_count": 32,
   "metadata": {},
   "outputs": [
    {
     "data": {
      "text/plain": [
       "'3378'"
      ]
     },
     "execution_count": 32,
     "metadata": {},
     "output_type": "execute_result"
    }
   ],
   "source": [
    "customer_29876['Contact'][1]"
   ]
  },
  {
   "cell_type": "code",
   "execution_count": 33,
   "metadata": {},
   "outputs": [],
   "source": [
    "customers = [\n",
    "{\n",
    "\"customer id\": 0,\n",
    "\"first name\":\"John\",\n",
    "\"last name\": \"Ogden\",\n",
    "\"address\": \"301 Arbor Rd.\",\n",
    "},\n",
    "{\n",
    "\"customer id\": 1,\n",
    "\"first name\":\"Ann\",\n",
    "\"last name\": \"Sattermyer\",\n",
    "\"address\": \"PO Box 1145\",\n",
    "},\n",
    "{\n",
    "\"customer id\": 2,\n",
    "\"first name\":\"Jill\",\n",
    "\"last name\": \"Somers\",\n",
    "\"address\": \"3 Main St.\",\n",
    "},\n",
    "]\n"
   ]
  },
  {
   "cell_type": "code",
   "execution_count": 44,
   "metadata": {},
   "outputs": [],
   "source": [
    "dict_customers = {}"
   ]
  },
  {
   "cell_type": "code",
   "execution_count": 53,
   "metadata": {},
   "outputs": [
    {
     "name": "stdout",
     "output_type": "stream",
     "text": [
      "Enter Your Username: S\n",
      "Enter Your Contact Number: S\n",
      "Enter Your Email Address: A\n"
     ]
    }
   ],
   "source": [
    "username = input('Enter Your Username: ')\n",
    "number = input('Enter Your Contact Number: ')\n",
    "email = input('Enter Your Email Address: ')\n",
    "\n",
    "temp_dict = {}\n",
    "\n",
    "temp_dict['username'] = username\n",
    "temp_dict['number'] = number\n",
    "temp_dict['email'] = email\n",
    "\n",
    "dict_customers[email] = temp_dict\n",
    "# customers =[]\n",
    "# customers.append(temp_dict)\n",
    "# print(customers)"
   ]
  },
  {
   "cell_type": "code",
   "execution_count": 62,
   "metadata": {},
   "outputs": [
    {
     "data": {
      "text/plain": [
       "'S'"
      ]
     },
     "execution_count": 62,
     "metadata": {},
     "output_type": "execute_result"
    }
   ],
   "source": [
    "dict_customers['A']['username']"
   ]
  },
  {
   "cell_type": "code",
   "execution_count": null,
   "metadata": {},
   "outputs": [],
   "source": []
  }
 ],
 "metadata": {
  "kernelspec": {
   "display_name": "Python 3",
   "language": "python",
   "name": "python3"
  }
 },
 "nbformat": 4,
 "nbformat_minor": 2
}
