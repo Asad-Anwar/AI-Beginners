{
  "nbformat": 4,
  "nbformat_minor": 0,
  "metadata": {
    "colab": {
      "name": "Welcome To Colaboratory",
      "provenance": [],
      "collapsed_sections": []
    },
    "kernelspec": {
      "display_name": "Python 3",
      "name": "python3"
    }
  },
  "cells": [
    {
      "cell_type": "markdown",
      "metadata": {
        "id": "5fCEDCU_qrC0"
      },
      "source": [
        "<p><img alt=\"Colaboratory logo\" height=\"45px\" src=\"/img/colab_favicon.ico\" align=\"left\" hspace=\"10px\" vspace=\"0px\"></p>\n",
        "\n",
        "<h1>What is Colaboratory?</h1>\n",
        "\n",
        "Colaboratory, or \"Colab\" for short, allows you to write and execute Python in your browser, with \n",
        "- Zero configuration required\n",
        "- Free access to GPUs\n",
        "- Easy sharing\n",
        "\n",
        "Whether you're a **student**, a **data scientist** or an **AI researcher**, Colab can make your work easier. Watch [Introduction to Colab](https://www.youtube.com/watch?v=inN8seMm7UI) to learn more, or just get started below!"
      ]
    },
    {
      "cell_type": "markdown",
      "metadata": {
        "id": "GJBs_flRovLc"
      },
      "source": [
        "## **Getting started**\n",
        "\n",
        "The document you are reading is not a static web page, but an interactive environment called a **Colab notebook** that lets you write and execute code.\n",
        "\n",
        "For example, here is a **code cell** with a short Python script that computes a value, stores it in a variable, and prints the result:"
      ]
    },
    {
      "cell_type": "code",
      "metadata": {
        "colab": {
          "base_uri": "https://localhost:8080/",
          "height": 34
        },
        "id": "gJr_9dXGpJ05",
        "outputId": "9f556d03-ec67-4950-a485-cfdba9ddd14d"
      },
      "source": [
        "seconds_in_a_day = 24 * 60 * 60\n",
        "seconds_in_a_day"
      ],
      "execution_count": null,
      "outputs": [
        {
          "data": {
            "text/plain": [
              "86400"
            ]
          },
          "execution_count": 0,
          "metadata": {
            "tags": []
          },
          "output_type": "execute_result"
        }
      ]
    },
    {
      "cell_type": "markdown",
      "metadata": {
        "id": "2fhs6GZ4qFMx"
      },
      "source": [
        "To execute the code in the above cell, select it with a click and then either press the play button to the left of the code, or use the keyboard shortcut \"Command/Ctrl+Enter\". To edit the code, just click the cell and start editing.\n",
        "\n",
        "Variables that you define in one cell can later be used in other cells:"
      ]
    },
    {
      "cell_type": "code",
      "metadata": {
        "colab": {
          "base_uri": "https://localhost:8080/",
          "height": 34
        },
        "id": "-gE-Ez1qtyIA",
        "outputId": "94cb2224-0edf-457b-90b5-0ac3488d8a97"
      },
      "source": [
        "seconds_in_a_week = 7 * seconds_in_a_day\n",
        "seconds_in_a_week"
      ],
      "execution_count": null,
      "outputs": [
        {
          "data": {
            "text/plain": [
              "604800"
            ]
          },
          "execution_count": 0,
          "metadata": {
            "tags": []
          },
          "output_type": "execute_result"
        }
      ]
    },
    {
      "cell_type": "markdown",
      "metadata": {
        "id": "lSrWNr3MuFUS"
      },
      "source": [
        "Colab notebooks allow you to combine **executable code** and **rich text** in a single document, along with **images**, **HTML**, **LaTeX** and more. When you create your own Colab notebooks, they are stored in your Google Drive account. You can easily share your Colab notebooks with co-workers or friends, allowing them to comment on your notebooks or even edit them. To learn more, see [Overview of Colab](/notebooks/basic_features_overview.ipynb). To create a new Colab notebook you can use the File menu above, or use the following link: [create a new Colab notebook](http://colab.research.google.com#create=true).\n",
        "\n",
        "Colab notebooks are Jupyter notebooks that are hosted by Colab. To learn more about the Jupyter project, see [jupyter.org](https://www.jupyter.org)."
      ]
    },
    {
      "cell_type": "markdown",
      "metadata": {
        "id": "UdRyKR44dcNI"
      },
      "source": [
        "## Data science\n",
        "\n",
        "With Colab you can harness the full power of popular Python libraries to analyze and visualize data. The code cell below uses **numpy** to generate some random data, and uses **matplotlib** to visualize it. To edit the code, just click the cell and start editing."
      ]
    },
    {
      "cell_type": "code",
      "metadata": {
        "colab": {
          "base_uri": "https://localhost:8080/",
          "height": 281
        },
        "id": "C4HZx7Gndbrh",
        "outputId": "46abc637-6abd-41b2-9bba-80a7ae992e06"
      },
      "source": [
        "import numpy as np\n",
        "from matplotlib import pyplot as plt\n",
        "\n",
        "ys = 200 + np.random.randn(100)\n",
        "x = [x for x in range(len(ys))]\n",
        "\n",
        "plt.plot(x, ys, '-')\n",
        "plt.fill_between(x, ys, 195, where=(ys > 195), facecolor='g', alpha=0.6)\n",
        "\n",
        "plt.title(\"Sample Visualization\")\n",
        "plt.show()"
      ],
      "execution_count": null,
      "outputs": [
        {
          "data": {
            "image/png": "[encoded data removed]",
            "text/plain": [
              "<Figure size 432x288 with 1 Axes>"
            ]
          },
          "metadata": {
            "tags": []
          },
          "output_type": "display_data"
        }
      ]
    },
    {
      "cell_type": "markdown",
      "metadata": {
        "id": "4_kCnsPUqS6o"
      },
      "source": [
        "You can import your own data into Colab notebooks from your Google Drive account, including from spreadsheets, as well as from Github and many other sources. To learn more about importing data, and how Colab can be used for data science, see the links below under [Working with Data](#working-with-data)."
      ]
    },
    {
      "cell_type": "markdown",
      "metadata": {
        "id": "OwuxHmxllTwN"
      },
      "source": [
        "## Machine learning\n",
        "\n",
        "With Colab you can import an image dataset, train an image classifier on it, and evaluate the model, all in just [a few lines of code](https://colab.research.google.com/github/tensorflow/docs/blob/master/site/en/tutorials/quickstart/beginner.ipynb). Colab notebooks execute code on Google's cloud servers, meaning you can leverage the power of Google hardware, including [GPUs and TPUs](#using-accelerated-hardware), regardless of the power of your machine. All you need is a browser."
      ]
    },
    {
      "cell_type": "markdown",
      "metadata": {
        "id": "ufxBm1yRnruN"
      },
      "source": [
        "Colab is used extensively in the machine learning community with applications including:\n",
        "- Getting started with TensorFlow\n",
        "- Developing and training neural networks\n",
        "- Experimenting with TPUs\n",
        "- Disseminating AI research\n",
        "- Creating tutorials\n",
        "\n",
        "To see sample Colab notebooks that demonstrate machine learning applications, see the [machine learning examples](#machine-learning-examples) below."
      ]
    },
    {
      "cell_type": "markdown",
      "metadata": {
        "id": "-Rh3-Vt9Nev9"
      },
      "source": [
        "## More Resources\n",
        "\n",
        "### Working with Notebooks in Colab\n",
        "- [Overview of Colaboratory](/notebooks/basic_features_overview.ipynb)\n",
        "- [Guide to Markdown](/notebooks/markdown_guide.ipynb)\n",
        "- [Importing libraries and installing dependencies](/notebooks/snippets/importing_libraries.ipynb)\n",
        "- [Saving and loading notebooks in GitHub](https://colab.research.google.com/github/googlecolab/colabtools/blob/master/notebooks/colab-github-demo.ipynb)\n",
        "- [Interactive forms](/notebooks/forms.ipynb)\n",
        "- [Interactive widgets](/notebooks/widgets.ipynb)\n",
        "- <img src=\"/img/new.png\" height=\"20px\" align=\"left\" hspace=\"4px\" alt=\"New\"></img>\n",
        " [TensorFlow 2 in Colab](/notebooks/tensorflow_version.ipynb)\n",
        "\n",
        "<a name=\"working-with-data\"></a>\n",
        "### Working with Data\n",
        "- [Loading data: Drive, Sheets, and Google Cloud Storage](/notebooks/io.ipynb) \n",
        "- [Charts: visualizing data](/notebooks/charts.ipynb)\n",
        "- [Getting started with BigQuery](/notebooks/bigquery.ipynb)\n",
        "\n",
        "### Machine Learning Crash Course\n",
        "These are a few of the notebooks from Google's online Machine Learning course. See the [full course website](https://developers.google.com/machine-learning/crash-course/) for more.\n",
        "- [Intro to Pandas](/notebooks/mlcc/intro_to_pandas.ipynb)\n",
        "- [Tensorflow concepts](/notebooks/mlcc/tensorflow_programming_concepts.ipynb)\n",
        "\n",
        "<a name=\"using-accelerated-hardware\"></a>\n",
        "### Using Accelerated Hardware\n",
        "- [TensorFlow with GPUs](/notebooks/gpu.ipynb)\n",
        "- [TensorFlow with TPUs](/notebooks/tpu.ipynb)"
      ]
    },
    {
      "cell_type": "markdown",
      "metadata": {
        "id": "P-H6Lw1vyNNd"
      },
      "source": [
        "<a name=\"machine-learning-examples\"></a>\n",
        "\n",
        "## Machine Learning Examples\n",
        "\n",
        "To see end-to-end examples of the interactive machine learning analyses that Colaboratory makes possible, check out these  tutorials using models from [TensorFlow Hub](https://tfhub.dev).\n",
        "\n",
        "A few featured examples:\n",
        "\n",
        "- [Retraining an Image Classifier](https://tensorflow.org/hub/tutorials/tf2_image_retraining): Build a Keras model on top of a pre-trained image classifier to distinguish flowers.\n",
        "- [Text Classification](https://tensorflow.org/hub/tutorials/tf2_text_classification): Classify IMDB movie reviews as either *positive* or *negative*.\n",
        "- [Style Transfer](https://tensorflow.org/hub/tutorials/tf2_arbitrary_image_stylization): Use deep learning to transfer style between images.\n",
        "- [Multilingual Universal Sentence Encoder Q&A](https://tensorflow.org/hub/tutorials/retrieval_with_tf_hub_universal_encoder_qa): Use a machine learning model to answer questions from the SQuAD dataset.\n",
        "- [Video Interpolation](https://tensorflow.org/hub/tutorials/tweening_conv3d): Predict what happened in a video between the first and the last frame.\n"
      ]
    },
    {
      "cell_type": "markdown",
      "metadata": {
        "id": "fQoLN1TPPAVS"
      },
      "source": [
        "\n",
        "\n",
        "\n",
        "> Web Scraping - Website Link\n",
        "\n",
        "\n",
        "```\n",
        "# https://www.passiton.com/inspirational-quotes\n",
        "# !pip install requests\n",
        "```\n",
        "\n"
      ]
    },
    {
      "cell_type": "code",
      "metadata": {
        "colab": {
          "base_uri": "https://localhost:8080/"
        },
        "id": "lUBj__JjOWfB",
        "outputId": "7750de0f-46fc-4d35-99cf-ca4dd1e77adc"
      },
      "source": [
        " !pip install requests"
      ],
      "execution_count": 1,
      "outputs": [
        {
          "output_type": "stream",
          "name": "stdout",
          "text": [
            "Requirement already satisfied: requests in /usr/local/lib/python3.7/dist-packages (2.23.0)\n",
            "Requirement already satisfied: certifi>=2017.4.17 in /usr/local/lib/python3.7/dist-packages (from requests) (2021.5.30)\n",
            "Requirement already satisfied: urllib3!=1.25.0,!=1.25.1,<1.26,>=1.21.1 in /usr/local/lib/python3.7/dist-packages (from requests) (1.24.3)\n",
            "Requirement already satisfied: idna<3,>=2.5 in /usr/local/lib/python3.7/dist-packages (from requests) (2.10)\n",
            "Requirement already satisfied: chardet<4,>=3.0.2 in /usr/local/lib/python3.7/dist-packages (from requests) (3.0.4)\n"
          ]
        }
      ]
    },
    {
      "cell_type": "code",
      "metadata": {
        "id": "ntLophYrPDTZ"
      },
      "source": [
        "import requests"
      ],
      "execution_count": 2,
      "outputs": []
    },
    {
      "cell_type": "code",
      "metadata": {
        "id": "pkTB5qUKSpwQ"
      },
      "source": [
        "from bs4 import BeautifulSoup"
      ],
      "execution_count": 3,
      "outputs": []
    },
    {
      "cell_type": "code",
      "metadata": {
        "id": "gAYJV7diSpzH"
      },
      "source": [
        "import pandas as pd"
      ],
      "execution_count": 4,
      "outputs": []
    },
    {
      "cell_type": "code",
      "metadata": {
        "id": "bDMTTdFFSp1n"
      },
      "source": [
        "url = 'https://www.passiton.com/inspirational-quotes'"
      ],
      "execution_count": 7,
      "outputs": []
    },
    {
      "cell_type": "code",
      "metadata": {
        "id": "GnOGT0C7Sp4o"
      },
      "source": [
        "data = requests.get(url)"
      ],
      "execution_count": 8,
      "outputs": []
    },
    {
      "cell_type": "code",
      "metadata": {
        "colab": {
          "base_uri": "https://localhost:8080/"
        },
        "id": "zhbtwmxnT7Rv",
        "outputId": "1d87d3ec-d388-43bf-fc7c-a712d8dd30ad"
      },
      "source": [
        "print(data)"
      ],
      "execution_count": 10,
      "outputs": [
        {
          "output_type": "stream",
          "name": "stdout",
          "text": [
            "<Response [200]>\n"
          ]
        }
      ]
    },
    {
      "cell_type": "code",
      "metadata": {
        "colab": {
          "base_uri": "https://localhost:8080/"
        },
        "id": "5Jc3CodFT7VH",
        "outputId": "0c861296-329b-41fa-8202-9e394a0eb5b1"
      },
      "source": [
        "data.content"
      ],
      "execution_count": 11,
      "outputs": [
        {
          "output_type": "execute_result",
          "data": {
            "text/plain": [
              "b'<!DOCTYPE html>\\n<html class=\"no-js\" dir=\"ltr\" lang=\"en-US\">\\n    <head>\\n        <title>Inspirational Quotes - Motivational Quotes - Leadership Quotes | PassItOn.com</title>\\n        <meta charset=\"utf-8\">\\n        <meta http-equiv=\"content-type\" content=\"text/html; charset=utf-8\" />\\n        <meta http-equiv=\"X-UA-Compatible\" content=\"IE=edge\" />\\n        <meta name=\"viewport\" content=\"width=device-width,initial-scale=1.0\" />\\n        <meta name=\"description\" content=\"The Foundation for a Better Life | Pass It On.com\">\\n        <link rel=\"apple-touch-icon\" sizes=\"180x180\" href=\"/apple-touch-icon.png\">\\n        <link rel=\"icon\" type=\"image/png\" sizes=\"32x32\" href=\"/favicon-32x32.png\">\\n        <link rel=\"icon\" type=\"image/png\" sizes=\"16x16\" href=\"/favicon-16x16.png\">\\n        <link rel=\"manifest\" href=\"/site.webmanifest\">\\n        <link rel=\"mask-icon\" href=\"/safari-pinned-tab.svg\" color=\"#c8102e\">\\n        <meta name=\"msapplication-TileColor\" content=\"#c8102e\">\\n        <meta name=\"theme-color\" content=\"#ffffff\">\\n        <link rel=\"stylesheet\" href=\"https://stackpath.bootstrapcdn.com/bootstrap/4.3.1/css/bootstrap.min.css\" integrity=\"sha384-ggOyR0iXCbMQv3Xipma34MD+dH/1fQ784/j6cY/iJTQUOhcWr7x9JvoRxT2MZw1T\" crossorigin=\"anonymous\">\\n        <link rel=\"stylesheet\" media=\"all\" href=\"/assets/application-f5b594462b501302873bdf85db44240a.css\" />\\n        <meta name=\"csrf-param\" content=\"authenticity_token\" />\\n<meta name=\"csrf-token\" content=\"/14VlFGlcB9rJkAQ4wFMFkeXz1oLFxo3JUwR8U80h3GPOCkxjmKlnFAbcXABUC0wP/fkcWwI91hsWx9xFkRdEA==\" />\\n        <!-- Global site tag (gtag.js) - Google Analytics -->\\n        <script async src=\"https://www.googletagmanager.com/gtag/js?id=UA-1179606-29\"></script>\\n        <script>\\n          window.dataLayer = window.dataLayer || [];\\n          function gtag(){dataLayer.push(arguments);}\\n          gtag(\\'js\\', new Date());\\n          gtag(\\'config\\', \\'UA-1179606-29\\');\\n        </script>\\n\\n        <script>\\n          window.fbAsyncInit = function() {\\n            FB.init({\\n              appId            : \\'483774921971842\\',\\n              autoLogAppEvents : true,\\n              xfbml            : true,\\n              version          : \\'v6.0\\'\\n            });\\n          };\\n        </script>\\n        <script async defer src=\"https://connect.facebook.net/en_US/sdk.js\"></script>\\n\\n        <meta property=\"og:site_name\" content=\"passiton.com\">\\n        <meta property=\"og:title\" content=\"Inspirational Quotes - Motivational Quotes - Leadership Quotes\" />\\n        <meta property=\"og:type\" content=\"website\" />\\n        <meta property=\"og:image\" content=\"https://www.passiton.com/passiton.jpg\" />\\n        <meta property=\"og:url\" content=\"https://www.passiton.com/inspirational-quotes\" />\\n        <meta property=\"og:description\" content=\"Find the perfect quotation from our hand-picked collection of inspiring quotes by hundreds of authors.\" />\\n        <meta property=\"fb:app_id\" content=\"483774921971842\" />\\n\\n        <meta name=\"twitter:card\" content=\"summary_large_image\" />\\n        <meta name=\"twitter:site\" content=\"@passiton\" />\\n        <meta name=\"twitter:creator\" content=\"@passiton\">\\n        <meta name=\"twitter:title\" content=\"Inspirational Quotes - Motivational Quotes - Leadership Quotes\" />\\n        <meta name=\"twitter:description\" content=\"Find the perfect quotation from our hand-picked collection of inspiring quotes by hundreds of authors.\" />\\n        <meta name=\"twitter:image\" content=\"https://www.passiton.com/passiton.jpg\" />\\n        <meta name=\"twitter:url\" content=\"https://www.passiton.com/inspirational-quotes\" />\\n\\n        <meta itemprop=\"name\" content=\"passiton.com\">\\n        <meta itemprop=\"description\" content=\"Find the perfect quotation from our hand-picked collection of inspiring quotes by hundreds of authors.\">\\n        <meta itemprop=\"image\" content=\"https://www.passiton.com/passiton.jpg\">\\n\\n        <link rel=\"apple-touch-icon\" sizes=\"180x180\" href=\"/apple-touch-icon.png\">\\n        <link rel=\"icon\" type=\"image/png\" sizes=\"32x32\" href=\"/favicon-32x32.png\">\\n        <link rel=\"icon\" type=\"image/png\" sizes=\"16x16\" href=\"/favicon-16x16.png\">\\n        <link rel=\"mask-icon\" href=\"/passiton_arrow.svg\" color=\"#C8102E\">\\n        <link rel=\"manifest\" href=\"/manifest.json\">\\n        <link rel=\"mask-icon\" href=\"/safari-pinned-tab.svg\" color=\"#5bbad5\">\\n        <meta name=\"apple-mobile-web-app-title\" content=\"passiton\">\\n        <meta name=\"application-name\" content=\"passiton\">\\n        <meta name=\"theme-color\" content=\"#f1f1f1\">\\n        <link rel=\"alternate\" type=\"application/rss+xml\" title=\"RSS\" href=\"https://www.passiton.com/inspirational-quotes.atom\" />\\n\\n    </head>\\n    <body class=\\'no-transition quotes_index\\'>\\n                <header>\\n          <nav class=\"navbar navbar-default bootsnav background-transparent header-dark white-link navbar-fixed-top navbar-expand-lg nav-box-width\">\\n            <div class=\"container-fluid nav-header-container\">\\n\\n              <div class=\"col-auto pl-0\">\\n                <a class=\"logo\" title=\"Pass It On\\xc2\\xae\" href=\"/\"><img data-rjs=\"/assets/site/logo@2x-77b9f4fa1e4bafa6ff119f8f162b7bd9.png\" class=\"logo-dark\" alt=\"Pass It On\" src=\"/assets/site/logo-6d680decaadef58e4fbb586e147bc135.png\" /><img data-rjs=\"/assets/site/logo-white@2x-82bf2486063a48e9207811cc7f6d5e5f.png\" class=\"logo-light default\" alt=\"Pass It On\" src=\"/assets/site/logo-white-2d99f390ad2f6d3bbf59a52aadb55d60.png\" /></a>\\n              </div>\\n\\n              <div class=\"col accordion-menu pr-0 pr-md-3\">\\n                <button type=\"button\" class=\"navbar-toggler collapsed\" data-toggle=\"collapse\" data-target=\"#navbar-collapse-toggle-1\">\\n                  <span class=\"sr-only\">toggle navigation</span><span class=\"icon-bar\"></span><span class=\"icon-bar\"></span><span class=\"icon-bar\"></span>\\n                </button>\\n                <div class=\"navbar-collapse collapse justify-content-end\" id=\"navbar-collapse-toggle-1\">\\n                  <ul id=\"accordion\" class=\"nav navbar-nav navbar-left no-margin alt-font text-normal\" data-in=\"fadeIn\" data-out=\"fadeOut\">\\n                    <li><a href=\"/inspirational-quotes\">Quotes</a></li>\\n                    <li><a href=\"/inspirational-stories-tv-spots\">Videos</a></li>\\n                    <li class=\"dropdown simple-dropdown\"><a href=\"/inspirational-sayings-billboards\">Billboards <i class=\\'fas fa-caret-down d-none d-lg-inline\\' aria-hidden=\\'true\\'></i></a><i class=\"fas fa-caret-down dropdown-toggle\" data-toggle=\"dropdown\" aria-hidden=\"true\"></i>\\n                      <ul class=\"dropdown-menu\" role=\"menu\">\\n                        <li><a href=\"/inspirational-sayings-billboards\">Official Billboards</a></li>\\n                        <li><a href=\"/is-in-you\">Is In You\\xc2\\xae Billboards</a></li>\\n                        <li><a href=\"/your-billboards\">Create Your Own Billboard</a></li>\\n                      </ul>\\n                    </li>\\n                    <li><a href=\"/positive-good-news-columns\">Newspapers</a></li>\\n                    <li><a href=\"/radio\">Radio</a></li>\\n                    <li><a href=\"/passiton-blog\">Blog</a></li>\\n                    <li class=\"dropdown simple-dropdown\"><a href=\"#\">Language <i class=\\'fas fa-caret-down d-none d-lg-inline\\' aria-hidden=\\'true\\'></i></a><i class=\"fas fa-caret-down dropdown-toggle\" data-toggle=\"dropdown\" aria-hidden=\"true\"></i>\\n                      <ul class=\"dropdown-menu\" role=\"menu\">\\n                        <li><a target=\"_blank\" href=\"https://www.pasala.org/\">Spanish | Espa\\xc3\\xb1ol</a></li>\\n                        <li><a target=\"_blank\" href=\"https://www.umavidamelhor.org/\">Portuguese | Portugu\\xc3\\xaas</a></li>\\n                        <li><a target=\"_blank\" href=\"https://www.values.cn.com/\">Chinese | \\xe4\\xb8\\xad\\xe6\\x96\\x87</a></li>\\n                      </ul>\\n                    </li>\\n                  </ul>\\n                </div>\\n              </div>\\n              <div class=\"col-auto pr-0\">\\n                <div class=\"header-searchbar\">\\n                  <a href=\"#search-header\" class=\"header-search-form\"><i class=\"fas fa-search search-button\"></i></a>\\n                  <form id=\"search-header\" method=\"post\" action=\"/search\" name=\"search-header\" class=\"mfp-hide search-form-result\">\\n                    <div class=\"search-form position-relative\">\\n                      <button type=\"submit\" class=\"fas fa-search close-search search-button\"></button>\\n                      <input type=\"text\" name=\"q\" class=\"search-input\" placeholder=\"Search passiton.com...\" autocomplete=\"off\">\\n                    </div>\\n                  </form>\\n                </div>\\n              </div>\\n            </div>\\n          </nav>\\n        </header>\\n\\n        \\n\\n    <section class=\"parallax padding-six-all bg-black\" data-stellar-background-ratio=\"0.2\" style=\"background-image:url(\\'/assets/backgrounds/flowers-8d19415bc3bc371f5beaed468d9a1970.jpg\\');\">\\n        <div class=\"container\">\\n            <div class=\"row justify-content-center\">\\n                <div class=\"col-12 col-lg-10 text-center\">\\n                    <div class=\"shadow bg-extra-dark-gray padding-two-all border-radius-6 width-70 lg-width-80 sm-width-100 mx-auto lg-padding-30px-all sm-padding-15px-all sm-margin-40px-top\">\\n                        <h6 class=\"font-weight-300 text-white-2 margin-20px-bottom sm-margin-15px-bottom\">Get our FREE daily quote emails!</h6>\\n                        <p class=\"text-medium width-70 mx-auto margin-40px-bottom sm-width-100 sm-margin-15px-bottom\">Get a daily inspirational quote in your inbox each weekday! Enter your email below to subscribe.</p>\\n\\n                        <form class=\"simple_form search-box3 margin-10px-bottom\" novalidate=\"novalidate\" id=\"new_user\" action=\"/users\" accept-charset=\"UTF-8\" method=\"post\"><input name=\"utf8\" type=\"hidden\" value=\"&#x2713;\" /><input type=\"hidden\" name=\"authenticity_token\" value=\"VjvUxsr0D5ZKyerqOnRs5xfxdxEGomIRix6YOaWws1QmXehjFTPaFXH024rYJQ3Bb5FcOmG9j37CCZa5/MBpNQ==\" />\\n                            <div class=\"input-group add-on width-75 mx-auto sm-width-100\">\\n                                <input label=\"false\" class=\"string email optional form-control text-white\" type=\"text\" placeholder=\"you@your-email.com\" name=\"user[email]\" id=\"user_email\" />\\n                                <script src=\"https://www.recaptcha.net/recaptcha/api.js?render=6Ldta8EUAAAAACp3yt76yG8QWMdQkpDBkP1bcHi6\"   ></script>\\n        <script>\\n          // Define function so that we can call it again later if we need to reset it\\n          // This executes reCAPTCHA and then calls our callback.\\n          function executeRecaptchaForQuote() {\\n            grecaptcha.ready(function() {\\n              grecaptcha.execute(\\'6Ldta8EUAAAAACp3yt76yG8QWMdQkpDBkP1bcHi6\\', {action: \\'quote\\'}).then(function(token) {\\n                setInputWithRecaptchaResponseTokenForQuote(\\'g-recaptcha-response-data-quote\\', token)\\n              });\\n            });\\n          };\\n          // Invoke immediately\\n          executeRecaptchaForQuote()\\n\\n          // Async variant so you can await this function from another async function (no need for\\n          // an explicit callback function then!)\\n          // Returns a Promise that resolves with the response token.\\n          async function executeRecaptchaForQuoteAsync() {\\n            return new Promise((resolve, reject) => {\\n              grecaptcha.ready(async function() {\\n                resolve(await grecaptcha.execute(\\'6Ldta8EUAAAAACp3yt76yG8QWMdQkpDBkP1bcHi6\\', {action: \\'quote\\'}))\\n              });\\n            })\\n          };\\n\\n                    var setInputWithRecaptchaResponseTokenForQuote = function(id, token) {\\n            var element = document.getElementById(id);\\n            element.value = token;\\n          }\\n\\n        </script>\\n<input type=\"hidden\" name=\"g-recaptcha-response-data[quote]\" id=\"g-recaptcha-response-data-quote\" data-sitekey=\"6Ldta8EUAAAAACp3yt76yG8QWMdQkpDBkP1bcHi6\" class=\"g-recaptcha g-recaptcha-response \"/>\\n\\n                                <div class=\"input-group-append\">\\n                                    <button type=\"submit\" class=\"btn btn-default\"><i class=\"ti-arrow-right text-small m-0\"></i></button>\\n                                </div>\\n                            </div>\\n</form>\\n\\n                    </div>\\n                </div>\\n            </div>\\n        </div>\\n    </section>\\n\\n\\n<section class=\"half-section bg-extra-dark-gray half-section\">\\n    <div class=\"container\">\\n\\n        <div class=\"row m-0\">\\n            <div class=\"col-12 d-flex flex-column justify-content-center text-center wow fadeIn\" data-wow-delay=\"0.2s\">\\n                <h5 class=\"text-white alt-font font-weight-400 letter-spacing-1 margin-10px-bottom\">INSPIRATIONAL QUOTES</h5>\\n                <span class=\"text-white-2 opacity8 alt-font mb-0 padding-20px-bottom\">Find the perfect quote... and Pass It On\\xc2\\xae</span>\\n\\n                <form class=\"search-box2 margin-30px-bottom\" action=\"/inspirational-quotes\" method=\"get\">\\n                    <div class=\"input-group add-on width-75 mx-auto sm-width-100\">\\n                        <input name=\"q\" type=\"text\" value=\\'\\' placeholder=\"Search our inspiring quotes...\" class=\"form-control\" />\\n                        <div class=\"input-group-append\">\\n                            <button type=\"submit\" class=\"btn btn-default\"><i class=\"ti-search text-small m-0\"></i></button>\\n                        </div>\\n                    </div>\\n                </form>\\n\\n            </div>\\n        </div>\\n\\n        <div class=\\'row\\' id=\\'all_quotes\\'>\\n            <div class=\"col-6 col-lg-3 text-center margin-30px-bottom sm-margin-30px-top\">\\n\\n        <a href=\"/inspirational-quotes/8263-an-exchange-of-empathy-provides-an-entry-point\"><img alt=\"An exchange of empathy provides an entry point for a lot of people to see what healing feels like.  #&lt;Author:0x00007fcd46df0c08&gt;\" class=\"margin-10px-bottom shadow\" src=\"https://assets.passiton.com/quotes/quote_artwork/8263/medium/20210917_friday_quote.jpg?1631298884\" width=\"310\" height=\"310\" /></a>\\n        <h5 class=\\'value_on_red\\'><a href=\"/inspirational-quotes/8263-an-exchange-of-empathy-provides-an-entry-point\">EMPATHY</a></h5>\\n\\n</div><div class=\"col-6 col-lg-3 text-center margin-30px-bottom sm-margin-30px-top\">\\n\\n        <a href=\"/inspirational-quotes/8262-whenever-you-are-about-to-find-fault-with\"><img alt=\"Whenever you are about to find fault with someone, ask yourself the following question: What fault of mine most nearly resembles the one I am about to criticize? #&lt;Author:0x00007fcd46e2d748&gt;\" class=\"margin-10px-bottom shadow\" src=\"https://assets.passiton.com/quotes/quote_artwork/8262/medium/20210916_thursday_quote.jpg?1631298861\" width=\"310\" height=\"310\" /></a>\\n        <h5 class=\\'value_on_red\\'><a href=\"/inspirational-quotes/8262-whenever-you-are-about-to-find-fault-with\">EMPATHY</a></h5>\\n\\n</div><div class=\"col-6 col-lg-3 text-center margin-30px-bottom sm-margin-30px-top\">\\n\\n        <a href=\"/inspirational-quotes/8080-we-think-we-listen-but-very-rarely-do-we\"><img alt=\"We think we listen, but very rarely do we listen with real understanding, true empathy. Yet listening, of this very special kind, is one of the most potent forces for change that I know. #&lt;Author:0x00007fcd46e5a108&gt;\" class=\"margin-10px-bottom shadow\" src=\"https://assets.passiton.com/quotes/quote_artwork/8080/medium/20210915_wednesday_quote.jpg?1631298835\" width=\"310\" height=\"310\" /></a>\\n        <h5 class=\\'value_on_red\\'><a href=\"/inspirational-quotes/8080-we-think-we-listen-but-very-rarely-do-we\">EMPATHY</a></h5>\\n\\n</div><div class=\"col-6 col-lg-3 text-center margin-30px-bottom sm-margin-30px-top\">\\n\\n        <a href=\"/inspirational-quotes/8261-empathy-is-about-finding-echoes-of-another\"><img alt=\"Empathy is about finding echoes of another person in yourself. #&lt;Author:0x00007fcd46e92f30&gt;\" class=\"margin-10px-bottom shadow\" src=\"https://assets.passiton.com/quotes/quote_artwork/8261/medium/20210914_tuesday_quote.jpg?1631298808\" width=\"310\" height=\"310\" /></a>\\n        <h5 class=\\'value_on_red\\'><a href=\"/inspirational-quotes/8261-empathy-is-about-finding-echoes-of-another\">EMPATHY</a></h5>\\n\\n</div><div class=\"col-6 col-lg-3 text-center margin-30px-bottom sm-margin-30px-top\">\\n\\n        <a href=\"/inspirational-quotes/3202-how-far-you-go-in-life-depends-on-your-being\"><img alt=\"How far you go in life depends on your being tender with the young, compassionate with the aged, sympathetic with the striving, and tolerant of the weak and the strong, because someday in your life, you will have been all of these. #&lt;Author:0x00007fcd46ebf170&gt;\" class=\"margin-10px-bottom shadow\" src=\"https://assets.passiton.com/quotes/quote_artwork/3202/medium/20210913_monday_quote.jpg?1631298784\" width=\"310\" height=\"310\" /></a>\\n        <h5 class=\\'value_on_red\\'><a href=\"/inspirational-quotes/3202-how-far-you-go-in-life-depends-on-your-being\">EMPATHY</a></h5>\\n\\n</div><div class=\"col-6 col-lg-3 text-center margin-30px-bottom sm-margin-30px-top\">\\n\\n        <a href=\"/inspirational-quotes/7961-talk-to-yourself-like-you-would-to-someone-you\"><img alt=\"Talk to yourself like you would to someone you love. #&lt;Author:0x00007fcd46eeffa0&gt;\" class=\"margin-10px-bottom shadow\" src=\"https://assets.passiton.com/quotes/quote_artwork/7961/medium/20210910_friday_quote.jpg?1630703929\" width=\"310\" height=\"310\" /></a>\\n        <h5 class=\\'value_on_red\\'><a href=\"/inspirational-quotes/7961-talk-to-yourself-like-you-would-to-someone-you\">SELF-CARE</a></h5>\\n\\n</div><div class=\"col-6 col-lg-3 text-center margin-30px-bottom sm-margin-30px-top\">\\n\\n        <a href=\"/inspirational-quotes/8260-self-care-is-not-self-indulgence-it-is\"><img alt=\"Self-care is not self-indulgence, it is self-preservation. #&lt;Author:0x00007fcd46f1ae30&gt;\" class=\"margin-10px-bottom shadow\" src=\"https://assets.passiton.com/quotes/quote_artwork/8260/medium/20210909_thursday_quote.jpg?1630703897\" width=\"310\" height=\"310\" /></a>\\n        <h5 class=\\'value_on_red\\'><a href=\"/inspirational-quotes/8260-self-care-is-not-self-indulgence-it-is\">SELF-CARE</a></h5>\\n\\n</div><div class=\"col-6 col-lg-3 text-center margin-30px-bottom sm-margin-30px-top\">\\n\\n        <a href=\"/inspirational-quotes/7055-there-s-only-one-corner-of-the-universe-you-can\"><img alt=\"There\\xe2\\x80\\x99s only one corner of the universe you can be certain of improving, and that\\xe2\\x80\\x99s your own self. #&lt;Author:0x00007fcd46f44c08&gt;\" class=\"margin-10px-bottom shadow\" src=\"https://assets.passiton.com/quotes/quote_artwork/7055/medium/20210908_wednesday_quote.jpg?1630703870\" width=\"310\" height=\"310\" /></a>\\n        <h5 class=\\'value_on_red\\'><a href=\"/inspirational-quotes/7055-there-s-only-one-corner-of-the-universe-you-can\">SELF-CARE</a></h5>\\n\\n</div><div class=\"col-6 col-lg-3 text-center margin-30px-bottom sm-margin-30px-top\">\\n\\n        <a href=\"/inspirational-quotes/8259-rest-and-self-care-are-so-important-when-you\"><img alt=\"Rest and self-care are so important. When you take time to replenish your spirit, it allows you to serve from the overflow. You cannot serve from an empty vessel. #&lt;Author:0x00007fcd46f82a80&gt;\" class=\"margin-10px-bottom shadow\" src=\"https://assets.passiton.com/quotes/quote_artwork/8259/medium/20210907_tuesday_quote.jpg?1630703831\" width=\"310\" height=\"310\" /></a>\\n        <h5 class=\\'value_on_red\\'><a href=\"/inspirational-quotes/8259-rest-and-self-care-are-so-important-when-you\">SELF-CARE</a></h5>\\n\\n</div><div class=\"col-6 col-lg-3 text-center margin-30px-bottom sm-margin-30px-top\">\\n\\n        <a href=\"/inspirational-quotes/8258-mind-body-soul-these-are-the-three-things\"><img alt=\"Mind. Body. Soul. These are the three things self-care is all about. #&lt;Author:0x00007fcd46faee78&gt;\" class=\"margin-10px-bottom shadow\" src=\"https://assets.passiton.com/quotes/quote_artwork/8258/medium/20210906_monday_quote.jpg?1630703806\" width=\"310\" height=\"310\" /></a>\\n        <h5 class=\\'value_on_red\\'><a href=\"/inspirational-quotes/8258-mind-body-soul-these-are-the-three-things\">SELF-CARE</a></h5>\\n\\n</div><div class=\"col-6 col-lg-3 text-center margin-30px-bottom sm-margin-30px-top\">\\n\\n        <a href=\"/inspirational-quotes/8257-the-people-closest-to-me-determine-my-level-of\"><img alt=\"The people closest to me determine my level of success or failure. The better they are, the better I am. And if I want to go to the highest level, I can do it only with the help of other people. We have to take each other higher. #&lt;Author:0x00007fcd46fde240&gt;\" class=\"margin-10px-bottom shadow\" src=\"https://assets.passiton.com/quotes/quote_artwork/8257/medium/20200903_friday_quote.jpg?1630078590\" width=\"310\" height=\"310\" /></a>\\n        <h5 class=\\'value_on_red\\'><a href=\"/inspirational-quotes/8257-the-people-closest-to-me-determine-my-level-of\">TEAMWORK</a></h5>\\n\\n</div><div class=\"col-6 col-lg-3 text-center margin-30px-bottom sm-margin-30px-top\">\\n\\n        <a href=\"/inspirational-quotes/5572-cooperation-is-the-thorough-conviction-that\"><img alt=\"Cooperation is the thorough conviction that nobody can get there unless everybody gets there. #&lt;Author:0x00007fcd4700b150&gt;\" class=\"margin-10px-bottom shadow\" src=\"https://assets.passiton.com/quotes/quote_artwork/5572/medium/20200902_thursday_quote.jpg?1630078566\" width=\"310\" height=\"310\" /></a>\\n        <h5 class=\\'value_on_red\\'><a href=\"/inspirational-quotes/5572-cooperation-is-the-thorough-conviction-that\">TEAMWORK</a></h5>\\n\\n</div><div class=\"col-6 col-lg-3 text-center margin-30px-bottom sm-margin-30px-top\">\\n\\n        <a href=\"/inspirational-quotes/7295-the-strength-of-the-team-is-each-individual\"><img alt=\"The strength of the team is each individual member. The strength of each member is the team. #&lt;Author:0x00007fcd47034cd0&gt;\" class=\"margin-10px-bottom shadow\" src=\"https://assets.passiton.com/quotes/quote_artwork/7295/medium/20200901_wednesday_quote.jpg?1630078539\" width=\"310\" height=\"310\" /></a>\\n        <h5 class=\\'value_on_red\\'><a href=\"/inspirational-quotes/7295-the-strength-of-the-team-is-each-individual\">TEAMWORK</a></h5>\\n\\n</div><div class=\"col-6 col-lg-3 text-center margin-30px-bottom sm-margin-30px-top\">\\n\\n        <a href=\"/inspirational-quotes/6116-problems-can-become-opportunities-when-the\"><img alt=\"Problems can become opportunities when the right people come together.  #&lt;Author:0x00007fcd47066690&gt;\" class=\"margin-10px-bottom shadow\" src=\"https://assets.passiton.com/quotes/quote_artwork/6116/medium/20200831_tuesday_quote.jpg?1630078510\" width=\"310\" height=\"310\" /></a>\\n        <h5 class=\\'value_on_red\\'><a href=\"/inspirational-quotes/6116-problems-can-become-opportunities-when-the\">TEAMWORK</a></h5>\\n\\n</div><div class=\"col-6 col-lg-3 text-center margin-30px-bottom sm-margin-30px-top\">\\n\\n        <a href=\"/inspirational-quotes/6751-individual-commitment-to-a-group-effort-that\"><img alt=\"Individual commitment to a group effort - that is what makes a team work, a company work, a society work, a civilization work. #&lt;Author:0x00007fcd47091c00&gt;\" class=\"margin-10px-bottom shadow\" src=\"https://assets.passiton.com/quotes/quote_artwork/6751/medium/20200830_monday_quote.jpg?1630078481\" width=\"310\" height=\"310\" /></a>\\n        <h5 class=\\'value_on_red\\'><a href=\"/inspirational-quotes/6751-individual-commitment-to-a-group-effort-that\">TEAMWORK</a></h5>\\n\\n</div><div class=\"col-6 col-lg-3 text-center margin-30px-bottom sm-margin-30px-top\">\\n\\n        <a href=\"/inspirational-quotes/7705-it-is-easier-to-reach-our-potential-when-we\"><img alt=\"It is easier to reach our potential when we learn the value of including others in our quest. #&lt;Author:0x00007fcd470bd5d0&gt;\" class=\"margin-10px-bottom shadow\" src=\"https://assets.passiton.com/quotes/quote_artwork/7705/medium/20210827_friday_quote.jpg?1629348009\" width=\"310\" height=\"310\" /></a>\\n        <h5 class=\\'value_on_red\\'><a href=\"/inspirational-quotes/7705-it-is-easier-to-reach-our-potential-when-we\">INCLUDING OTHERS</a></h5>\\n\\n</div><div class=\"col-6 col-lg-3 text-center margin-30px-bottom sm-margin-30px-top\">\\n\\n        <a href=\"/inspirational-quotes/8256-to-be-fully-seen-by-somebody-then-and-be\"><img alt=\"To be fully seen by somebody, then, and be loved anyhow\\xe2\\x80\\x94this is a human offering that can border on miraculous. #&lt;Author:0x00007fcd470f69c0&gt;\" class=\"margin-10px-bottom shadow\" src=\"https://assets.passiton.com/quotes/quote_artwork/8256/medium/20210826_thursday_quote.jpg?1629347979\" width=\"310\" height=\"310\" /></a>\\n        <h5 class=\\'value_on_red\\'><a href=\"/inspirational-quotes/8256-to-be-fully-seen-by-somebody-then-and-be\">INCLUDING OTHERS</a></h5>\\n\\n</div><div class=\"col-6 col-lg-3 text-center margin-30px-bottom sm-margin-30px-top\">\\n\\n        <a href=\"/inspirational-quotes/8255-have-a-big-enough-heart-to-love\"><img alt=\"Have a big enough heart to love unconditionally, and a broad enough mind to embrace the differences that make each of us unique. #&lt;Author:0x00007fcd47120cc0&gt;\" class=\"margin-10px-bottom shadow\" src=\"https://assets.passiton.com/quotes/quote_artwork/8255/medium/20210825_wednesday_quote.jpg?1629347953\" width=\"310\" height=\"310\" /></a>\\n        <h5 class=\\'value_on_red\\'><a href=\"/inspirational-quotes/8255-have-a-big-enough-heart-to-love\">INCLUDING OTHERS</a></h5>\\n\\n</div><div class=\"col-6 col-lg-3 text-center margin-30px-bottom sm-margin-30px-top\">\\n\\n        <a href=\"/inspirational-quotes/8254-acceptance-is-simply-love-in-practice-when-you\"><img alt=\"Acceptance is simply love in practice. When you love, you accept, when you lack love, you judge. #&lt;Author:0x00007fcd4715d800&gt;\" class=\"margin-10px-bottom shadow\" src=\"https://assets.passiton.com/quotes/quote_artwork/8254/medium/20210824_tuesday_quote.jpg?1629347928\" width=\"310\" height=\"310\" /></a>\\n        <h5 class=\\'value_on_red\\'><a href=\"/inspirational-quotes/8254-acceptance-is-simply-love-in-practice-when-you\">INCLUDING OTHERS</a></h5>\\n\\n</div><div class=\"col-6 col-lg-3 text-center margin-30px-bottom sm-margin-30px-top\">\\n\\n        <a href=\"/inspirational-quotes/8253-the-happiness-of-ones-own-heart-alone-cannot\"><img alt=\"The happiness of one&#39;s own heart alone cannot satisfy the soul; one must try to include, as necessary to one&#39;s own happiness, the happiness of others. #&lt;Author:0x00007fcd4718b1d8&gt;\" class=\"margin-10px-bottom shadow\" src=\"https://assets.passiton.com/quotes/quote_artwork/8253/medium/20210823_monday_quote.jpg?1629347894\" width=\"310\" height=\"310\" /></a>\\n        <h5 class=\\'value_on_red\\'><a href=\"/inspirational-quotes/8253-the-happiness-of-ones-own-heart-alone-cannot\">INCLUDING OTHERS</a></h5>\\n\\n</div><div class=\"col-6 col-lg-3 text-center margin-30px-bottom sm-margin-30px-top\">\\n\\n        <a href=\"/inspirational-quotes/7020-nothing-in-life-is-to-be-feared-it-is-only-to\"><img alt=\"Nothing in life is to be feared. It is only to be understood. Now is the time to understand more, so that we may fear less. #&lt;Author:0x00007fcd471bb810&gt;\" class=\"margin-10px-bottom shadow\" src=\"https://assets.passiton.com/quotes/quote_artwork/7020/medium/20210820_friday_quote.jpg?1628879237\" width=\"310\" height=\"310\" /></a>\\n        <h5 class=\\'value_on_red\\'><a href=\"/inspirational-quotes/7020-nothing-in-life-is-to-be-feared-it-is-only-to\">COURAGE</a></h5>\\n\\n</div><div class=\"col-6 col-lg-3 text-center margin-30px-bottom sm-margin-30px-top\">\\n\\n        <a href=\"/inspirational-quotes/8252-have-the-courage-to-follow-your-heart-and\"><img alt=\"Have the courage to follow your heart and intuition. They somehow already know what you truly want to become. #&lt;Author:0x00007fcd471e4e40&gt;\" class=\"margin-10px-bottom shadow\" src=\"https://assets.passiton.com/quotes/quote_artwork/8252/medium/20210819_thursday_quote.jpg?1628879212\" width=\"310\" height=\"310\" /></a>\\n        <h5 class=\\'value_on_red\\'><a href=\"/inspirational-quotes/8252-have-the-courage-to-follow-your-heart-and\">COURAGE</a></h5>\\n\\n</div><div class=\"col-6 col-lg-3 text-center margin-30px-bottom sm-margin-30px-top\">\\n\\n        <a href=\"/inspirational-quotes/8251-courage-doesn-t-mean-you-don-t-get-afraid\"><img alt=\"Courage doesn\\xe2\\x80\\x99t mean you don\\xe2\\x80\\x99t get afraid. Courage means you don\\xe2\\x80\\x99t let fear stop you.  #&lt;Author:0x00007fcd47211ee0&gt;\" class=\"margin-10px-bottom shadow\" src=\"https://assets.passiton.com/quotes/quote_artwork/8251/medium/20210818_wednesday_quote.jpg?1628879189\" width=\"310\" height=\"310\" /></a>\\n        <h5 class=\\'value_on_red\\'><a href=\"/inspirational-quotes/8251-courage-doesn-t-mean-you-don-t-get-afraid\">COURAGE</a></h5>\\n\\n</div><div class=\"col-6 col-lg-3 text-center margin-30px-bottom sm-margin-30px-top\">\\n\\n        <a href=\"/inspirational-quotes/7299-life-shrinks-or-expands-in-proportion-to-ones\"><img alt=\"Life shrinks or expands in proportion to one&#39;s courage. #&lt;Author:0x00007fcd47243530&gt;\" class=\"margin-10px-bottom shadow\" src=\"https://assets.passiton.com/quotes/quote_artwork/7299/medium/20210817_tuesday_quote.jpg?1628879166\" width=\"310\" height=\"310\" /></a>\\n        <h5 class=\\'value_on_red\\'><a href=\"/inspirational-quotes/7299-life-shrinks-or-expands-in-proportion-to-ones\">COURAGE</a></h5>\\n\\n</div><div class=\"col-6 col-lg-3 text-center margin-30px-bottom sm-margin-30px-top\">\\n\\n        <a href=\"/inspirational-quotes/8250-in-one-of-its-earliest-forms-the-word-courage\"><img alt=\"In one of its earliest forms, the word courage meant \\xe2\\x80\\x98To speak one\\xe2\\x80\\x99s mind by telling all one\\xe2\\x80\\x99s heart.&#39; #&lt;Author:0x00007fcd4726fae0&gt;\" class=\"margin-10px-bottom shadow\" src=\"https://assets.passiton.com/quotes/quote_artwork/8250/medium/20210816_monday_quote.jpg?1628879133\" width=\"310\" height=\"310\" /></a>\\n        <h5 class=\\'value_on_red\\'><a href=\"/inspirational-quotes/8250-in-one-of-its-earliest-forms-the-word-courage\">COURAGE</a></h5>\\n\\n</div><div class=\"col-6 col-lg-3 text-center margin-30px-bottom sm-margin-30px-top\">\\n\\n        <a href=\"/inspirational-quotes/8249-some-people-want-it-to-happen-some-wish-it\"><img alt=\"Some people want it to happen, some wish it would happen, others make it happen. #&lt;Author:0x00007fcd4728e0f8&gt;\" class=\"margin-10px-bottom shadow\" src=\"https://assets.passiton.com/quotes/quote_artwork/8249/medium/20210813_friday_quote.jpg?1628114247\" width=\"310\" height=\"310\" /></a>\\n        <h5 class=\\'value_on_red\\'><a href=\"/inspirational-quotes/8249-some-people-want-it-to-happen-some-wish-it\">PERSEVERANCE</a></h5>\\n\\n</div><div class=\"col-6 col-lg-3 text-center margin-30px-bottom sm-margin-30px-top\">\\n\\n        <a href=\"/inspirational-quotes/4076-there-are-no-shortcuts-to-any-place-worth-going\"><img alt=\"There are no shortcuts to any place worth going. #&lt;Author:0x00007fcd472b6468&gt;\" class=\"margin-10px-bottom shadow\" src=\"https://assets.passiton.com/quotes/quote_artwork/4076/medium/20210812_thursday_quote.jpg?1628114208\" width=\"310\" height=\"310\" /></a>\\n        <h5 class=\\'value_on_red\\'><a href=\"/inspirational-quotes/4076-there-are-no-shortcuts-to-any-place-worth-going\">PERSEVERANCE</a></h5>\\n\\n</div><div class=\"col-6 col-lg-3 text-center margin-30px-bottom sm-margin-30px-top\">\\n\\n        <a href=\"/inspirational-quotes/8248-the-only-failure-is-quitting-everything-else\"><img alt=\"The only failure is quitting. Everything else is just gathering information. #&lt;Author:0x00007fcd472eada8&gt;\" class=\"margin-10px-bottom shadow\" src=\"https://assets.passiton.com/quotes/quote_artwork/8248/medium/20210811_wednesday_quote.jpg?1628114184\" width=\"310\" height=\"310\" /></a>\\n        <h5 class=\\'value_on_red\\'><a href=\"/inspirational-quotes/8248-the-only-failure-is-quitting-everything-else\">PERSEVERANCE</a></h5>\\n\\n</div><div class=\"col-6 col-lg-3 text-center margin-30px-bottom sm-margin-30px-top\">\\n\\n        <a href=\"/inspirational-quotes/2210-theres-only-one-way-to-succeed-in-anything-and\"><img alt=\"There&#39;s only one way to succeed in anything, and that is to give it everything. #&lt;Author:0x00007fcd4730ff90&gt;\" class=\"margin-10px-bottom shadow\" src=\"https://assets.passiton.com/quotes/quote_artwork/2210/medium/20210810_tuesday_quote.jpg?1628114164\" width=\"310\" height=\"310\" /></a>\\n        <h5 class=\\'value_on_red\\'><a href=\"/inspirational-quotes/2210-theres-only-one-way-to-succeed-in-anything-and\">PERSEVERANCE</a></h5>\\n\\n</div><div class=\"col-6 col-lg-3 text-center margin-30px-bottom sm-margin-30px-top\">\\n\\n        <a href=\"/inspirational-quotes/5831-in-the-confrontation-between-the-stream-and-the\"><img alt=\"In the confrontation between the stream and the rock, the stream always wins- not through strength but by perseverance. #&lt;Author:0x00007fcd4732e440&gt;\" class=\"margin-10px-bottom shadow\" src=\"https://assets.passiton.com/quotes/quote_artwork/5831/medium/20210809_monday_quote.jpg?1628114140\" width=\"310\" height=\"310\" /></a>\\n        <h5 class=\\'value_on_red\\'><a href=\"/inspirational-quotes/5831-in-the-confrontation-between-the-stream-and-the\">PERSEVERANCE</a></h5>\\n\\n</div><div class=\"col-6 col-lg-3 text-center margin-30px-bottom sm-margin-30px-top\">\\n\\n        <a href=\"/inspirational-quotes/7783-a-good-laugh-heals-a-lot-of-hurts\"><img alt=\"A good laugh heals a lot of hurts. #&lt;Author:0x00007fcd47363528&gt;\" class=\"margin-10px-bottom shadow\" src=\"https://assets.passiton.com/quotes/quote_artwork/7783/medium/20210806_friday_quote.jpg?1627091944\" width=\"310\" height=\"310\" /></a>\\n        <h5 class=\\'value_on_red\\'><a href=\"/inspirational-quotes/7783-a-good-laugh-heals-a-lot-of-hurts\">LAUGHTER</a></h5>\\n\\n</div><div class=\"col-6 col-lg-3 text-center margin-30px-bottom sm-margin-30px-top\">\\n\\n        <a href=\"/inspirational-quotes/8247-laughter-lightens-the-soul\"><img alt=\"Laughter lightens the soul. #&lt;Author:0x00007fcd473815a0&gt;\" class=\"margin-10px-bottom shadow\" src=\"https://assets.passiton.com/quotes/quote_artwork/8247/medium/20210805_thursday_quote.jpg?1627091911\" width=\"310\" height=\"310\" /></a>\\n        <h5 class=\\'value_on_red\\'><a href=\"/inspirational-quotes/8247-laughter-lightens-the-soul\">LAUGHTER</a></h5>\\n\\n</div>\\n        </div>\\n\\n        <div class=\"row\">\\n            <div class=\"col-12 text-center\">\\n                <div class=\"quotes_pagination\"><span class=\"previous_page disabled\">&#8592; Previous</span> <em class=\"current\">1</em> <a rel=\"next\" href=\"/inspirational-quotes?page=2\">2</a> <a href=\"/inspirational-quotes?page=3\">3</a> <a href=\"/inspirational-quotes?page=4\">4</a> <a href=\"/inspirational-quotes?page=5\">5</a> <a href=\"/inspirational-quotes?page=6\">6</a> <a href=\"/inspirational-quotes?page=7\">7</a> <a href=\"/inspirational-quotes?page=8\">8</a> <a href=\"/inspirational-quotes?page=9\">9</a> <span class=\"gap\">&hellip;</span> <a href=\"/inspirational-quotes?page=122\">122</a> <a href=\"/inspirational-quotes?page=123\">123</a> <a class=\"next_page\" rel=\"next\" href=\"/inspirational-quotes?page=2\">Next &#8594;</a></div>\\n            </div>\\n        </div>\\n\\n    </div>\\n</section>\\n        <footer class=\"footer-classic-dark bg-extra-dark-gray padding-five-bottom sm-padding-30px-bottom\">\\n  <div class=\"bg-dark-footer padding-50px-tb sm-padding-30px-tb\">\\n    <div class=\"container\">\\n      <div class=\"row align-items-center\">\\n\\n        <div class=\"col-lg-4 col-md-4 sm-text-center lg-text-left alt-font sm-margin-15px-bottom\">\\n          <a href=\"/\"><img style=\"max-width: 200px;\" data-rjs=\"/assets/site/passiton_fbl_logo-078fc8bdd27f7ef8c76cf23b391f16e3.png\" alt=\"PassItOn.com The Foundation for a Better Life\" class=\"footer_logo\" src=\"/assets/site/passiton_fbl_logo-078fc8bdd27f7ef8c76cf23b391f16e3.png\" /></a>\\n        </div>\\n\\n        <div class=\"col-lg-4 col-md-4 text-center sm-margin-10px-bottom\">\\n        </div>\\n\\n        <div class=\"col-lg-4 col-md-4 text-center\">\\n          <span class=\"alt-font margin-20px-right\">Follow us on social</span>\\n          <div class=\"social-icon-style-8 d-inline-block vertical-align-middle\">\\n            <ul class=\"small-icon mb-0\">\\n              <li><a class=\"facebook text-white-2\" href=\"https://www.facebook.com/valuescom\" target=\"_blank\"><i class=\"fab fa-facebook-f\" aria-hidden=\"true\"></i></a></li>\\n              <li><a class=\"twitter text-white-2\" href=\"https://twitter.com/passiton_values\" target=\"_blank\"><i class=\"fab fa-twitter\"></i></a></li>\\n              <li><a class=\"instagram text-white-2\" href=\"https://www.instagram.com/passiton_values/\" target=\"_blank\"><i class=\"fab fa-instagram no-margin-right\" aria-hidden=\"true\"></i></a></li>\\n              <li><a class=\"pinterest text-white-2\" href=\"https://www.pinterest.com/passiton_values/\" target=\"_blank\"><i class=\"fab fa-pinterest no-margin-right\" aria-hidden=\"true\"></i></a></li>\\n              <li><a class=\"youtube text-white-2\" href=\"https://www.youtube.com/c/passiton_values\" target=\"_blank\"><i class=\"fab fa-youtube no-margin-right\" aria-hidden=\"true\"></i></a></li>\\n            </ul>\\n          </div>\\n        </div>\\n\\n      </div>\\n    </div>\\n  </div>\\n  <div class=\"footer-widget-area padding-five-top padding-30px-bottom sm-padding-30px-top\">\\n    <div class=\"container\">\\n      <div class=\"row\">\\n\\n        <div class=\"col-lg-3 col-md-6 widget border-right border-color-medium-dark-gray padding-45px-left md-padding-15px-left md-no-border-right md-margin-30px-bottom text-center text-md-left\">\\n          <div class=\"widget-title alt-font text-small text-medium-gray text-uppercase margin-10px-bottom font-weight-600\">About Us</div>\\n          <ul class=\"list-unstyled\">\\n            <li><a class=\"text-small\" href=\"/who-we-are\">About The Foundation for a Better Life</a></li>\\n            <li><a class=\"text-small\" href=\"/faqs\">FAQs</a></li>\\n            <li><a class=\"text-small\" href=\"/foundation-recognition\">Foundation Recognition</a></li>\\n            <li><a class=\"text-small\" href=\"/contact-us\">Contact Us</a></li>\\n          </ul>\\n        </div>\\n\\n        <div class=\"col-lg-3 col-md-6 widget border-right border-color-medium-dark-gray padding-45px-left md-padding-15px-left md-no-border-right md-margin-30px-bottom text-center text-md-left\">\\n          <div class=\"widget-title alt-font text-small text-medium-gray text-uppercase margin-10px-bottom font-weight-600\">Be Inspired</div>\\n          <ul class=\"list-unstyled\">\\n            <li><a class=\"text-small\" href=\"/teaching-values\">Teaching Values</a></li>\\n            <li><a class=\"text-small\" href=\"/inspirational-quotes\">Inspirational Quotations</a></li>\\n            <li><a class=\"text-small\" href=\"/inspirational-stories-tv-spots\">Pass It On\\xc2\\xae Videos</a></li>\\n            <li><a class=\"text-small\" href=\"/positive-good-news-columns\">Free Newspaper Stories</a></li>\\n            <li><a class=\"text-small\" href=\"/your-everyday-heroes\">Who&#39;s Your Hero Stories</a></li>\\n            <li><a class=\"text-small\" href=\"/inspirational-sayings-billboards\">Official Billboard Campaign</a></li>\\n            <li><a class=\"text-small\" href=\"/your-billboards\">Create Your Own Billboard</a></li>\\n            <li><a class=\"text-small\" href=\"/radio\">Radio Ads</a></li>\\n            <li><a class=\"text-small\" href=\"/passiton-blog\">Pass It On\\xc2\\xae Blog</a></li>\\n            <li><a class=\"text-small\" href=\"/inspirational-audio-stories\">Podcasts</a></li>\\n            <li><a class=\"text-small\" href=\"/pass-it-on-ecards\">Send an Ecard</a></li>\\n          </ul>\\n        </div>\\n\\n        <div class=\"col-lg-3 col-md-6 widget border-right border-color-medium-dark-gray padding-45px-left md-padding-15px-left md-no-border-right md-margin-30px-bottom text-center text-md-left\">\\n          <div class=\"widget-title alt-font text-small text-medium-gray text-uppercase margin-10px-bottom font-weight-600\">For Schools</div>\\n          <ul class=\"list-unstyled\">\\n            <li><a class=\"text-small\" href=\"/poster-requests/new\">Free Posters &amp; DVD for Schools</a></li>\\n            <li><a class=\"text-small\" href=\"/pass-it-on-downloads\">Downloads</a></li>\\n          </ul>\\n        </div>\\n\\n        <div class=\"col-lg-3 col-md-6 widget padding-45px-left md-padding-15px-left md-no-border-right md-margin-30px-bottom text-center text-md-left\">\\n          <div class=\"widget-title alt-font text-small text-medium-gray text-uppercase margin-10px-bottom font-weight-600\">For Media Companies</div>\\n          <ul class=\"list-unstyled\">\\n            <li><a class=\"text-small\" href=\"/for-media-companies\">For Media Companies</a></li>\\n            <li><a class=\"text-small\" href=\"https://www.passiton-media.com\">Broadcast Quality PSA Downloads</a></li>\\n            <li><a class=\"text-small\" href=\"https://www.passiton-media.com\">Pass It On Radio Ads</a></li>\\n            <li><a class=\"text-small\" href=\"https://www.passiton-media.com\">Live Reads</a></li>\\n            <li><a class=\"text-small\" href=\"https://www.passiton-media.com\">Out of Home Materials</a></li>\\n          </ul>\\n          <div class=\\'row sm-margin-30px-top\\'>\\n            <div class=\\'col-lg-4\\'>\\n              <a href=\"/\"><img style=\"max-width: 70px;\" src=\"/assets/site/values_logo-cd29ec5f2f086673ac42962263d07e02.png\" alt=\"Values logo\" /></a>\\n            </div>\\n            <div class=\\'col-lg-7\\'>\\n              <p class=\\'text-medium-gray text-small padding-10px-top\\'>VALUES.COM<small>\\xc2\\xae</small> is now PassItOn.com<small>\\xc2\\xae</small></p>\\n            </div>\\n          </div>\\n        </div>\\n\\n      </div>\\n    </div>\\n  </div>\\n  <div class=\"container\">\\n    <div class=\"footer-bottom border-top border-color-medium-dark-gray padding-30px-top\">\\n      <div class=\"row\">\\n        <div class=\"col-lg-6 col-md-6 text-small text-md-left text-center\">\\xc2\\xa91999-2021 The Foundation for a Better Life.</div>\\n        <div class=\"col-lg-6 col-md-6 text-small text-md-right text-center\"><a href=\"/privacy-policy\">Privacy Policy</a>&nbsp;&nbsp;&nbsp;|&nbsp;&nbsp;&nbsp;<a href=\"/terms-of-use\">Terms of Use</a></div>\\n      </div>\\n    </div>\\n  </div>\\n</footer>\\n        <a class=\"scroll-top-arrow\" href=\"javascript:void(0);\"><i class=\"ti-arrow-up\"></i></a>\\n        <script src=\"https://cdnjs.cloudflare.com/ajax/libs/jquery/1.12.4/jquery.js\"></script>\\n        <script src=\"https://cdnjs.cloudflare.com/ajax/libs/popper.js/1.14.7/umd/popper.min.js\" integrity=\"sha384-UO2eT0CpHqdSJQ6hJty5KVphtPhzWj9WO1clHTMGa3JDZwrnQq4sF86dIHNDz0W1\" crossorigin=\"anonymous\"></script>\\n        <script src=\"https://stackpath.bootstrapcdn.com/bootstrap/4.3.1/js/bootstrap.min.js\" integrity=\"sha384-JjSmVgyd0p3pXB1rRibZUAYoIIy6OrQ6VrjIEaFf/nJGzIxFDsf4x0xIM+B07jRM\" crossorigin=\"anonymous\"></script>\\n        <script src=\"/assets/pofo-5ce91fa595b7ba2b9d68d1e2ef84e002.js\"></script>\\n        \\n    </body>\\n</html>\\n'"
            ]
          },
          "metadata": {},
          "execution_count": 11
        }
      ]
    },
    {
      "cell_type": "code",
      "metadata": {
        "id": "zHNS4NfAT7YH"
      },
      "source": [
        "soup = BeautifulSoup(data.content,'html5lib')"
      ],
      "execution_count": 12,
      "outputs": []
    },
    {
      "cell_type": "code",
      "metadata": {
        "colab": {
          "base_uri": "https://localhost:8080/"
        },
        "id": "PbqetjbLVOp5",
        "outputId": "c1d4dd47-1970-431a-de49-babe1c033b00"
      },
      "source": [
        "soup"
      ],
      "execution_count": 13,
      "outputs": [
        {
          "output_type": "execute_result",
          "data": {
            "text/plain": [
              "<!DOCTYPE html>\n",
              "<html class=\"no-js\" dir=\"ltr\" lang=\"en-US\"><head>\n",
              "        <title>Inspirational Quotes - Motivational Quotes - Leadership Quotes | PassItOn.com</title>\n",
              "        <meta charset=\"utf-8\"/>\n",
              "        <meta content=\"text/html; charset=utf-8\" http-equiv=\"content-type\"/>\n",
              "        <meta content=\"IE=edge\" http-equiv=\"X-UA-Compatible\"/>\n",
              "        <meta content=\"width=device-width,initial-scale=1.0\" name=\"viewport\"/>\n",
              "        <meta content=\"The Foundation for a Better Life | Pass It On.com\" name=\"description\"/>\n",
              "        <link href=\"/apple-touch-icon.png\" rel=\"apple-touch-icon\" sizes=\"180x180\"/>\n",
              "        <link href=\"/favicon-32x32.png\" rel=\"icon\" sizes=\"32x32\" type=\"image/png\"/>\n",
              "        <link href=\"/favicon-16x16.png\" rel=\"icon\" sizes=\"16x16\" type=\"image/png\"/>\n",
              "        <link href=\"/site.webmanifest\" rel=\"manifest\"/>\n",
              "        <link color=\"#c8102e\" href=\"/safari-pinned-tab.svg\" rel=\"mask-icon\"/>\n",
              "        <meta content=\"#c8102e\" name=\"msapplication-TileColor\"/>\n",
              "        <meta content=\"#ffffff\" name=\"theme-color\"/>\n",
              "        <link crossorigin=\"anonymous\" href=\"https://stackpath.bootstrapcdn.com/bootstrap/4.3.1/css/bootstrap.min.css\" integrity=\"sha384-ggOyR0iXCbMQv3Xipma34MD+dH/1fQ784/j6cY/iJTQUOhcWr7x9JvoRxT2MZw1T\" rel=\"stylesheet\"/>\n",
              "        <link href=\"/assets/application-f5b594462b501302873bdf85db44240a.css\" media=\"all\" rel=\"stylesheet\"/>\n",
              "        <meta content=\"authenticity_token\" name=\"csrf-param\"/>\n",
              "<meta content=\"/14VlFGlcB9rJkAQ4wFMFkeXz1oLFxo3JUwR8U80h3GPOCkxjmKlnFAbcXABUC0wP/fkcWwI91hsWx9xFkRdEA==\" name=\"csrf-token\"/>\n",
              "        <!-- Global site tag (gtag.js) - Google Analytics -->\n",
              "        <script async=\"\" src=\"https://www.googletagmanager.com/gtag/js?id=UA-1179606-29\"></script>\n",
              "        <script>\n",
              "          window.dataLayer = window.dataLayer || [];\n",
              "          function gtag(){dataLayer.push(arguments);}\n",
              "          gtag('js', new Date());\n",
              "          gtag('config', 'UA-1179606-29');\n",
              "        </script>\n",
              "\n",
              "        <script>\n",
              "          window.fbAsyncInit = function() {\n",
              "            FB.init({\n",
              "              appId            : '483774921971842',\n",
              "              autoLogAppEvents : true,\n",
              "              xfbml            : true,\n",
              "              version          : 'v6.0'\n",
              "            });\n",
              "          };\n",
              "        </script>\n",
              "        <script async=\"\" defer=\"\" src=\"https://connect.facebook.net/en_US/sdk.js\"></script>\n",
              "\n",
              "        <meta content=\"passiton.com\" property=\"og:site_name\"/>\n",
              "        <meta content=\"Inspirational Quotes - Motivational Quotes - Leadership Quotes\" property=\"og:title\"/>\n",
              "        <meta content=\"website\" property=\"og:type\"/>\n",
              "        <meta content=\"https://www.passiton.com/passiton.jpg\" property=\"og:image\"/>\n",
              "        <meta content=\"https://www.passiton.com/inspirational-quotes\" property=\"og:url\"/>\n",
              "        <meta content=\"Find the perfect quotation from our hand-picked collection of inspiring quotes by hundreds of authors.\" property=\"og:description\"/>\n",
              "        <meta content=\"483774921971842\" property=\"fb:app_id\"/>\n",
              "\n",
              "        <meta content=\"summary_large_image\" name=\"twitter:card\"/>\n",
              "        <meta content=\"@passiton\" name=\"twitter:site\"/>\n",
              "        <meta content=\"@passiton\" name=\"twitter:creator\"/>\n",
              "        <meta content=\"Inspirational Quotes - Motivational Quotes - Leadership Quotes\" name=\"twitter:title\"/>\n",
              "        <meta content=\"Find the perfect quotation from our hand-picked collection of inspiring quotes by hundreds of authors.\" name=\"twitter:description\"/>\n",
              "        <meta content=\"https://www.passiton.com/passiton.jpg\" name=\"twitter:image\"/>\n",
              "        <meta content=\"https://www.passiton.com/inspirational-quotes\" name=\"twitter:url\"/>\n",
              "\n",
              "        <meta content=\"passiton.com\" itemprop=\"name\"/>\n",
              "        <meta content=\"Find the perfect quotation from our hand-picked collection of inspiring quotes by hundreds of authors.\" itemprop=\"description\"/>\n",
              "        <meta content=\"https://www.passiton.com/passiton.jpg\" itemprop=\"image\"/>\n",
              "\n",
              "        <link href=\"/apple-touch-icon.png\" rel=\"apple-touch-icon\" sizes=\"180x180\"/>\n",
              "        <link href=\"/favicon-32x32.png\" rel=\"icon\" sizes=\"32x32\" type=\"image/png\"/>\n",
              "        <link href=\"/favicon-16x16.png\" rel=\"icon\" sizes=\"16x16\" type=\"image/png\"/>\n",
              "        <link color=\"#C8102E\" href=\"/passiton_arrow.svg\" rel=\"mask-icon\"/>\n",
              "        <link href=\"/manifest.json\" rel=\"manifest\"/>\n",
              "        <link color=\"#5bbad5\" href=\"/safari-pinned-tab.svg\" rel=\"mask-icon\"/>\n",
              "        <meta content=\"passiton\" name=\"apple-mobile-web-app-title\"/>\n",
              "        <meta content=\"passiton\" name=\"application-name\"/>\n",
              "        <meta content=\"#f1f1f1\" name=\"theme-color\"/>\n",
              "        <link href=\"https://www.passiton.com/inspirational-quotes.atom\" rel=\"alternate\" title=\"RSS\" type=\"application/rss+xml\"/>\n",
              "\n",
              "    </head>\n",
              "    <body class=\"no-transition quotes_index\">\n",
              "                <header>\n",
              "          <nav class=\"navbar navbar-default bootsnav background-transparent header-dark white-link navbar-fixed-top navbar-expand-lg nav-box-width\">\n",
              "            <div class=\"container-fluid nav-header-container\">\n",
              "\n",
              "              <div class=\"col-auto pl-0\">\n",
              "                <a class=\"logo\" href=\"/\" title=\"Pass It On®\"><img alt=\"Pass It On\" class=\"logo-dark\" data-rjs=\"/assets/site/logo@2x-77b9f4fa1e4bafa6ff119f8f162b7bd9.png\" src=\"/assets/site/logo-6d680decaadef58e4fbb586e147bc135.png\"/><img alt=\"Pass It On\" class=\"logo-light default\" data-rjs=\"/assets/site/logo-white@2x-82bf2486063a48e9207811cc7f6d5e5f.png\" src=\"/assets/site/logo-white-2d99f390ad2f6d3bbf59a52aadb55d60.png\"/></a>\n",
              "              </div>\n",
              "\n",
              "              <div class=\"col accordion-menu pr-0 pr-md-3\">\n",
              "                <button class=\"navbar-toggler collapsed\" data-target=\"#navbar-collapse-toggle-1\" data-toggle=\"collapse\" type=\"button\">\n",
              "                  <span class=\"sr-only\">toggle navigation</span><span class=\"icon-bar\"></span><span class=\"icon-bar\"></span><span class=\"icon-bar\"></span>\n",
              "                </button>\n",
              "                <div class=\"navbar-collapse collapse justify-content-end\" id=\"navbar-collapse-toggle-1\">\n",
              "                  <ul class=\"nav navbar-nav navbar-left no-margin alt-font text-normal\" data-in=\"fadeIn\" data-out=\"fadeOut\" id=\"accordion\">\n",
              "                    <li><a href=\"/inspirational-quotes\">Quotes</a></li>\n",
              "                    <li><a href=\"/inspirational-stories-tv-spots\">Videos</a></li>\n",
              "                    <li class=\"dropdown simple-dropdown\"><a href=\"/inspirational-sayings-billboards\">Billboards <i aria-hidden=\"true\" class=\"fas fa-caret-down d-none d-lg-inline\"></i></a><i aria-hidden=\"true\" class=\"fas fa-caret-down dropdown-toggle\" data-toggle=\"dropdown\"></i>\n",
              "                      <ul class=\"dropdown-menu\" role=\"menu\">\n",
              "                        <li><a href=\"/inspirational-sayings-billboards\">Official Billboards</a></li>\n",
              "                        <li><a href=\"/is-in-you\">Is In You® Billboards</a></li>\n",
              "                        <li><a href=\"/your-billboards\">Create Your Own Billboard</a></li>\n",
              "                      </ul>\n",
              "                    </li>\n",
              "                    <li><a href=\"/positive-good-news-columns\">Newspapers</a></li>\n",
              "                    <li><a href=\"/radio\">Radio</a></li>\n",
              "                    <li><a href=\"/passiton-blog\">Blog</a></li>\n",
              "                    <li class=\"dropdown simple-dropdown\"><a href=\"#\">Language <i aria-hidden=\"true\" class=\"fas fa-caret-down d-none d-lg-inline\"></i></a><i aria-hidden=\"true\" class=\"fas fa-caret-down dropdown-toggle\" data-toggle=\"dropdown\"></i>\n",
              "                      <ul class=\"dropdown-menu\" role=\"menu\">\n",
              "                        <li><a href=\"https://www.pasala.org/\" target=\"_blank\">Spanish | Español</a></li>\n",
              "                        <li><a href=\"https://www.umavidamelhor.org/\" target=\"_blank\">Portuguese | Português</a></li>\n",
              "                        <li><a href=\"https://www.values.cn.com/\" target=\"_blank\">Chinese | 中文</a></li>\n",
              "                      </ul>\n",
              "                    </li>\n",
              "                  </ul>\n",
              "                </div>\n",
              "              </div>\n",
              "              <div class=\"col-auto pr-0\">\n",
              "                <div class=\"header-searchbar\">\n",
              "                  <a class=\"header-search-form\" href=\"#search-header\"><i class=\"fas fa-search search-button\"></i></a>\n",
              "                  <form action=\"/search\" class=\"mfp-hide search-form-result\" id=\"search-header\" method=\"post\" name=\"search-header\">\n",
              "                    <div class=\"search-form position-relative\">\n",
              "                      <button class=\"fas fa-search close-search search-button\" type=\"submit\"></button>\n",
              "                      <input autocomplete=\"off\" class=\"search-input\" name=\"q\" placeholder=\"Search passiton.com...\" type=\"text\"/>\n",
              "                    </div>\n",
              "                  </form>\n",
              "                </div>\n",
              "              </div>\n",
              "            </div>\n",
              "          </nav>\n",
              "        </header>\n",
              "\n",
              "        \n",
              "\n",
              "    <section class=\"parallax padding-six-all bg-black\" data-stellar-background-ratio=\"0.2\" style=\"background-image:url('/assets/backgrounds/flowers-8d19415bc3bc371f5beaed468d9a1970.jpg');\">\n",
              "        <div class=\"container\">\n",
              "            <div class=\"row justify-content-center\">\n",
              "                <div class=\"col-12 col-lg-10 text-center\">\n",
              "                    <div class=\"shadow bg-extra-dark-gray padding-two-all border-radius-6 width-70 lg-width-80 sm-width-100 mx-auto lg-padding-30px-all sm-padding-15px-all sm-margin-40px-top\">\n",
              "                        <h6 class=\"font-weight-300 text-white-2 margin-20px-bottom sm-margin-15px-bottom\">Get our FREE daily quote emails!</h6>\n",
              "                        <p class=\"text-medium width-70 mx-auto margin-40px-bottom sm-width-100 sm-margin-15px-bottom\">Get a daily inspirational quote in your inbox each weekday! Enter your email below to subscribe.</p>\n",
              "\n",
              "                        <form accept-charset=\"UTF-8\" action=\"/users\" class=\"simple_form search-box3 margin-10px-bottom\" id=\"new_user\" method=\"post\" novalidate=\"novalidate\"><input name=\"utf8\" type=\"hidden\" value=\"✓\"/><input name=\"authenticity_token\" type=\"hidden\" value=\"VjvUxsr0D5ZKyerqOnRs5xfxdxEGomIRix6YOaWws1QmXehjFTPaFXH024rYJQ3Bb5FcOmG9j37CCZa5/MBpNQ==\"/>\n",
              "                            <div class=\"input-group add-on width-75 mx-auto sm-width-100\">\n",
              "                                <input class=\"string email optional form-control text-white\" id=\"user_email\" label=\"false\" name=\"user[email]\" placeholder=\"you@your-email.com\" type=\"text\"/>\n",
              "                                <script src=\"https://www.recaptcha.net/recaptcha/api.js?render=6Ldta8EUAAAAACp3yt76yG8QWMdQkpDBkP1bcHi6\"></script>\n",
              "        <script>\n",
              "          // Define function so that we can call it again later if we need to reset it\n",
              "          // This executes reCAPTCHA and then calls our callback.\n",
              "          function executeRecaptchaForQuote() {\n",
              "            grecaptcha.ready(function() {\n",
              "              grecaptcha.execute('6Ldta8EUAAAAACp3yt76yG8QWMdQkpDBkP1bcHi6', {action: 'quote'}).then(function(token) {\n",
              "                setInputWithRecaptchaResponseTokenForQuote('g-recaptcha-response-data-quote', token)\n",
              "              });\n",
              "            });\n",
              "          };\n",
              "          // Invoke immediately\n",
              "          executeRecaptchaForQuote()\n",
              "\n",
              "          // Async variant so you can await this function from another async function (no need for\n",
              "          // an explicit callback function then!)\n",
              "          // Returns a Promise that resolves with the response token.\n",
              "          async function executeRecaptchaForQuoteAsync() {\n",
              "            return new Promise((resolve, reject) => {\n",
              "              grecaptcha.ready(async function() {\n",
              "                resolve(await grecaptcha.execute('6Ldta8EUAAAAACp3yt76yG8QWMdQkpDBkP1bcHi6', {action: 'quote'}))\n",
              "              });\n",
              "            })\n",
              "          };\n",
              "\n",
              "                    var setInputWithRecaptchaResponseTokenForQuote = function(id, token) {\n",
              "            var element = document.getElementById(id);\n",
              "            element.value = token;\n",
              "          }\n",
              "\n",
              "        </script>\n",
              "<input class=\"g-recaptcha g-recaptcha-response \" data-sitekey=\"6Ldta8EUAAAAACp3yt76yG8QWMdQkpDBkP1bcHi6\" id=\"g-recaptcha-response-data-quote\" name=\"g-recaptcha-response-data[quote]\" type=\"hidden\"/>\n",
              "\n",
              "                                <div class=\"input-group-append\">\n",
              "                                    <button class=\"btn btn-default\" type=\"submit\"><i class=\"ti-arrow-right text-small m-0\"></i></button>\n",
              "                                </div>\n",
              "                            </div>\n",
              "</form>\n",
              "\n",
              "                    </div>\n",
              "                </div>\n",
              "            </div>\n",
              "        </div>\n",
              "    </section>\n",
              "\n",
              "\n",
              "<section class=\"half-section bg-extra-dark-gray half-section\">\n",
              "    <div class=\"container\">\n",
              "\n",
              "        <div class=\"row m-0\">\n",
              "            <div class=\"col-12 d-flex flex-column justify-content-center text-center wow fadeIn\" data-wow-delay=\"0.2s\">\n",
              "                <h5 class=\"text-white alt-font font-weight-400 letter-spacing-1 margin-10px-bottom\">INSPIRATIONAL QUOTES</h5>\n",
              "                <span class=\"text-white-2 opacity8 alt-font mb-0 padding-20px-bottom\">Find the perfect quote... and Pass It On®</span>\n",
              "\n",
              "                <form action=\"/inspirational-quotes\" class=\"search-box2 margin-30px-bottom\" method=\"get\">\n",
              "                    <div class=\"input-group add-on width-75 mx-auto sm-width-100\">\n",
              "                        <input class=\"form-control\" name=\"q\" placeholder=\"Search our inspiring quotes...\" type=\"text\" value=\"\"/>\n",
              "                        <div class=\"input-group-append\">\n",
              "                            <button class=\"btn btn-default\" type=\"submit\"><i class=\"ti-search text-small m-0\"></i></button>\n",
              "                        </div>\n",
              "                    </div>\n",
              "                </form>\n",
              "\n",
              "            </div>\n",
              "        </div>\n",
              "\n",
              "        <div class=\"row\" id=\"all_quotes\">\n",
              "            <div class=\"col-6 col-lg-3 text-center margin-30px-bottom sm-margin-30px-top\">\n",
              "\n",
              "        <a href=\"/inspirational-quotes/8263-an-exchange-of-empathy-provides-an-entry-point\"><img alt=\"An exchange of empathy provides an entry point for a lot of people to see what healing feels like.  #&lt;Author:0x00007fcd46df0c08&gt;\" class=\"margin-10px-bottom shadow\" height=\"310\" src=\"https://assets.passiton.com/quotes/quote_artwork/8263/medium/20210917_friday_quote.jpg?1631298884\" width=\"310\"/></a>\n",
              "        <h5 class=\"value_on_red\"><a href=\"/inspirational-quotes/8263-an-exchange-of-empathy-provides-an-entry-point\">EMPATHY</a></h5>\n",
              "\n",
              "</div><div class=\"col-6 col-lg-3 text-center margin-30px-bottom sm-margin-30px-top\">\n",
              "\n",
              "        <a href=\"/inspirational-quotes/8262-whenever-you-are-about-to-find-fault-with\"><img alt=\"Whenever you are about to find fault with someone, ask yourself the following question: What fault of mine most nearly resembles the one I am about to criticize? #&lt;Author:0x00007fcd46e2d748&gt;\" class=\"margin-10px-bottom shadow\" height=\"310\" src=\"https://assets.passiton.com/quotes/quote_artwork/8262/medium/20210916_thursday_quote.jpg?1631298861\" width=\"310\"/></a>\n",
              "        <h5 class=\"value_on_red\"><a href=\"/inspirational-quotes/8262-whenever-you-are-about-to-find-fault-with\">EMPATHY</a></h5>\n",
              "\n",
              "</div><div class=\"col-6 col-lg-3 text-center margin-30px-bottom sm-margin-30px-top\">\n",
              "\n",
              "        <a href=\"/inspirational-quotes/8080-we-think-we-listen-but-very-rarely-do-we\"><img alt=\"We think we listen, but very rarely do we listen with real understanding, true empathy. Yet listening, of this very special kind, is one of the most potent forces for change that I know. #&lt;Author:0x00007fcd46e5a108&gt;\" class=\"margin-10px-bottom shadow\" height=\"310\" src=\"https://assets.passiton.com/quotes/quote_artwork/8080/medium/20210915_wednesday_quote.jpg?1631298835\" width=\"310\"/></a>\n",
              "        <h5 class=\"value_on_red\"><a href=\"/inspirational-quotes/8080-we-think-we-listen-but-very-rarely-do-we\">EMPATHY</a></h5>\n",
              "\n",
              "</div><div class=\"col-6 col-lg-3 text-center margin-30px-bottom sm-margin-30px-top\">\n",
              "\n",
              "        <a href=\"/inspirational-quotes/8261-empathy-is-about-finding-echoes-of-another\"><img alt=\"Empathy is about finding echoes of another person in yourself. #&lt;Author:0x00007fcd46e92f30&gt;\" class=\"margin-10px-bottom shadow\" height=\"310\" src=\"https://assets.passiton.com/quotes/quote_artwork/8261/medium/20210914_tuesday_quote.jpg?1631298808\" width=\"310\"/></a>\n",
              "        <h5 class=\"value_on_red\"><a href=\"/inspirational-quotes/8261-empathy-is-about-finding-echoes-of-another\">EMPATHY</a></h5>\n",
              "\n",
              "</div><div class=\"col-6 col-lg-3 text-center margin-30px-bottom sm-margin-30px-top\">\n",
              "\n",
              "        <a href=\"/inspirational-quotes/3202-how-far-you-go-in-life-depends-on-your-being\"><img alt=\"How far you go in life depends on your being tender with the young, compassionate with the aged, sympathetic with the striving, and tolerant of the weak and the strong, because someday in your life, you will have been all of these. #&lt;Author:0x00007fcd46ebf170&gt;\" class=\"margin-10px-bottom shadow\" height=\"310\" src=\"https://assets.passiton.com/quotes/quote_artwork/3202/medium/20210913_monday_quote.jpg?1631298784\" width=\"310\"/></a>\n",
              "        <h5 class=\"value_on_red\"><a href=\"/inspirational-quotes/3202-how-far-you-go-in-life-depends-on-your-being\">EMPATHY</a></h5>\n",
              "\n",
              "</div><div class=\"col-6 col-lg-3 text-center margin-30px-bottom sm-margin-30px-top\">\n",
              "\n",
              "        <a href=\"/inspirational-quotes/7961-talk-to-yourself-like-you-would-to-someone-you\"><img alt=\"Talk to yourself like you would to someone you love. #&lt;Author:0x00007fcd46eeffa0&gt;\" class=\"margin-10px-bottom shadow\" height=\"310\" src=\"https://assets.passiton.com/quotes/quote_artwork/7961/medium/20210910_friday_quote.jpg?1630703929\" width=\"310\"/></a>\n",
              "        <h5 class=\"value_on_red\"><a href=\"/inspirational-quotes/7961-talk-to-yourself-like-you-would-to-someone-you\">SELF-CARE</a></h5>\n",
              "\n",
              "</div><div class=\"col-6 col-lg-3 text-center margin-30px-bottom sm-margin-30px-top\">\n",
              "\n",
              "        <a href=\"/inspirational-quotes/8260-self-care-is-not-self-indulgence-it-is\"><img alt=\"Self-care is not self-indulgence, it is self-preservation. #&lt;Author:0x00007fcd46f1ae30&gt;\" class=\"margin-10px-bottom shadow\" height=\"310\" src=\"https://assets.passiton.com/quotes/quote_artwork/8260/medium/20210909_thursday_quote.jpg?1630703897\" width=\"310\"/></a>\n",
              "        <h5 class=\"value_on_red\"><a href=\"/inspirational-quotes/8260-self-care-is-not-self-indulgence-it-is\">SELF-CARE</a></h5>\n",
              "\n",
              "</div><div class=\"col-6 col-lg-3 text-center margin-30px-bottom sm-margin-30px-top\">\n",
              "\n",
              "        <a href=\"/inspirational-quotes/7055-there-s-only-one-corner-of-the-universe-you-can\"><img alt=\"There’s only one corner of the universe you can be certain of improving, and that’s your own self. #&lt;Author:0x00007fcd46f44c08&gt;\" class=\"margin-10px-bottom shadow\" height=\"310\" src=\"https://assets.passiton.com/quotes/quote_artwork/7055/medium/20210908_wednesday_quote.jpg?1630703870\" width=\"310\"/></a>\n",
              "        <h5 class=\"value_on_red\"><a href=\"/inspirational-quotes/7055-there-s-only-one-corner-of-the-universe-you-can\">SELF-CARE</a></h5>\n",
              "\n",
              "</div><div class=\"col-6 col-lg-3 text-center margin-30px-bottom sm-margin-30px-top\">\n",
              "\n",
              "        <a href=\"/inspirational-quotes/8259-rest-and-self-care-are-so-important-when-you\"><img alt=\"Rest and self-care are so important. When you take time to replenish your spirit, it allows you to serve from the overflow. You cannot serve from an empty vessel. #&lt;Author:0x00007fcd46f82a80&gt;\" class=\"margin-10px-bottom shadow\" height=\"310\" src=\"https://assets.passiton.com/quotes/quote_artwork/8259/medium/20210907_tuesday_quote.jpg?1630703831\" width=\"310\"/></a>\n",
              "        <h5 class=\"value_on_red\"><a href=\"/inspirational-quotes/8259-rest-and-self-care-are-so-important-when-you\">SELF-CARE</a></h5>\n",
              "\n",
              "</div><div class=\"col-6 col-lg-3 text-center margin-30px-bottom sm-margin-30px-top\">\n",
              "\n",
              "        <a href=\"/inspirational-quotes/8258-mind-body-soul-these-are-the-three-things\"><img alt=\"Mind. Body. Soul. These are the three things self-care is all about. #&lt;Author:0x00007fcd46faee78&gt;\" class=\"margin-10px-bottom shadow\" height=\"310\" src=\"https://assets.passiton.com/quotes/quote_artwork/8258/medium/20210906_monday_quote.jpg?1630703806\" width=\"310\"/></a>\n",
              "        <h5 class=\"value_on_red\"><a href=\"/inspirational-quotes/8258-mind-body-soul-these-are-the-three-things\">SELF-CARE</a></h5>\n",
              "\n",
              "</div><div class=\"col-6 col-lg-3 text-center margin-30px-bottom sm-margin-30px-top\">\n",
              "\n",
              "        <a href=\"/inspirational-quotes/8257-the-people-closest-to-me-determine-my-level-of\"><img alt=\"The people closest to me determine my level of success or failure. The better they are, the better I am. And if I want to go to the highest level, I can do it only with the help of other people. We have to take each other higher. #&lt;Author:0x00007fcd46fde240&gt;\" class=\"margin-10px-bottom shadow\" height=\"310\" src=\"https://assets.passiton.com/quotes/quote_artwork/8257/medium/20200903_friday_quote.jpg?1630078590\" width=\"310\"/></a>\n",
              "        <h5 class=\"value_on_red\"><a href=\"/inspirational-quotes/8257-the-people-closest-to-me-determine-my-level-of\">TEAMWORK</a></h5>\n",
              "\n",
              "</div><div class=\"col-6 col-lg-3 text-center margin-30px-bottom sm-margin-30px-top\">\n",
              "\n",
              "        <a href=\"/inspirational-quotes/5572-cooperation-is-the-thorough-conviction-that\"><img alt=\"Cooperation is the thorough conviction that nobody can get there unless everybody gets there. #&lt;Author:0x00007fcd4700b150&gt;\" class=\"margin-10px-bottom shadow\" height=\"310\" src=\"https://assets.passiton.com/quotes/quote_artwork/5572/medium/20200902_thursday_quote.jpg?1630078566\" width=\"310\"/></a>\n",
              "        <h5 class=\"value_on_red\"><a href=\"/inspirational-quotes/5572-cooperation-is-the-thorough-conviction-that\">TEAMWORK</a></h5>\n",
              "\n",
              "</div><div class=\"col-6 col-lg-3 text-center margin-30px-bottom sm-margin-30px-top\">\n",
              "\n",
              "        <a href=\"/inspirational-quotes/7295-the-strength-of-the-team-is-each-individual\"><img alt=\"The strength of the team is each individual member. The strength of each member is the team. #&lt;Author:0x00007fcd47034cd0&gt;\" class=\"margin-10px-bottom shadow\" height=\"310\" src=\"https://assets.passiton.com/quotes/quote_artwork/7295/medium/20200901_wednesday_quote.jpg?1630078539\" width=\"310\"/></a>\n",
              "        <h5 class=\"value_on_red\"><a href=\"/inspirational-quotes/7295-the-strength-of-the-team-is-each-individual\">TEAMWORK</a></h5>\n",
              "\n",
              "</div><div class=\"col-6 col-lg-3 text-center margin-30px-bottom sm-margin-30px-top\">\n",
              "\n",
              "        <a href=\"/inspirational-quotes/6116-problems-can-become-opportunities-when-the\"><img alt=\"Problems can become opportunities when the right people come together.  #&lt;Author:0x00007fcd47066690&gt;\" class=\"margin-10px-bottom shadow\" height=\"310\" src=\"https://assets.passiton.com/quotes/quote_artwork/6116/medium/20200831_tuesday_quote.jpg?1630078510\" width=\"310\"/></a>\n",
              "        <h5 class=\"value_on_red\"><a href=\"/inspirational-quotes/6116-problems-can-become-opportunities-when-the\">TEAMWORK</a></h5>\n",
              "\n",
              "</div><div class=\"col-6 col-lg-3 text-center margin-30px-bottom sm-margin-30px-top\">\n",
              "\n",
              "        <a href=\"/inspirational-quotes/6751-individual-commitment-to-a-group-effort-that\"><img alt=\"Individual commitment to a group effort - that is what makes a team work, a company work, a society work, a civilization work. #&lt;Author:0x00007fcd47091c00&gt;\" class=\"margin-10px-bottom shadow\" height=\"310\" src=\"https://assets.passiton.com/quotes/quote_artwork/6751/medium/20200830_monday_quote.jpg?1630078481\" width=\"310\"/></a>\n",
              "        <h5 class=\"value_on_red\"><a href=\"/inspirational-quotes/6751-individual-commitment-to-a-group-effort-that\">TEAMWORK</a></h5>\n",
              "\n",
              "</div><div class=\"col-6 col-lg-3 text-center margin-30px-bottom sm-margin-30px-top\">\n",
              "\n",
              "        <a href=\"/inspirational-quotes/7705-it-is-easier-to-reach-our-potential-when-we\"><img alt=\"It is easier to reach our potential when we learn the value of including others in our quest. #&lt;Author:0x00007fcd470bd5d0&gt;\" class=\"margin-10px-bottom shadow\" height=\"310\" src=\"https://assets.passiton.com/quotes/quote_artwork/7705/medium/20210827_friday_quote.jpg?1629348009\" width=\"310\"/></a>\n",
              "        <h5 class=\"value_on_red\"><a href=\"/inspirational-quotes/7705-it-is-easier-to-reach-our-potential-when-we\">INCLUDING OTHERS</a></h5>\n",
              "\n",
              "</div><div class=\"col-6 col-lg-3 text-center margin-30px-bottom sm-margin-30px-top\">\n",
              "\n",
              "        <a href=\"/inspirational-quotes/8256-to-be-fully-seen-by-somebody-then-and-be\"><img alt=\"To be fully seen by somebody, then, and be loved anyhow—this is a human offering that can border on miraculous. #&lt;Author:0x00007fcd470f69c0&gt;\" class=\"margin-10px-bottom shadow\" height=\"310\" src=\"https://assets.passiton.com/quotes/quote_artwork/8256/medium/20210826_thursday_quote.jpg?1629347979\" width=\"310\"/></a>\n",
              "        <h5 class=\"value_on_red\"><a href=\"/inspirational-quotes/8256-to-be-fully-seen-by-somebody-then-and-be\">INCLUDING OTHERS</a></h5>\n",
              "\n",
              "</div><div class=\"col-6 col-lg-3 text-center margin-30px-bottom sm-margin-30px-top\">\n",
              "\n",
              "        <a href=\"/inspirational-quotes/8255-have-a-big-enough-heart-to-love\"><img alt=\"Have a big enough heart to love unconditionally, and a broad enough mind to embrace the differences that make each of us unique. #&lt;Author:0x00007fcd47120cc0&gt;\" class=\"margin-10px-bottom shadow\" height=\"310\" src=\"https://assets.passiton.com/quotes/quote_artwork/8255/medium/20210825_wednesday_quote.jpg?1629347953\" width=\"310\"/></a>\n",
              "        <h5 class=\"value_on_red\"><a href=\"/inspirational-quotes/8255-have-a-big-enough-heart-to-love\">INCLUDING OTHERS</a></h5>\n",
              "\n",
              "</div><div class=\"col-6 col-lg-3 text-center margin-30px-bottom sm-margin-30px-top\">\n",
              "\n",
              "        <a href=\"/inspirational-quotes/8254-acceptance-is-simply-love-in-practice-when-you\"><img alt=\"Acceptance is simply love in practice. When you love, you accept, when you lack love, you judge. #&lt;Author:0x00007fcd4715d800&gt;\" class=\"margin-10px-bottom shadow\" height=\"310\" src=\"https://assets.passiton.com/quotes/quote_artwork/8254/medium/20210824_tuesday_quote.jpg?1629347928\" width=\"310\"/></a>\n",
              "        <h5 class=\"value_on_red\"><a href=\"/inspirational-quotes/8254-acceptance-is-simply-love-in-practice-when-you\">INCLUDING OTHERS</a></h5>\n",
              "\n",
              "</div><div class=\"col-6 col-lg-3 text-center margin-30px-bottom sm-margin-30px-top\">\n",
              "\n",
              "        <a href=\"/inspirational-quotes/8253-the-happiness-of-ones-own-heart-alone-cannot\"><img alt=\"The happiness of one's own heart alone cannot satisfy the soul; one must try to include, as necessary to one's own happiness, the happiness of others. #&lt;Author:0x00007fcd4718b1d8&gt;\" class=\"margin-10px-bottom shadow\" height=\"310\" src=\"https://assets.passiton.com/quotes/quote_artwork/8253/medium/20210823_monday_quote.jpg?1629347894\" width=\"310\"/></a>\n",
              "        <h5 class=\"value_on_red\"><a href=\"/inspirational-quotes/8253-the-happiness-of-ones-own-heart-alone-cannot\">INCLUDING OTHERS</a></h5>\n",
              "\n",
              "</div><div class=\"col-6 col-lg-3 text-center margin-30px-bottom sm-margin-30px-top\">\n",
              "\n",
              "        <a href=\"/inspirational-quotes/7020-nothing-in-life-is-to-be-feared-it-is-only-to\"><img alt=\"Nothing in life is to be feared. It is only to be understood. Now is the time to understand more, so that we may fear less. #&lt;Author:0x00007fcd471bb810&gt;\" class=\"margin-10px-bottom shadow\" height=\"310\" src=\"https://assets.passiton.com/quotes/quote_artwork/7020/medium/20210820_friday_quote.jpg?1628879237\" width=\"310\"/></a>\n",
              "        <h5 class=\"value_on_red\"><a href=\"/inspirational-quotes/7020-nothing-in-life-is-to-be-feared-it-is-only-to\">COURAGE</a></h5>\n",
              "\n",
              "</div><div class=\"col-6 col-lg-3 text-center margin-30px-bottom sm-margin-30px-top\">\n",
              "\n",
              "        <a href=\"/inspirational-quotes/8252-have-the-courage-to-follow-your-heart-and\"><img alt=\"Have the courage to follow your heart and intuition. They somehow already know what you truly want to become. #&lt;Author:0x00007fcd471e4e40&gt;\" class=\"margin-10px-bottom shadow\" height=\"310\" src=\"https://assets.passiton.com/quotes/quote_artwork/8252/medium/20210819_thursday_quote.jpg?1628879212\" width=\"310\"/></a>\n",
              "        <h5 class=\"value_on_red\"><a href=\"/inspirational-quotes/8252-have-the-courage-to-follow-your-heart-and\">COURAGE</a></h5>\n",
              "\n",
              "</div><div class=\"col-6 col-lg-3 text-center margin-30px-bottom sm-margin-30px-top\">\n",
              "\n",
              "        <a href=\"/inspirational-quotes/8251-courage-doesn-t-mean-you-don-t-get-afraid\"><img alt=\"Courage doesn’t mean you don’t get afraid. Courage means you don’t let fear stop you.  #&lt;Author:0x00007fcd47211ee0&gt;\" class=\"margin-10px-bottom shadow\" height=\"310\" src=\"https://assets.passiton.com/quotes/quote_artwork/8251/medium/20210818_wednesday_quote.jpg?1628879189\" width=\"310\"/></a>\n",
              "        <h5 class=\"value_on_red\"><a href=\"/inspirational-quotes/8251-courage-doesn-t-mean-you-don-t-get-afraid\">COURAGE</a></h5>\n",
              "\n",
              "</div><div class=\"col-6 col-lg-3 text-center margin-30px-bottom sm-margin-30px-top\">\n",
              "\n",
              "        <a href=\"/inspirational-quotes/7299-life-shrinks-or-expands-in-proportion-to-ones\"><img alt=\"Life shrinks or expands in proportion to one's courage. #&lt;Author:0x00007fcd47243530&gt;\" class=\"margin-10px-bottom shadow\" height=\"310\" src=\"https://assets.passiton.com/quotes/quote_artwork/7299/medium/20210817_tuesday_quote.jpg?1628879166\" width=\"310\"/></a>\n",
              "        <h5 class=\"value_on_red\"><a href=\"/inspirational-quotes/7299-life-shrinks-or-expands-in-proportion-to-ones\">COURAGE</a></h5>\n",
              "\n",
              "</div><div class=\"col-6 col-lg-3 text-center margin-30px-bottom sm-margin-30px-top\">\n",
              "\n",
              "        <a href=\"/inspirational-quotes/8250-in-one-of-its-earliest-forms-the-word-courage\"><img alt=\"In one of its earliest forms, the word courage meant ‘To speak one’s mind by telling all one’s heart.' #&lt;Author:0x00007fcd4726fae0&gt;\" class=\"margin-10px-bottom shadow\" height=\"310\" src=\"https://assets.passiton.com/quotes/quote_artwork/8250/medium/20210816_monday_quote.jpg?1628879133\" width=\"310\"/></a>\n",
              "        <h5 class=\"value_on_red\"><a href=\"/inspirational-quotes/8250-in-one-of-its-earliest-forms-the-word-courage\">COURAGE</a></h5>\n",
              "\n",
              "</div><div class=\"col-6 col-lg-3 text-center margin-30px-bottom sm-margin-30px-top\">\n",
              "\n",
              "        <a href=\"/inspirational-quotes/8249-some-people-want-it-to-happen-some-wish-it\"><img alt=\"Some people want it to happen, some wish it would happen, others make it happen. #&lt;Author:0x00007fcd4728e0f8&gt;\" class=\"margin-10px-bottom shadow\" height=\"310\" src=\"https://assets.passiton.com/quotes/quote_artwork/8249/medium/20210813_friday_quote.jpg?1628114247\" width=\"310\"/></a>\n",
              "        <h5 class=\"value_on_red\"><a href=\"/inspirational-quotes/8249-some-people-want-it-to-happen-some-wish-it\">PERSEVERANCE</a></h5>\n",
              "\n",
              "</div><div class=\"col-6 col-lg-3 text-center margin-30px-bottom sm-margin-30px-top\">\n",
              "\n",
              "        <a href=\"/inspirational-quotes/4076-there-are-no-shortcuts-to-any-place-worth-going\"><img alt=\"There are no shortcuts to any place worth going. #&lt;Author:0x00007fcd472b6468&gt;\" class=\"margin-10px-bottom shadow\" height=\"310\" src=\"https://assets.passiton.com/quotes/quote_artwork/4076/medium/20210812_thursday_quote.jpg?1628114208\" width=\"310\"/></a>\n",
              "        <h5 class=\"value_on_red\"><a href=\"/inspirational-quotes/4076-there-are-no-shortcuts-to-any-place-worth-going\">PERSEVERANCE</a></h5>\n",
              "\n",
              "</div><div class=\"col-6 col-lg-3 text-center margin-30px-bottom sm-margin-30px-top\">\n",
              "\n",
              "        <a href=\"/inspirational-quotes/8248-the-only-failure-is-quitting-everything-else\"><img alt=\"The only failure is quitting. Everything else is just gathering information. #&lt;Author:0x00007fcd472eada8&gt;\" class=\"margin-10px-bottom shadow\" height=\"310\" src=\"https://assets.passiton.com/quotes/quote_artwork/8248/medium/20210811_wednesday_quote.jpg?1628114184\" width=\"310\"/></a>\n",
              "        <h5 class=\"value_on_red\"><a href=\"/inspirational-quotes/8248-the-only-failure-is-quitting-everything-else\">PERSEVERANCE</a></h5>\n",
              "\n",
              "</div><div class=\"col-6 col-lg-3 text-center margin-30px-bottom sm-margin-30px-top\">\n",
              "\n",
              "        <a href=\"/inspirational-quotes/2210-theres-only-one-way-to-succeed-in-anything-and\"><img alt=\"There's only one way to succeed in anything, and that is to give it everything. #&lt;Author:0x00007fcd4730ff90&gt;\" class=\"margin-10px-bottom shadow\" height=\"310\" src=\"https://assets.passiton.com/quotes/quote_artwork/2210/medium/20210810_tuesday_quote.jpg?1628114164\" width=\"310\"/></a>\n",
              "        <h5 class=\"value_on_red\"><a href=\"/inspirational-quotes/2210-theres-only-one-way-to-succeed-in-anything-and\">PERSEVERANCE</a></h5>\n",
              "\n",
              "</div><div class=\"col-6 col-lg-3 text-center margin-30px-bottom sm-margin-30px-top\">\n",
              "\n",
              "        <a href=\"/inspirational-quotes/5831-in-the-confrontation-between-the-stream-and-the\"><img alt=\"In the confrontation between the stream and the rock, the stream always wins- not through strength but by perseverance. #&lt;Author:0x00007fcd4732e440&gt;\" class=\"margin-10px-bottom shadow\" height=\"310\" src=\"https://assets.passiton.com/quotes/quote_artwork/5831/medium/20210809_monday_quote.jpg?1628114140\" width=\"310\"/></a>\n",
              "        <h5 class=\"value_on_red\"><a href=\"/inspirational-quotes/5831-in-the-confrontation-between-the-stream-and-the\">PERSEVERANCE</a></h5>\n",
              "\n",
              "</div><div class=\"col-6 col-lg-3 text-center margin-30px-bottom sm-margin-30px-top\">\n",
              "\n",
              "        <a href=\"/inspirational-quotes/7783-a-good-laugh-heals-a-lot-of-hurts\"><img alt=\"A good laugh heals a lot of hurts. #&lt;Author:0x00007fcd47363528&gt;\" class=\"margin-10px-bottom shadow\" height=\"310\" src=\"https://assets.passiton.com/quotes/quote_artwork/7783/medium/20210806_friday_quote.jpg?1627091944\" width=\"310\"/></a>\n",
              "        <h5 class=\"value_on_red\"><a href=\"/inspirational-quotes/7783-a-good-laugh-heals-a-lot-of-hurts\">LAUGHTER</a></h5>\n",
              "\n",
              "</div><div class=\"col-6 col-lg-3 text-center margin-30px-bottom sm-margin-30px-top\">\n",
              "\n",
              "        <a href=\"/inspirational-quotes/8247-laughter-lightens-the-soul\"><img alt=\"Laughter lightens the soul. #&lt;Author:0x00007fcd473815a0&gt;\" class=\"margin-10px-bottom shadow\" height=\"310\" src=\"https://assets.passiton.com/quotes/quote_artwork/8247/medium/20210805_thursday_quote.jpg?1627091911\" width=\"310\"/></a>\n",
              "        <h5 class=\"value_on_red\"><a href=\"/inspirational-quotes/8247-laughter-lightens-the-soul\">LAUGHTER</a></h5>\n",
              "\n",
              "</div>\n",
              "        </div>\n",
              "\n",
              "        <div class=\"row\">\n",
              "            <div class=\"col-12 text-center\">\n",
              "                <div class=\"quotes_pagination\"><span class=\"previous_page disabled\">← Previous</span> <em class=\"current\">1</em> <a href=\"/inspirational-quotes?page=2\" rel=\"next\">2</a> <a href=\"/inspirational-quotes?page=3\">3</a> <a href=\"/inspirational-quotes?page=4\">4</a> <a href=\"/inspirational-quotes?page=5\">5</a> <a href=\"/inspirational-quotes?page=6\">6</a> <a href=\"/inspirational-quotes?page=7\">7</a> <a href=\"/inspirational-quotes?page=8\">8</a> <a href=\"/inspirational-quotes?page=9\">9</a> <span class=\"gap\">…</span> <a href=\"/inspirational-quotes?page=122\">122</a> <a href=\"/inspirational-quotes?page=123\">123</a> <a class=\"next_page\" href=\"/inspirational-quotes?page=2\" rel=\"next\">Next →</a></div>\n",
              "            </div>\n",
              "        </div>\n",
              "\n",
              "    </div>\n",
              "</section>\n",
              "        <footer class=\"footer-classic-dark bg-extra-dark-gray padding-five-bottom sm-padding-30px-bottom\">\n",
              "  <div class=\"bg-dark-footer padding-50px-tb sm-padding-30px-tb\">\n",
              "    <div class=\"container\">\n",
              "      <div class=\"row align-items-center\">\n",
              "\n",
              "        <div class=\"col-lg-4 col-md-4 sm-text-center lg-text-left alt-font sm-margin-15px-bottom\">\n",
              "          <a href=\"/\"><img alt=\"PassItOn.com The Foundation for a Better Life\" class=\"footer_logo\" data-rjs=\"/assets/site/passiton_fbl_logo-078fc8bdd27f7ef8c76cf23b391f16e3.png\" src=\"/assets/site/passiton_fbl_logo-078fc8bdd27f7ef8c76cf23b391f16e3.png\" style=\"max-width: 200px;\"/></a>\n",
              "        </div>\n",
              "\n",
              "        <div class=\"col-lg-4 col-md-4 text-center sm-margin-10px-bottom\">\n",
              "        </div>\n",
              "\n",
              "        <div class=\"col-lg-4 col-md-4 text-center\">\n",
              "          <span class=\"alt-font margin-20px-right\">Follow us on social</span>\n",
              "          <div class=\"social-icon-style-8 d-inline-block vertical-align-middle\">\n",
              "            <ul class=\"small-icon mb-0\">\n",
              "              <li><a class=\"facebook text-white-2\" href=\"https://www.facebook.com/valuescom\" target=\"_blank\"><i aria-hidden=\"true\" class=\"fab fa-facebook-f\"></i></a></li>\n",
              "              <li><a class=\"twitter text-white-2\" href=\"https://twitter.com/passiton_values\" target=\"_blank\"><i class=\"fab fa-twitter\"></i></a></li>\n",
              "              <li><a class=\"instagram text-white-2\" href=\"https://www.instagram.com/passiton_values/\" target=\"_blank\"><i aria-hidden=\"true\" class=\"fab fa-instagram no-margin-right\"></i></a></li>\n",
              "              <li><a class=\"pinterest text-white-2\" href=\"https://www.pinterest.com/passiton_values/\" target=\"_blank\"><i aria-hidden=\"true\" class=\"fab fa-pinterest no-margin-right\"></i></a></li>\n",
              "              <li><a class=\"youtube text-white-2\" href=\"https://www.youtube.com/c/passiton_values\" target=\"_blank\"><i aria-hidden=\"true\" class=\"fab fa-youtube no-margin-right\"></i></a></li>\n",
              "            </ul>\n",
              "          </div>\n",
              "        </div>\n",
              "\n",
              "      </div>\n",
              "    </div>\n",
              "  </div>\n",
              "  <div class=\"footer-widget-area padding-five-top padding-30px-bottom sm-padding-30px-top\">\n",
              "    <div class=\"container\">\n",
              "      <div class=\"row\">\n",
              "\n",
              "        <div class=\"col-lg-3 col-md-6 widget border-right border-color-medium-dark-gray padding-45px-left md-padding-15px-left md-no-border-right md-margin-30px-bottom text-center text-md-left\">\n",
              "          <div class=\"widget-title alt-font text-small text-medium-gray text-uppercase margin-10px-bottom font-weight-600\">About Us</div>\n",
              "          <ul class=\"list-unstyled\">\n",
              "            <li><a class=\"text-small\" href=\"/who-we-are\">About The Foundation for a Better Life</a></li>\n",
              "            <li><a class=\"text-small\" href=\"/faqs\">FAQs</a></li>\n",
              "            <li><a class=\"text-small\" href=\"/foundation-recognition\">Foundation Recognition</a></li>\n",
              "            <li><a class=\"text-small\" href=\"/contact-us\">Contact Us</a></li>\n",
              "          </ul>\n",
              "        </div>\n",
              "\n",
              "        <div class=\"col-lg-3 col-md-6 widget border-right border-color-medium-dark-gray padding-45px-left md-padding-15px-left md-no-border-right md-margin-30px-bottom text-center text-md-left\">\n",
              "          <div class=\"widget-title alt-font text-small text-medium-gray text-uppercase margin-10px-bottom font-weight-600\">Be Inspired</div>\n",
              "          <ul class=\"list-unstyled\">\n",
              "            <li><a class=\"text-small\" href=\"/teaching-values\">Teaching Values</a></li>\n",
              "            <li><a class=\"text-small\" href=\"/inspirational-quotes\">Inspirational Quotations</a></li>\n",
              "            <li><a class=\"text-small\" href=\"/inspirational-stories-tv-spots\">Pass It On® Videos</a></li>\n",
              "            <li><a class=\"text-small\" href=\"/positive-good-news-columns\">Free Newspaper Stories</a></li>\n",
              "            <li><a class=\"text-small\" href=\"/your-everyday-heroes\">Who's Your Hero Stories</a></li>\n",
              "            <li><a class=\"text-small\" href=\"/inspirational-sayings-billboards\">Official Billboard Campaign</a></li>\n",
              "            <li><a class=\"text-small\" href=\"/your-billboards\">Create Your Own Billboard</a></li>\n",
              "            <li><a class=\"text-small\" href=\"/radio\">Radio Ads</a></li>\n",
              "            <li><a class=\"text-small\" href=\"/passiton-blog\">Pass It On® Blog</a></li>\n",
              "            <li><a class=\"text-small\" href=\"/inspirational-audio-stories\">Podcasts</a></li>\n",
              "            <li><a class=\"text-small\" href=\"/pass-it-on-ecards\">Send an Ecard</a></li>\n",
              "          </ul>\n",
              "        </div>\n",
              "\n",
              "        <div class=\"col-lg-3 col-md-6 widget border-right border-color-medium-dark-gray padding-45px-left md-padding-15px-left md-no-border-right md-margin-30px-bottom text-center text-md-left\">\n",
              "          <div class=\"widget-title alt-font text-small text-medium-gray text-uppercase margin-10px-bottom font-weight-600\">For Schools</div>\n",
              "          <ul class=\"list-unstyled\">\n",
              "            <li><a class=\"text-small\" href=\"/poster-requests/new\">Free Posters &amp; DVD for Schools</a></li>\n",
              "            <li><a class=\"text-small\" href=\"/pass-it-on-downloads\">Downloads</a></li>\n",
              "          </ul>\n",
              "        </div>\n",
              "\n",
              "        <div class=\"col-lg-3 col-md-6 widget padding-45px-left md-padding-15px-left md-no-border-right md-margin-30px-bottom text-center text-md-left\">\n",
              "          <div class=\"widget-title alt-font text-small text-medium-gray text-uppercase margin-10px-bottom font-weight-600\">For Media Companies</div>\n",
              "          <ul class=\"list-unstyled\">\n",
              "            <li><a class=\"text-small\" href=\"/for-media-companies\">For Media Companies</a></li>\n",
              "            <li><a class=\"text-small\" href=\"https://www.passiton-media.com\">Broadcast Quality PSA Downloads</a></li>\n",
              "            <li><a class=\"text-small\" href=\"https://www.passiton-media.com\">Pass It On Radio Ads</a></li>\n",
              "            <li><a class=\"text-small\" href=\"https://www.passiton-media.com\">Live Reads</a></li>\n",
              "            <li><a class=\"text-small\" href=\"https://www.passiton-media.com\">Out of Home Materials</a></li>\n",
              "          </ul>\n",
              "          <div class=\"row sm-margin-30px-top\">\n",
              "            <div class=\"col-lg-4\">\n",
              "              <a href=\"/\"><img alt=\"Values logo\" src=\"/assets/site/values_logo-cd29ec5f2f086673ac42962263d07e02.png\" style=\"max-width: 70px;\"/></a>\n",
              "            </div>\n",
              "            <div class=\"col-lg-7\">\n",
              "              <p class=\"text-medium-gray text-small padding-10px-top\">VALUES.COM<small>®</small> is now PassItOn.com<small>®</small></p>\n",
              "            </div>\n",
              "          </div>\n",
              "        </div>\n",
              "\n",
              "      </div>\n",
              "    </div>\n",
              "  </div>\n",
              "  <div class=\"container\">\n",
              "    <div class=\"footer-bottom border-top border-color-medium-dark-gray padding-30px-top\">\n",
              "      <div class=\"row\">\n",
              "        <div class=\"col-lg-6 col-md-6 text-small text-md-left text-center\">©1999-2021 The Foundation for a Better Life.</div>\n",
              "        <div class=\"col-lg-6 col-md-6 text-small text-md-right text-center\"><a href=\"/privacy-policy\">Privacy Policy</a>   |   <a href=\"/terms-of-use\">Terms of Use</a></div>\n",
              "      </div>\n",
              "    </div>\n",
              "  </div>\n",
              "</footer>\n",
              "        <a class=\"scroll-top-arrow\" href=\"javascript:void(0);\"><i class=\"ti-arrow-up\"></i></a>\n",
              "        <script src=\"https://cdnjs.cloudflare.com/ajax/libs/jquery/1.12.4/jquery.js\"></script>\n",
              "        <script crossorigin=\"anonymous\" integrity=\"sha384-UO2eT0CpHqdSJQ6hJty5KVphtPhzWj9WO1clHTMGa3JDZwrnQq4sF86dIHNDz0W1\" src=\"https://cdnjs.cloudflare.com/ajax/libs/popper.js/1.14.7/umd/popper.min.js\"></script>\n",
              "        <script crossorigin=\"anonymous\" integrity=\"sha384-JjSmVgyd0p3pXB1rRibZUAYoIIy6OrQ6VrjIEaFf/nJGzIxFDsf4x0xIM+B07jRM\" src=\"https://stackpath.bootstrapcdn.com/bootstrap/4.3.1/js/bootstrap.min.js\"></script>\n",
              "        <script src=\"/assets/pofo-5ce91fa595b7ba2b9d68d1e2ef84e002.js\"></script>\n",
              "        \n",
              "    \n",
              "\n",
              "</body></html>"
            ]
          },
          "metadata": {},
          "execution_count": 13
        }
      ]
    },
    {
      "cell_type": "code",
      "metadata": {
        "id": "gXt9WBH-VOtA"
      },
      "source": [
        "div = soup.find('div',attrs = {'id':'all_quotes'})"
      ],
      "execution_count": 21,
      "outputs": []
    },
    {
      "cell_type": "code",
      "metadata": {
        "colab": {
          "base_uri": "https://localhost:8080/"
        },
        "id": "Kf8CMrWqVOv4",
        "outputId": "d9781f12-ddd5-407b-9034-3e957e5727fb"
      },
      "source": [
        "print(div)"
      ],
      "execution_count": 22,
      "outputs": [
        {
          "output_type": "stream",
          "name": "stdout",
          "text": [
            "<div class=\"row\" id=\"all_quotes\">\n",
            "            <div class=\"col-6 col-lg-3 text-center margin-30px-bottom sm-margin-30px-top\">\n",
            "\n",
            "        <a href=\"/inspirational-quotes/8263-an-exchange-of-empathy-provides-an-entry-point\"><img alt=\"An exchange of empathy provides an entry point for a lot of people to see what healing feels like.  #&lt;Author:0x00007fcd46df0c08&gt;\" class=\"margin-10px-bottom shadow\" height=\"310\" src=\"https://assets.passiton.com/quotes/quote_artwork/8263/medium/20210917_friday_quote.jpg?1631298884\" width=\"310\"/></a>\n",
            "        <h5 class=\"value_on_red\"><a href=\"/inspirational-quotes/8263-an-exchange-of-empathy-provides-an-entry-point\">EMPATHY</a></h5>\n",
            "\n",
            "</div><div class=\"col-6 col-lg-3 text-center margin-30px-bottom sm-margin-30px-top\">\n",
            "\n",
            "        <a href=\"/inspirational-quotes/8262-whenever-you-are-about-to-find-fault-with\"><img alt=\"Whenever you are about to find fault with someone, ask yourself the following question: What fault of mine most nearly resembles the one I am about to criticize? #&lt;Author:0x00007fcd46e2d748&gt;\" class=\"margin-10px-bottom shadow\" height=\"310\" src=\"https://assets.passiton.com/quotes/quote_artwork/8262/medium/20210916_thursday_quote.jpg?1631298861\" width=\"310\"/></a>\n",
            "        <h5 class=\"value_on_red\"><a href=\"/inspirational-quotes/8262-whenever-you-are-about-to-find-fault-with\">EMPATHY</a></h5>\n",
            "\n",
            "</div><div class=\"col-6 col-lg-3 text-center margin-30px-bottom sm-margin-30px-top\">\n",
            "\n",
            "        <a href=\"/inspirational-quotes/8080-we-think-we-listen-but-very-rarely-do-we\"><img alt=\"We think we listen, but very rarely do we listen with real understanding, true empathy. Yet listening, of this very special kind, is one of the most potent forces for change that I know. #&lt;Author:0x00007fcd46e5a108&gt;\" class=\"margin-10px-bottom shadow\" height=\"310\" src=\"https://assets.passiton.com/quotes/quote_artwork/8080/medium/20210915_wednesday_quote.jpg?1631298835\" width=\"310\"/></a>\n",
            "        <h5 class=\"value_on_red\"><a href=\"/inspirational-quotes/8080-we-think-we-listen-but-very-rarely-do-we\">EMPATHY</a></h5>\n",
            "\n",
            "</div><div class=\"col-6 col-lg-3 text-center margin-30px-bottom sm-margin-30px-top\">\n",
            "\n",
            "        <a href=\"/inspirational-quotes/8261-empathy-is-about-finding-echoes-of-another\"><img alt=\"Empathy is about finding echoes of another person in yourself. #&lt;Author:0x00007fcd46e92f30&gt;\" class=\"margin-10px-bottom shadow\" height=\"310\" src=\"https://assets.passiton.com/quotes/quote_artwork/8261/medium/20210914_tuesday_quote.jpg?1631298808\" width=\"310\"/></a>\n",
            "        <h5 class=\"value_on_red\"><a href=\"/inspirational-quotes/8261-empathy-is-about-finding-echoes-of-another\">EMPATHY</a></h5>\n",
            "\n",
            "</div><div class=\"col-6 col-lg-3 text-center margin-30px-bottom sm-margin-30px-top\">\n",
            "\n",
            "        <a href=\"/inspirational-quotes/3202-how-far-you-go-in-life-depends-on-your-being\"><img alt=\"How far you go in life depends on your being tender with the young, compassionate with the aged, sympathetic with the striving, and tolerant of the weak and the strong, because someday in your life, you will have been all of these. #&lt;Author:0x00007fcd46ebf170&gt;\" class=\"margin-10px-bottom shadow\" height=\"310\" src=\"https://assets.passiton.com/quotes/quote_artwork/3202/medium/20210913_monday_quote.jpg?1631298784\" width=\"310\"/></a>\n",
            "        <h5 class=\"value_on_red\"><a href=\"/inspirational-quotes/3202-how-far-you-go-in-life-depends-on-your-being\">EMPATHY</a></h5>\n",
            "\n",
            "</div><div class=\"col-6 col-lg-3 text-center margin-30px-bottom sm-margin-30px-top\">\n",
            "\n",
            "        <a href=\"/inspirational-quotes/7961-talk-to-yourself-like-you-would-to-someone-you\"><img alt=\"Talk to yourself like you would to someone you love. #&lt;Author:0x00007fcd46eeffa0&gt;\" class=\"margin-10px-bottom shadow\" height=\"310\" src=\"https://assets.passiton.com/quotes/quote_artwork/7961/medium/20210910_friday_quote.jpg?1630703929\" width=\"310\"/></a>\n",
            "        <h5 class=\"value_on_red\"><a href=\"/inspirational-quotes/7961-talk-to-yourself-like-you-would-to-someone-you\">SELF-CARE</a></h5>\n",
            "\n",
            "</div><div class=\"col-6 col-lg-3 text-center margin-30px-bottom sm-margin-30px-top\">\n",
            "\n",
            "        <a href=\"/inspirational-quotes/8260-self-care-is-not-self-indulgence-it-is\"><img alt=\"Self-care is not self-indulgence, it is self-preservation. #&lt;Author:0x00007fcd46f1ae30&gt;\" class=\"margin-10px-bottom shadow\" height=\"310\" src=\"https://assets.passiton.com/quotes/quote_artwork/8260/medium/20210909_thursday_quote.jpg?1630703897\" width=\"310\"/></a>\n",
            "        <h5 class=\"value_on_red\"><a href=\"/inspirational-quotes/8260-self-care-is-not-self-indulgence-it-is\">SELF-CARE</a></h5>\n",
            "\n",
            "</div><div class=\"col-6 col-lg-3 text-center margin-30px-bottom sm-margin-30px-top\">\n",
            "\n",
            "        <a href=\"/inspirational-quotes/7055-there-s-only-one-corner-of-the-universe-you-can\"><img alt=\"There’s only one corner of the universe you can be certain of improving, and that’s your own self. #&lt;Author:0x00007fcd46f44c08&gt;\" class=\"margin-10px-bottom shadow\" height=\"310\" src=\"https://assets.passiton.com/quotes/quote_artwork/7055/medium/20210908_wednesday_quote.jpg?1630703870\" width=\"310\"/></a>\n",
            "        <h5 class=\"value_on_red\"><a href=\"/inspirational-quotes/7055-there-s-only-one-corner-of-the-universe-you-can\">SELF-CARE</a></h5>\n",
            "\n",
            "</div><div class=\"col-6 col-lg-3 text-center margin-30px-bottom sm-margin-30px-top\">\n",
            "\n",
            "        <a href=\"/inspirational-quotes/8259-rest-and-self-care-are-so-important-when-you\"><img alt=\"Rest and self-care are so important. When you take time to replenish your spirit, it allows you to serve from the overflow. You cannot serve from an empty vessel. #&lt;Author:0x00007fcd46f82a80&gt;\" class=\"margin-10px-bottom shadow\" height=\"310\" src=\"https://assets.passiton.com/quotes/quote_artwork/8259/medium/20210907_tuesday_quote.jpg?1630703831\" width=\"310\"/></a>\n",
            "        <h5 class=\"value_on_red\"><a href=\"/inspirational-quotes/8259-rest-and-self-care-are-so-important-when-you\">SELF-CARE</a></h5>\n",
            "\n",
            "</div><div class=\"col-6 col-lg-3 text-center margin-30px-bottom sm-margin-30px-top\">\n",
            "\n",
            "        <a href=\"/inspirational-quotes/8258-mind-body-soul-these-are-the-three-things\"><img alt=\"Mind. Body. Soul. These are the three things self-care is all about. #&lt;Author:0x00007fcd46faee78&gt;\" class=\"margin-10px-bottom shadow\" height=\"310\" src=\"https://assets.passiton.com/quotes/quote_artwork/8258/medium/20210906_monday_quote.jpg?1630703806\" width=\"310\"/></a>\n",
            "        <h5 class=\"value_on_red\"><a href=\"/inspirational-quotes/8258-mind-body-soul-these-are-the-three-things\">SELF-CARE</a></h5>\n",
            "\n",
            "</div><div class=\"col-6 col-lg-3 text-center margin-30px-bottom sm-margin-30px-top\">\n",
            "\n",
            "        <a href=\"/inspirational-quotes/8257-the-people-closest-to-me-determine-my-level-of\"><img alt=\"The people closest to me determine my level of success or failure. The better they are, the better I am. And if I want to go to the highest level, I can do it only with the help of other people. We have to take each other higher. #&lt;Author:0x00007fcd46fde240&gt;\" class=\"margin-10px-bottom shadow\" height=\"310\" src=\"https://assets.passiton.com/quotes/quote_artwork/8257/medium/20200903_friday_quote.jpg?1630078590\" width=\"310\"/></a>\n",
            "        <h5 class=\"value_on_red\"><a href=\"/inspirational-quotes/8257-the-people-closest-to-me-determine-my-level-of\">TEAMWORK</a></h5>\n",
            "\n",
            "</div><div class=\"col-6 col-lg-3 text-center margin-30px-bottom sm-margin-30px-top\">\n",
            "\n",
            "        <a href=\"/inspirational-quotes/5572-cooperation-is-the-thorough-conviction-that\"><img alt=\"Cooperation is the thorough conviction that nobody can get there unless everybody gets there. #&lt;Author:0x00007fcd4700b150&gt;\" class=\"margin-10px-bottom shadow\" height=\"310\" src=\"https://assets.passiton.com/quotes/quote_artwork/5572/medium/20200902_thursday_quote.jpg?1630078566\" width=\"310\"/></a>\n",
            "        <h5 class=\"value_on_red\"><a href=\"/inspirational-quotes/5572-cooperation-is-the-thorough-conviction-that\">TEAMWORK</a></h5>\n",
            "\n",
            "</div><div class=\"col-6 col-lg-3 text-center margin-30px-bottom sm-margin-30px-top\">\n",
            "\n",
            "        <a href=\"/inspirational-quotes/7295-the-strength-of-the-team-is-each-individual\"><img alt=\"The strength of the team is each individual member. The strength of each member is the team. #&lt;Author:0x00007fcd47034cd0&gt;\" class=\"margin-10px-bottom shadow\" height=\"310\" src=\"https://assets.passiton.com/quotes/quote_artwork/7295/medium/20200901_wednesday_quote.jpg?1630078539\" width=\"310\"/></a>\n",
            "        <h5 class=\"value_on_red\"><a href=\"/inspirational-quotes/7295-the-strength-of-the-team-is-each-individual\">TEAMWORK</a></h5>\n",
            "\n",
            "</div><div class=\"col-6 col-lg-3 text-center margin-30px-bottom sm-margin-30px-top\">\n",
            "\n",
            "        <a href=\"/inspirational-quotes/6116-problems-can-become-opportunities-when-the\"><img alt=\"Problems can become opportunities when the right people come together.  #&lt;Author:0x00007fcd47066690&gt;\" class=\"margin-10px-bottom shadow\" height=\"310\" src=\"https://assets.passiton.com/quotes/quote_artwork/6116/medium/20200831_tuesday_quote.jpg?1630078510\" width=\"310\"/></a>\n",
            "        <h5 class=\"value_on_red\"><a href=\"/inspirational-quotes/6116-problems-can-become-opportunities-when-the\">TEAMWORK</a></h5>\n",
            "\n",
            "</div><div class=\"col-6 col-lg-3 text-center margin-30px-bottom sm-margin-30px-top\">\n",
            "\n",
            "        <a href=\"/inspirational-quotes/6751-individual-commitment-to-a-group-effort-that\"><img alt=\"Individual commitment to a group effort - that is what makes a team work, a company work, a society work, a civilization work. #&lt;Author:0x00007fcd47091c00&gt;\" class=\"margin-10px-bottom shadow\" height=\"310\" src=\"https://assets.passiton.com/quotes/quote_artwork/6751/medium/20200830_monday_quote.jpg?1630078481\" width=\"310\"/></a>\n",
            "        <h5 class=\"value_on_red\"><a href=\"/inspirational-quotes/6751-individual-commitment-to-a-group-effort-that\">TEAMWORK</a></h5>\n",
            "\n",
            "</div><div class=\"col-6 col-lg-3 text-center margin-30px-bottom sm-margin-30px-top\">\n",
            "\n",
            "        <a href=\"/inspirational-quotes/7705-it-is-easier-to-reach-our-potential-when-we\"><img alt=\"It is easier to reach our potential when we learn the value of including others in our quest. #&lt;Author:0x00007fcd470bd5d0&gt;\" class=\"margin-10px-bottom shadow\" height=\"310\" src=\"https://assets.passiton.com/quotes/quote_artwork/7705/medium/20210827_friday_quote.jpg?1629348009\" width=\"310\"/></a>\n",
            "        <h5 class=\"value_on_red\"><a href=\"/inspirational-quotes/7705-it-is-easier-to-reach-our-potential-when-we\">INCLUDING OTHERS</a></h5>\n",
            "\n",
            "</div><div class=\"col-6 col-lg-3 text-center margin-30px-bottom sm-margin-30px-top\">\n",
            "\n",
            "        <a href=\"/inspirational-quotes/8256-to-be-fully-seen-by-somebody-then-and-be\"><img alt=\"To be fully seen by somebody, then, and be loved anyhow—this is a human offering that can border on miraculous. #&lt;Author:0x00007fcd470f69c0&gt;\" class=\"margin-10px-bottom shadow\" height=\"310\" src=\"https://assets.passiton.com/quotes/quote_artwork/8256/medium/20210826_thursday_quote.jpg?1629347979\" width=\"310\"/></a>\n",
            "        <h5 class=\"value_on_red\"><a href=\"/inspirational-quotes/8256-to-be-fully-seen-by-somebody-then-and-be\">INCLUDING OTHERS</a></h5>\n",
            "\n",
            "</div><div class=\"col-6 col-lg-3 text-center margin-30px-bottom sm-margin-30px-top\">\n",
            "\n",
            "        <a href=\"/inspirational-quotes/8255-have-a-big-enough-heart-to-love\"><img alt=\"Have a big enough heart to love unconditionally, and a broad enough mind to embrace the differences that make each of us unique. #&lt;Author:0x00007fcd47120cc0&gt;\" class=\"margin-10px-bottom shadow\" height=\"310\" src=\"https://assets.passiton.com/quotes/quote_artwork/8255/medium/20210825_wednesday_quote.jpg?1629347953\" width=\"310\"/></a>\n",
            "        <h5 class=\"value_on_red\"><a href=\"/inspirational-quotes/8255-have-a-big-enough-heart-to-love\">INCLUDING OTHERS</a></h5>\n",
            "\n",
            "</div><div class=\"col-6 col-lg-3 text-center margin-30px-bottom sm-margin-30px-top\">\n",
            "\n",
            "        <a href=\"/inspirational-quotes/8254-acceptance-is-simply-love-in-practice-when-you\"><img alt=\"Acceptance is simply love in practice. When you love, you accept, when you lack love, you judge. #&lt;Author:0x00007fcd4715d800&gt;\" class=\"margin-10px-bottom shadow\" height=\"310\" src=\"https://assets.passiton.com/quotes/quote_artwork/8254/medium/20210824_tuesday_quote.jpg?1629347928\" width=\"310\"/></a>\n",
            "        <h5 class=\"value_on_red\"><a href=\"/inspirational-quotes/8254-acceptance-is-simply-love-in-practice-when-you\">INCLUDING OTHERS</a></h5>\n",
            "\n",
            "</div><div class=\"col-6 col-lg-3 text-center margin-30px-bottom sm-margin-30px-top\">\n",
            "\n",
            "        <a href=\"/inspirational-quotes/8253-the-happiness-of-ones-own-heart-alone-cannot\"><img alt=\"The happiness of one's own heart alone cannot satisfy the soul; one must try to include, as necessary to one's own happiness, the happiness of others. #&lt;Author:0x00007fcd4718b1d8&gt;\" class=\"margin-10px-bottom shadow\" height=\"310\" src=\"https://assets.passiton.com/quotes/quote_artwork/8253/medium/20210823_monday_quote.jpg?1629347894\" width=\"310\"/></a>\n",
            "        <h5 class=\"value_on_red\"><a href=\"/inspirational-quotes/8253-the-happiness-of-ones-own-heart-alone-cannot\">INCLUDING OTHERS</a></h5>\n",
            "\n",
            "</div><div class=\"col-6 col-lg-3 text-center margin-30px-bottom sm-margin-30px-top\">\n",
            "\n",
            "        <a href=\"/inspirational-quotes/7020-nothing-in-life-is-to-be-feared-it-is-only-to\"><img alt=\"Nothing in life is to be feared. It is only to be understood. Now is the time to understand more, so that we may fear less. #&lt;Author:0x00007fcd471bb810&gt;\" class=\"margin-10px-bottom shadow\" height=\"310\" src=\"https://assets.passiton.com/quotes/quote_artwork/7020/medium/20210820_friday_quote.jpg?1628879237\" width=\"310\"/></a>\n",
            "        <h5 class=\"value_on_red\"><a href=\"/inspirational-quotes/7020-nothing-in-life-is-to-be-feared-it-is-only-to\">COURAGE</a></h5>\n",
            "\n",
            "</div><div class=\"col-6 col-lg-3 text-center margin-30px-bottom sm-margin-30px-top\">\n",
            "\n",
            "        <a href=\"/inspirational-quotes/8252-have-the-courage-to-follow-your-heart-and\"><img alt=\"Have the courage to follow your heart and intuition. They somehow already know what you truly want to become. #&lt;Author:0x00007fcd471e4e40&gt;\" class=\"margin-10px-bottom shadow\" height=\"310\" src=\"https://assets.passiton.com/quotes/quote_artwork/8252/medium/20210819_thursday_quote.jpg?1628879212\" width=\"310\"/></a>\n",
            "        <h5 class=\"value_on_red\"><a href=\"/inspirational-quotes/8252-have-the-courage-to-follow-your-heart-and\">COURAGE</a></h5>\n",
            "\n",
            "</div><div class=\"col-6 col-lg-3 text-center margin-30px-bottom sm-margin-30px-top\">\n",
            "\n",
            "        <a href=\"/inspirational-quotes/8251-courage-doesn-t-mean-you-don-t-get-afraid\"><img alt=\"Courage doesn’t mean you don’t get afraid. Courage means you don’t let fear stop you.  #&lt;Author:0x00007fcd47211ee0&gt;\" class=\"margin-10px-bottom shadow\" height=\"310\" src=\"https://assets.passiton.com/quotes/quote_artwork/8251/medium/20210818_wednesday_quote.jpg?1628879189\" width=\"310\"/></a>\n",
            "        <h5 class=\"value_on_red\"><a href=\"/inspirational-quotes/8251-courage-doesn-t-mean-you-don-t-get-afraid\">COURAGE</a></h5>\n",
            "\n",
            "</div><div class=\"col-6 col-lg-3 text-center margin-30px-bottom sm-margin-30px-top\">\n",
            "\n",
            "        <a href=\"/inspirational-quotes/7299-life-shrinks-or-expands-in-proportion-to-ones\"><img alt=\"Life shrinks or expands in proportion to one's courage. #&lt;Author:0x00007fcd47243530&gt;\" class=\"margin-10px-bottom shadow\" height=\"310\" src=\"https://assets.passiton.com/quotes/quote_artwork/7299/medium/20210817_tuesday_quote.jpg?1628879166\" width=\"310\"/></a>\n",
            "        <h5 class=\"value_on_red\"><a href=\"/inspirational-quotes/7299-life-shrinks-or-expands-in-proportion-to-ones\">COURAGE</a></h5>\n",
            "\n",
            "</div><div class=\"col-6 col-lg-3 text-center margin-30px-bottom sm-margin-30px-top\">\n",
            "\n",
            "        <a href=\"/inspirational-quotes/8250-in-one-of-its-earliest-forms-the-word-courage\"><img alt=\"In one of its earliest forms, the word courage meant ‘To speak one’s mind by telling all one’s heart.' #&lt;Author:0x00007fcd4726fae0&gt;\" class=\"margin-10px-bottom shadow\" height=\"310\" src=\"https://assets.passiton.com/quotes/quote_artwork/8250/medium/20210816_monday_quote.jpg?1628879133\" width=\"310\"/></a>\n",
            "        <h5 class=\"value_on_red\"><a href=\"/inspirational-quotes/8250-in-one-of-its-earliest-forms-the-word-courage\">COURAGE</a></h5>\n",
            "\n",
            "</div><div class=\"col-6 col-lg-3 text-center margin-30px-bottom sm-margin-30px-top\">\n",
            "\n",
            "        <a href=\"/inspirational-quotes/8249-some-people-want-it-to-happen-some-wish-it\"><img alt=\"Some people want it to happen, some wish it would happen, others make it happen. #&lt;Author:0x00007fcd4728e0f8&gt;\" class=\"margin-10px-bottom shadow\" height=\"310\" src=\"https://assets.passiton.com/quotes/quote_artwork/8249/medium/20210813_friday_quote.jpg?1628114247\" width=\"310\"/></a>\n",
            "        <h5 class=\"value_on_red\"><a href=\"/inspirational-quotes/8249-some-people-want-it-to-happen-some-wish-it\">PERSEVERANCE</a></h5>\n",
            "\n",
            "</div><div class=\"col-6 col-lg-3 text-center margin-30px-bottom sm-margin-30px-top\">\n",
            "\n",
            "        <a href=\"/inspirational-quotes/4076-there-are-no-shortcuts-to-any-place-worth-going\"><img alt=\"There are no shortcuts to any place worth going. #&lt;Author:0x00007fcd472b6468&gt;\" class=\"margin-10px-bottom shadow\" height=\"310\" src=\"https://assets.passiton.com/quotes/quote_artwork/4076/medium/20210812_thursday_quote.jpg?1628114208\" width=\"310\"/></a>\n",
            "        <h5 class=\"value_on_red\"><a href=\"/inspirational-quotes/4076-there-are-no-shortcuts-to-any-place-worth-going\">PERSEVERANCE</a></h5>\n",
            "\n",
            "</div><div class=\"col-6 col-lg-3 text-center margin-30px-bottom sm-margin-30px-top\">\n",
            "\n",
            "        <a href=\"/inspirational-quotes/8248-the-only-failure-is-quitting-everything-else\"><img alt=\"The only failure is quitting. Everything else is just gathering information. #&lt;Author:0x00007fcd472eada8&gt;\" class=\"margin-10px-bottom shadow\" height=\"310\" src=\"https://assets.passiton.com/quotes/quote_artwork/8248/medium/20210811_wednesday_quote.jpg?1628114184\" width=\"310\"/></a>\n",
            "        <h5 class=\"value_on_red\"><a href=\"/inspirational-quotes/8248-the-only-failure-is-quitting-everything-else\">PERSEVERANCE</a></h5>\n",
            "\n",
            "</div><div class=\"col-6 col-lg-3 text-center margin-30px-bottom sm-margin-30px-top\">\n",
            "\n",
            "        <a href=\"/inspirational-quotes/2210-theres-only-one-way-to-succeed-in-anything-and\"><img alt=\"There's only one way to succeed in anything, and that is to give it everything. #&lt;Author:0x00007fcd4730ff90&gt;\" class=\"margin-10px-bottom shadow\" height=\"310\" src=\"https://assets.passiton.com/quotes/quote_artwork/2210/medium/20210810_tuesday_quote.jpg?1628114164\" width=\"310\"/></a>\n",
            "        <h5 class=\"value_on_red\"><a href=\"/inspirational-quotes/2210-theres-only-one-way-to-succeed-in-anything-and\">PERSEVERANCE</a></h5>\n",
            "\n",
            "</div><div class=\"col-6 col-lg-3 text-center margin-30px-bottom sm-margin-30px-top\">\n",
            "\n",
            "        <a href=\"/inspirational-quotes/5831-in-the-confrontation-between-the-stream-and-the\"><img alt=\"In the confrontation between the stream and the rock, the stream always wins- not through strength but by perseverance. #&lt;Author:0x00007fcd4732e440&gt;\" class=\"margin-10px-bottom shadow\" height=\"310\" src=\"https://assets.passiton.com/quotes/quote_artwork/5831/medium/20210809_monday_quote.jpg?1628114140\" width=\"310\"/></a>\n",
            "        <h5 class=\"value_on_red\"><a href=\"/inspirational-quotes/5831-in-the-confrontation-between-the-stream-and-the\">PERSEVERANCE</a></h5>\n",
            "\n",
            "</div><div class=\"col-6 col-lg-3 text-center margin-30px-bottom sm-margin-30px-top\">\n",
            "\n",
            "        <a href=\"/inspirational-quotes/7783-a-good-laugh-heals-a-lot-of-hurts\"><img alt=\"A good laugh heals a lot of hurts. #&lt;Author:0x00007fcd47363528&gt;\" class=\"margin-10px-bottom shadow\" height=\"310\" src=\"https://assets.passiton.com/quotes/quote_artwork/7783/medium/20210806_friday_quote.jpg?1627091944\" width=\"310\"/></a>\n",
            "        <h5 class=\"value_on_red\"><a href=\"/inspirational-quotes/7783-a-good-laugh-heals-a-lot-of-hurts\">LAUGHTER</a></h5>\n",
            "\n",
            "</div><div class=\"col-6 col-lg-3 text-center margin-30px-bottom sm-margin-30px-top\">\n",
            "\n",
            "        <a href=\"/inspirational-quotes/8247-laughter-lightens-the-soul\"><img alt=\"Laughter lightens the soul. #&lt;Author:0x00007fcd473815a0&gt;\" class=\"margin-10px-bottom shadow\" height=\"310\" src=\"https://assets.passiton.com/quotes/quote_artwork/8247/medium/20210805_thursday_quote.jpg?1627091911\" width=\"310\"/></a>\n",
            "        <h5 class=\"value_on_red\"><a href=\"/inspirational-quotes/8247-laughter-lightens-the-soul\">LAUGHTER</a></h5>\n",
            "\n",
            "</div>\n",
            "        </div>\n"
          ]
        }
      ]
    },
    {
      "cell_type": "code",
      "metadata": {
        "id": "vZjlYAJAX0rl"
      },
      "source": [
        "divs = div.findAll('div',attrs={'col-6 col-lg-3 text-center margin-30px-bottom sm-margin-30px-top'})"
      ],
      "execution_count": 29,
      "outputs": []
    },
    {
      "cell_type": "code",
      "metadata": {
        "colab": {
          "base_uri": "https://localhost:8080/"
        },
        "id": "wySDYgGCZsG8",
        "outputId": "5c783028-c6a3-4c4e-caaa-e2f08a3e537c"
      },
      "source": [
        "divs"
      ],
      "execution_count": 30,
      "outputs": [
        {
          "output_type": "execute_result",
          "data": {
            "text/plain": [
              "[<div class=\"col-6 col-lg-3 text-center margin-30px-bottom sm-margin-30px-top\">\n",
              " \n",
              "         <a href=\"/inspirational-quotes/8263-an-exchange-of-empathy-provides-an-entry-point\"><img alt=\"An exchange of empathy provides an entry point for a lot of people to see what healing feels like.  #&lt;Author:0x00007fcd46df0c08&gt;\" class=\"margin-10px-bottom shadow\" height=\"310\" src=\"https://assets.passiton.com/quotes/quote_artwork/8263/medium/20210917_friday_quote.jpg?1631298884\" width=\"310\"/></a>\n",
              "         <h5 class=\"value_on_red\"><a href=\"/inspirational-quotes/8263-an-exchange-of-empathy-provides-an-entry-point\">EMPATHY</a></h5>\n",
              " \n",
              " </div>,\n",
              " <div class=\"col-6 col-lg-3 text-center margin-30px-bottom sm-margin-30px-top\">\n",
              " \n",
              "         <a href=\"/inspirational-quotes/8262-whenever-you-are-about-to-find-fault-with\"><img alt=\"Whenever you are about to find fault with someone, ask yourself the following question: What fault of mine most nearly resembles the one I am about to criticize? #&lt;Author:0x00007fcd46e2d748&gt;\" class=\"margin-10px-bottom shadow\" height=\"310\" src=\"https://assets.passiton.com/quotes/quote_artwork/8262/medium/20210916_thursday_quote.jpg?1631298861\" width=\"310\"/></a>\n",
              "         <h5 class=\"value_on_red\"><a href=\"/inspirational-quotes/8262-whenever-you-are-about-to-find-fault-with\">EMPATHY</a></h5>\n",
              " \n",
              " </div>,\n",
              " <div class=\"col-6 col-lg-3 text-center margin-30px-bottom sm-margin-30px-top\">\n",
              " \n",
              "         <a href=\"/inspirational-quotes/8080-we-think-we-listen-but-very-rarely-do-we\"><img alt=\"We think we listen, but very rarely do we listen with real understanding, true empathy. Yet listening, of this very special kind, is one of the most potent forces for change that I know. #&lt;Author:0x00007fcd46e5a108&gt;\" class=\"margin-10px-bottom shadow\" height=\"310\" src=\"https://assets.passiton.com/quotes/quote_artwork/8080/medium/20210915_wednesday_quote.jpg?1631298835\" width=\"310\"/></a>\n",
              "         <h5 class=\"value_on_red\"><a href=\"/inspirational-quotes/8080-we-think-we-listen-but-very-rarely-do-we\">EMPATHY</a></h5>\n",
              " \n",
              " </div>,\n",
              " <div class=\"col-6 col-lg-3 text-center margin-30px-bottom sm-margin-30px-top\">\n",
              " \n",
              "         <a href=\"/inspirational-quotes/8261-empathy-is-about-finding-echoes-of-another\"><img alt=\"Empathy is about finding echoes of another person in yourself. #&lt;Author:0x00007fcd46e92f30&gt;\" class=\"margin-10px-bottom shadow\" height=\"310\" src=\"https://assets.passiton.com/quotes/quote_artwork/8261/medium/20210914_tuesday_quote.jpg?1631298808\" width=\"310\"/></a>\n",
              "         <h5 class=\"value_on_red\"><a href=\"/inspirational-quotes/8261-empathy-is-about-finding-echoes-of-another\">EMPATHY</a></h5>\n",
              " \n",
              " </div>,\n",
              " <div class=\"col-6 col-lg-3 text-center margin-30px-bottom sm-margin-30px-top\">\n",
              " \n",
              "         <a href=\"/inspirational-quotes/3202-how-far-you-go-in-life-depends-on-your-being\"><img alt=\"How far you go in life depends on your being tender with the young, compassionate with the aged, sympathetic with the striving, and tolerant of the weak and the strong, because someday in your life, you will have been all of these. #&lt;Author:0x00007fcd46ebf170&gt;\" class=\"margin-10px-bottom shadow\" height=\"310\" src=\"https://assets.passiton.com/quotes/quote_artwork/3202/medium/20210913_monday_quote.jpg?1631298784\" width=\"310\"/></a>\n",
              "         <h5 class=\"value_on_red\"><a href=\"/inspirational-quotes/3202-how-far-you-go-in-life-depends-on-your-being\">EMPATHY</a></h5>\n",
              " \n",
              " </div>,\n",
              " <div class=\"col-6 col-lg-3 text-center margin-30px-bottom sm-margin-30px-top\">\n",
              " \n",
              "         <a href=\"/inspirational-quotes/7961-talk-to-yourself-like-you-would-to-someone-you\"><img alt=\"Talk to yourself like you would to someone you love. #&lt;Author:0x00007fcd46eeffa0&gt;\" class=\"margin-10px-bottom shadow\" height=\"310\" src=\"https://assets.passiton.com/quotes/quote_artwork/7961/medium/20210910_friday_quote.jpg?1630703929\" width=\"310\"/></a>\n",
              "         <h5 class=\"value_on_red\"><a href=\"/inspirational-quotes/7961-talk-to-yourself-like-you-would-to-someone-you\">SELF-CARE</a></h5>\n",
              " \n",
              " </div>,\n",
              " <div class=\"col-6 col-lg-3 text-center margin-30px-bottom sm-margin-30px-top\">\n",
              " \n",
              "         <a href=\"/inspirational-quotes/8260-self-care-is-not-self-indulgence-it-is\"><img alt=\"Self-care is not self-indulgence, it is self-preservation. #&lt;Author:0x00007fcd46f1ae30&gt;\" class=\"margin-10px-bottom shadow\" height=\"310\" src=\"https://assets.passiton.com/quotes/quote_artwork/8260/medium/20210909_thursday_quote.jpg?1630703897\" width=\"310\"/></a>\n",
              "         <h5 class=\"value_on_red\"><a href=\"/inspirational-quotes/8260-self-care-is-not-self-indulgence-it-is\">SELF-CARE</a></h5>\n",
              " \n",
              " </div>,\n",
              " <div class=\"col-6 col-lg-3 text-center margin-30px-bottom sm-margin-30px-top\">\n",
              " \n",
              "         <a href=\"/inspirational-quotes/7055-there-s-only-one-corner-of-the-universe-you-can\"><img alt=\"There’s only one corner of the universe you can be certain of improving, and that’s your own self. #&lt;Author:0x00007fcd46f44c08&gt;\" class=\"margin-10px-bottom shadow\" height=\"310\" src=\"https://assets.passiton.com/quotes/quote_artwork/7055/medium/20210908_wednesday_quote.jpg?1630703870\" width=\"310\"/></a>\n",
              "         <h5 class=\"value_on_red\"><a href=\"/inspirational-quotes/7055-there-s-only-one-corner-of-the-universe-you-can\">SELF-CARE</a></h5>\n",
              " \n",
              " </div>,\n",
              " <div class=\"col-6 col-lg-3 text-center margin-30px-bottom sm-margin-30px-top\">\n",
              " \n",
              "         <a href=\"/inspirational-quotes/8259-rest-and-self-care-are-so-important-when-you\"><img alt=\"Rest and self-care are so important. When you take time to replenish your spirit, it allows you to serve from the overflow. You cannot serve from an empty vessel. #&lt;Author:0x00007fcd46f82a80&gt;\" class=\"margin-10px-bottom shadow\" height=\"310\" src=\"https://assets.passiton.com/quotes/quote_artwork/8259/medium/20210907_tuesday_quote.jpg?1630703831\" width=\"310\"/></a>\n",
              "         <h5 class=\"value_on_red\"><a href=\"/inspirational-quotes/8259-rest-and-self-care-are-so-important-when-you\">SELF-CARE</a></h5>\n",
              " \n",
              " </div>,\n",
              " <div class=\"col-6 col-lg-3 text-center margin-30px-bottom sm-margin-30px-top\">\n",
              " \n",
              "         <a href=\"/inspirational-quotes/8258-mind-body-soul-these-are-the-three-things\"><img alt=\"Mind. Body. Soul. These are the three things self-care is all about. #&lt;Author:0x00007fcd46faee78&gt;\" class=\"margin-10px-bottom shadow\" height=\"310\" src=\"https://assets.passiton.com/quotes/quote_artwork/8258/medium/20210906_monday_quote.jpg?1630703806\" width=\"310\"/></a>\n",
              "         <h5 class=\"value_on_red\"><a href=\"/inspirational-quotes/8258-mind-body-soul-these-are-the-three-things\">SELF-CARE</a></h5>\n",
              " \n",
              " </div>,\n",
              " <div class=\"col-6 col-lg-3 text-center margin-30px-bottom sm-margin-30px-top\">\n",
              " \n",
              "         <a href=\"/inspirational-quotes/8257-the-people-closest-to-me-determine-my-level-of\"><img alt=\"The people closest to me determine my level of success or failure. The better they are, the better I am. And if I want to go to the highest level, I can do it only with the help of other people. We have to take each other higher. #&lt;Author:0x00007fcd46fde240&gt;\" class=\"margin-10px-bottom shadow\" height=\"310\" src=\"https://assets.passiton.com/quotes/quote_artwork/8257/medium/20200903_friday_quote.jpg?1630078590\" width=\"310\"/></a>\n",
              "         <h5 class=\"value_on_red\"><a href=\"/inspirational-quotes/8257-the-people-closest-to-me-determine-my-level-of\">TEAMWORK</a></h5>\n",
              " \n",
              " </div>,\n",
              " <div class=\"col-6 col-lg-3 text-center margin-30px-bottom sm-margin-30px-top\">\n",
              " \n",
              "         <a href=\"/inspirational-quotes/5572-cooperation-is-the-thorough-conviction-that\"><img alt=\"Cooperation is the thorough conviction that nobody can get there unless everybody gets there. #&lt;Author:0x00007fcd4700b150&gt;\" class=\"margin-10px-bottom shadow\" height=\"310\" src=\"https://assets.passiton.com/quotes/quote_artwork/5572/medium/20200902_thursday_quote.jpg?1630078566\" width=\"310\"/></a>\n",
              "         <h5 class=\"value_on_red\"><a href=\"/inspirational-quotes/5572-cooperation-is-the-thorough-conviction-that\">TEAMWORK</a></h5>\n",
              " \n",
              " </div>,\n",
              " <div class=\"col-6 col-lg-3 text-center margin-30px-bottom sm-margin-30px-top\">\n",
              " \n",
              "         <a href=\"/inspirational-quotes/7295-the-strength-of-the-team-is-each-individual\"><img alt=\"The strength of the team is each individual member. The strength of each member is the team. #&lt;Author:0x00007fcd47034cd0&gt;\" class=\"margin-10px-bottom shadow\" height=\"310\" src=\"https://assets.passiton.com/quotes/quote_artwork/7295/medium/20200901_wednesday_quote.jpg?1630078539\" width=\"310\"/></a>\n",
              "         <h5 class=\"value_on_red\"><a href=\"/inspirational-quotes/7295-the-strength-of-the-team-is-each-individual\">TEAMWORK</a></h5>\n",
              " \n",
              " </div>,\n",
              " <div class=\"col-6 col-lg-3 text-center margin-30px-bottom sm-margin-30px-top\">\n",
              " \n",
              "         <a href=\"/inspirational-quotes/6116-problems-can-become-opportunities-when-the\"><img alt=\"Problems can become opportunities when the right people come together.  #&lt;Author:0x00007fcd47066690&gt;\" class=\"margin-10px-bottom shadow\" height=\"310\" src=\"https://assets.passiton.com/quotes/quote_artwork/6116/medium/20200831_tuesday_quote.jpg?1630078510\" width=\"310\"/></a>\n",
              "         <h5 class=\"value_on_red\"><a href=\"/inspirational-quotes/6116-problems-can-become-opportunities-when-the\">TEAMWORK</a></h5>\n",
              " \n",
              " </div>,\n",
              " <div class=\"col-6 col-lg-3 text-center margin-30px-bottom sm-margin-30px-top\">\n",
              " \n",
              "         <a href=\"/inspirational-quotes/6751-individual-commitment-to-a-group-effort-that\"><img alt=\"Individual commitment to a group effort - that is what makes a team work, a company work, a society work, a civilization work. #&lt;Author:0x00007fcd47091c00&gt;\" class=\"margin-10px-bottom shadow\" height=\"310\" src=\"https://assets.passiton.com/quotes/quote_artwork/6751/medium/20200830_monday_quote.jpg?1630078481\" width=\"310\"/></a>\n",
              "         <h5 class=\"value_on_red\"><a href=\"/inspirational-quotes/6751-individual-commitment-to-a-group-effort-that\">TEAMWORK</a></h5>\n",
              " \n",
              " </div>,\n",
              " <div class=\"col-6 col-lg-3 text-center margin-30px-bottom sm-margin-30px-top\">\n",
              " \n",
              "         <a href=\"/inspirational-quotes/7705-it-is-easier-to-reach-our-potential-when-we\"><img alt=\"It is easier to reach our potential when we learn the value of including others in our quest. #&lt;Author:0x00007fcd470bd5d0&gt;\" class=\"margin-10px-bottom shadow\" height=\"310\" src=\"https://assets.passiton.com/quotes/quote_artwork/7705/medium/20210827_friday_quote.jpg?1629348009\" width=\"310\"/></a>\n",
              "         <h5 class=\"value_on_red\"><a href=\"/inspirational-quotes/7705-it-is-easier-to-reach-our-potential-when-we\">INCLUDING OTHERS</a></h5>\n",
              " \n",
              " </div>,\n",
              " <div class=\"col-6 col-lg-3 text-center margin-30px-bottom sm-margin-30px-top\">\n",
              " \n",
              "         <a href=\"/inspirational-quotes/8256-to-be-fully-seen-by-somebody-then-and-be\"><img alt=\"To be fully seen by somebody, then, and be loved anyhow—this is a human offering that can border on miraculous. #&lt;Author:0x00007fcd470f69c0&gt;\" class=\"margin-10px-bottom shadow\" height=\"310\" src=\"https://assets.passiton.com/quotes/quote_artwork/8256/medium/20210826_thursday_quote.jpg?1629347979\" width=\"310\"/></a>\n",
              "         <h5 class=\"value_on_red\"><a href=\"/inspirational-quotes/8256-to-be-fully-seen-by-somebody-then-and-be\">INCLUDING OTHERS</a></h5>\n",
              " \n",
              " </div>,\n",
              " <div class=\"col-6 col-lg-3 text-center margin-30px-bottom sm-margin-30px-top\">\n",
              " \n",
              "         <a href=\"/inspirational-quotes/8255-have-a-big-enough-heart-to-love\"><img alt=\"Have a big enough heart to love unconditionally, and a broad enough mind to embrace the differences that make each of us unique. #&lt;Author:0x00007fcd47120cc0&gt;\" class=\"margin-10px-bottom shadow\" height=\"310\" src=\"https://assets.passiton.com/quotes/quote_artwork/8255/medium/20210825_wednesday_quote.jpg?1629347953\" width=\"310\"/></a>\n",
              "         <h5 class=\"value_on_red\"><a href=\"/inspirational-quotes/8255-have-a-big-enough-heart-to-love\">INCLUDING OTHERS</a></h5>\n",
              " \n",
              " </div>,\n",
              " <div class=\"col-6 col-lg-3 text-center margin-30px-bottom sm-margin-30px-top\">\n",
              " \n",
              "         <a href=\"/inspirational-quotes/8254-acceptance-is-simply-love-in-practice-when-you\"><img alt=\"Acceptance is simply love in practice. When you love, you accept, when you lack love, you judge. #&lt;Author:0x00007fcd4715d800&gt;\" class=\"margin-10px-bottom shadow\" height=\"310\" src=\"https://assets.passiton.com/quotes/quote_artwork/8254/medium/20210824_tuesday_quote.jpg?1629347928\" width=\"310\"/></a>\n",
              "         <h5 class=\"value_on_red\"><a href=\"/inspirational-quotes/8254-acceptance-is-simply-love-in-practice-when-you\">INCLUDING OTHERS</a></h5>\n",
              " \n",
              " </div>,\n",
              " <div class=\"col-6 col-lg-3 text-center margin-30px-bottom sm-margin-30px-top\">\n",
              " \n",
              "         <a href=\"/inspirational-quotes/8253-the-happiness-of-ones-own-heart-alone-cannot\"><img alt=\"The happiness of one's own heart alone cannot satisfy the soul; one must try to include, as necessary to one's own happiness, the happiness of others. #&lt;Author:0x00007fcd4718b1d8&gt;\" class=\"margin-10px-bottom shadow\" height=\"310\" src=\"https://assets.passiton.com/quotes/quote_artwork/8253/medium/20210823_monday_quote.jpg?1629347894\" width=\"310\"/></a>\n",
              "         <h5 class=\"value_on_red\"><a href=\"/inspirational-quotes/8253-the-happiness-of-ones-own-heart-alone-cannot\">INCLUDING OTHERS</a></h5>\n",
              " \n",
              " </div>,\n",
              " <div class=\"col-6 col-lg-3 text-center margin-30px-bottom sm-margin-30px-top\">\n",
              " \n",
              "         <a href=\"/inspirational-quotes/7020-nothing-in-life-is-to-be-feared-it-is-only-to\"><img alt=\"Nothing in life is to be feared. It is only to be understood. Now is the time to understand more, so that we may fear less. #&lt;Author:0x00007fcd471bb810&gt;\" class=\"margin-10px-bottom shadow\" height=\"310\" src=\"https://assets.passiton.com/quotes/quote_artwork/7020/medium/20210820_friday_quote.jpg?1628879237\" width=\"310\"/></a>\n",
              "         <h5 class=\"value_on_red\"><a href=\"/inspirational-quotes/7020-nothing-in-life-is-to-be-feared-it-is-only-to\">COURAGE</a></h5>\n",
              " \n",
              " </div>,\n",
              " <div class=\"col-6 col-lg-3 text-center margin-30px-bottom sm-margin-30px-top\">\n",
              " \n",
              "         <a href=\"/inspirational-quotes/8252-have-the-courage-to-follow-your-heart-and\"><img alt=\"Have the courage to follow your heart and intuition. They somehow already know what you truly want to become. #&lt;Author:0x00007fcd471e4e40&gt;\" class=\"margin-10px-bottom shadow\" height=\"310\" src=\"https://assets.passiton.com/quotes/quote_artwork/8252/medium/20210819_thursday_quote.jpg?1628879212\" width=\"310\"/></a>\n",
              "         <h5 class=\"value_on_red\"><a href=\"/inspirational-quotes/8252-have-the-courage-to-follow-your-heart-and\">COURAGE</a></h5>\n",
              " \n",
              " </div>,\n",
              " <div class=\"col-6 col-lg-3 text-center margin-30px-bottom sm-margin-30px-top\">\n",
              " \n",
              "         <a href=\"/inspirational-quotes/8251-courage-doesn-t-mean-you-don-t-get-afraid\"><img alt=\"Courage doesn’t mean you don’t get afraid. Courage means you don’t let fear stop you.  #&lt;Author:0x00007fcd47211ee0&gt;\" class=\"margin-10px-bottom shadow\" height=\"310\" src=\"https://assets.passiton.com/quotes/quote_artwork/8251/medium/20210818_wednesday_quote.jpg?1628879189\" width=\"310\"/></a>\n",
              "         <h5 class=\"value_on_red\"><a href=\"/inspirational-quotes/8251-courage-doesn-t-mean-you-don-t-get-afraid\">COURAGE</a></h5>\n",
              " \n",
              " </div>,\n",
              " <div class=\"col-6 col-lg-3 text-center margin-30px-bottom sm-margin-30px-top\">\n",
              " \n",
              "         <a href=\"/inspirational-quotes/7299-life-shrinks-or-expands-in-proportion-to-ones\"><img alt=\"Life shrinks or expands in proportion to one's courage. #&lt;Author:0x00007fcd47243530&gt;\" class=\"margin-10px-bottom shadow\" height=\"310\" src=\"https://assets.passiton.com/quotes/quote_artwork/7299/medium/20210817_tuesday_quote.jpg?1628879166\" width=\"310\"/></a>\n",
              "         <h5 class=\"value_on_red\"><a href=\"/inspirational-quotes/7299-life-shrinks-or-expands-in-proportion-to-ones\">COURAGE</a></h5>\n",
              " \n",
              " </div>,\n",
              " <div class=\"col-6 col-lg-3 text-center margin-30px-bottom sm-margin-30px-top\">\n",
              " \n",
              "         <a href=\"/inspirational-quotes/8250-in-one-of-its-earliest-forms-the-word-courage\"><img alt=\"In one of its earliest forms, the word courage meant ‘To speak one’s mind by telling all one’s heart.' #&lt;Author:0x00007fcd4726fae0&gt;\" class=\"margin-10px-bottom shadow\" height=\"310\" src=\"https://assets.passiton.com/quotes/quote_artwork/8250/medium/20210816_monday_quote.jpg?1628879133\" width=\"310\"/></a>\n",
              "         <h5 class=\"value_on_red\"><a href=\"/inspirational-quotes/8250-in-one-of-its-earliest-forms-the-word-courage\">COURAGE</a></h5>\n",
              " \n",
              " </div>,\n",
              " <div class=\"col-6 col-lg-3 text-center margin-30px-bottom sm-margin-30px-top\">\n",
              " \n",
              "         <a href=\"/inspirational-quotes/8249-some-people-want-it-to-happen-some-wish-it\"><img alt=\"Some people want it to happen, some wish it would happen, others make it happen. #&lt;Author:0x00007fcd4728e0f8&gt;\" class=\"margin-10px-bottom shadow\" height=\"310\" src=\"https://assets.passiton.com/quotes/quote_artwork/8249/medium/20210813_friday_quote.jpg?1628114247\" width=\"310\"/></a>\n",
              "         <h5 class=\"value_on_red\"><a href=\"/inspirational-quotes/8249-some-people-want-it-to-happen-some-wish-it\">PERSEVERANCE</a></h5>\n",
              " \n",
              " </div>,\n",
              " <div class=\"col-6 col-lg-3 text-center margin-30px-bottom sm-margin-30px-top\">\n",
              " \n",
              "         <a href=\"/inspirational-quotes/4076-there-are-no-shortcuts-to-any-place-worth-going\"><img alt=\"There are no shortcuts to any place worth going. #&lt;Author:0x00007fcd472b6468&gt;\" class=\"margin-10px-bottom shadow\" height=\"310\" src=\"https://assets.passiton.com/quotes/quote_artwork/4076/medium/20210812_thursday_quote.jpg?1628114208\" width=\"310\"/></a>\n",
              "         <h5 class=\"value_on_red\"><a href=\"/inspirational-quotes/4076-there-are-no-shortcuts-to-any-place-worth-going\">PERSEVERANCE</a></h5>\n",
              " \n",
              " </div>,\n",
              " <div class=\"col-6 col-lg-3 text-center margin-30px-bottom sm-margin-30px-top\">\n",
              " \n",
              "         <a href=\"/inspirational-quotes/8248-the-only-failure-is-quitting-everything-else\"><img alt=\"The only failure is quitting. Everything else is just gathering information. #&lt;Author:0x00007fcd472eada8&gt;\" class=\"margin-10px-bottom shadow\" height=\"310\" src=\"https://assets.passiton.com/quotes/quote_artwork/8248/medium/20210811_wednesday_quote.jpg?1628114184\" width=\"310\"/></a>\n",
              "         <h5 class=\"value_on_red\"><a href=\"/inspirational-quotes/8248-the-only-failure-is-quitting-everything-else\">PERSEVERANCE</a></h5>\n",
              " \n",
              " </div>,\n",
              " <div class=\"col-6 col-lg-3 text-center margin-30px-bottom sm-margin-30px-top\">\n",
              " \n",
              "         <a href=\"/inspirational-quotes/2210-theres-only-one-way-to-succeed-in-anything-and\"><img alt=\"There's only one way to succeed in anything, and that is to give it everything. #&lt;Author:0x00007fcd4730ff90&gt;\" class=\"margin-10px-bottom shadow\" height=\"310\" src=\"https://assets.passiton.com/quotes/quote_artwork/2210/medium/20210810_tuesday_quote.jpg?1628114164\" width=\"310\"/></a>\n",
              "         <h5 class=\"value_on_red\"><a href=\"/inspirational-quotes/2210-theres-only-one-way-to-succeed-in-anything-and\">PERSEVERANCE</a></h5>\n",
              " \n",
              " </div>,\n",
              " <div class=\"col-6 col-lg-3 text-center margin-30px-bottom sm-margin-30px-top\">\n",
              " \n",
              "         <a href=\"/inspirational-quotes/5831-in-the-confrontation-between-the-stream-and-the\"><img alt=\"In the confrontation between the stream and the rock, the stream always wins- not through strength but by perseverance. #&lt;Author:0x00007fcd4732e440&gt;\" class=\"margin-10px-bottom shadow\" height=\"310\" src=\"https://assets.passiton.com/quotes/quote_artwork/5831/medium/20210809_monday_quote.jpg?1628114140\" width=\"310\"/></a>\n",
              "         <h5 class=\"value_on_red\"><a href=\"/inspirational-quotes/5831-in-the-confrontation-between-the-stream-and-the\">PERSEVERANCE</a></h5>\n",
              " \n",
              " </div>,\n",
              " <div class=\"col-6 col-lg-3 text-center margin-30px-bottom sm-margin-30px-top\">\n",
              " \n",
              "         <a href=\"/inspirational-quotes/7783-a-good-laugh-heals-a-lot-of-hurts\"><img alt=\"A good laugh heals a lot of hurts. #&lt;Author:0x00007fcd47363528&gt;\" class=\"margin-10px-bottom shadow\" height=\"310\" src=\"https://assets.passiton.com/quotes/quote_artwork/7783/medium/20210806_friday_quote.jpg?1627091944\" width=\"310\"/></a>\n",
              "         <h5 class=\"value_on_red\"><a href=\"/inspirational-quotes/7783-a-good-laugh-heals-a-lot-of-hurts\">LAUGHTER</a></h5>\n",
              " \n",
              " </div>,\n",
              " <div class=\"col-6 col-lg-3 text-center margin-30px-bottom sm-margin-30px-top\">\n",
              " \n",
              "         <a href=\"/inspirational-quotes/8247-laughter-lightens-the-soul\"><img alt=\"Laughter lightens the soul. #&lt;Author:0x00007fcd473815a0&gt;\" class=\"margin-10px-bottom shadow\" height=\"310\" src=\"https://assets.passiton.com/quotes/quote_artwork/8247/medium/20210805_thursday_quote.jpg?1627091911\" width=\"310\"/></a>\n",
              "         <h5 class=\"value_on_red\"><a href=\"/inspirational-quotes/8247-laughter-lightens-the-soul\">LAUGHTER</a></h5>\n",
              " \n",
              " </div>]"
            ]
          },
          "metadata": {},
          "execution_count": 30
        }
      ]
    },
    {
      "cell_type": "code",
      "metadata": {
        "colab": {
          "base_uri": "https://localhost:8080/",
          "height": 36
        },
        "id": "MtlUaeC7ZsCL",
        "outputId": "03fd2eb3-b501-4a6d-cd13-66d617d7b764"
      },
      "source": [
        "divs[0].img['src']"
      ],
      "execution_count": 31,
      "outputs": [
        {
          "output_type": "execute_result",
          "data": {
            "application/vnd.google.colaboratory.intrinsic+json": {
              "type": "string"
            },
            "text/plain": [
              "'https://assets.passiton.com/quotes/quote_artwork/8263/medium/20210917_friday_quote.jpg?1631298884'"
            ]
          },
          "metadata": {},
          "execution_count": 31
        }
      ]
    },
    {
      "cell_type": "code",
      "metadata": {
        "colab": {
          "base_uri": "https://localhost:8080/",
          "height": 36
        },
        "id": "Kc7kwjxkX0ud",
        "outputId": "17508fa4-6dae-4991-8324-78da8c35192b"
      },
      "source": [
        "divs[0].img['alt'].split(\"#\")[0]"
      ],
      "execution_count": 39,
      "outputs": [
        {
          "output_type": "execute_result",
          "data": {
            "application/vnd.google.colaboratory.intrinsic+json": {
              "type": "string"
            },
            "text/plain": [
              "'An exchange of empathy provides an entry point for a lot of people to see what healing feels like.  '"
            ]
          },
          "metadata": {},
          "execution_count": 39
        }
      ]
    },
    {
      "cell_type": "code",
      "metadata": {
        "colab": {
          "base_uri": "https://localhost:8080/"
        },
        "id": "xsqfQ7__X0xV",
        "outputId": "ec1d81c1-b63b-48f4-a9d5-a33bfbccae74"
      },
      "source": [
        "divs[0]"
      ],
      "execution_count": 33,
      "outputs": [
        {
          "output_type": "execute_result",
          "data": {
            "text/plain": [
              "<div class=\"col-6 col-lg-3 text-center margin-30px-bottom sm-margin-30px-top\">\n",
              "\n",
              "        <a href=\"/inspirational-quotes/8263-an-exchange-of-empathy-provides-an-entry-point\"><img alt=\"An exchange of empathy provides an entry point for a lot of people to see what healing feels like.  #&lt;Author:0x00007fcd46df0c08&gt;\" class=\"margin-10px-bottom shadow\" height=\"310\" src=\"https://assets.passiton.com/quotes/quote_artwork/8263/medium/20210917_friday_quote.jpg?1631298884\" width=\"310\"/></a>\n",
              "        <h5 class=\"value_on_red\"><a href=\"/inspirational-quotes/8263-an-exchange-of-empathy-provides-an-entry-point\">EMPATHY</a></h5>\n",
              "\n",
              "</div>"
            ]
          },
          "metadata": {},
          "execution_count": 33
        }
      ]
    },
    {
      "cell_type": "code",
      "metadata": {
        "colab": {
          "base_uri": "https://localhost:8080/",
          "height": 36
        },
        "id": "V8MIjoGsbGvi",
        "outputId": "c1c81264-4d61-4037-9747-3e83fa75dc68"
      },
      "source": [
        "divs[0].a['href']"
      ],
      "execution_count": 35,
      "outputs": [
        {
          "output_type": "execute_result",
          "data": {
            "application/vnd.google.colaboratory.intrinsic+json": {
              "type": "string"
            },
            "text/plain": [
              "'/inspirational-quotes/8263-an-exchange-of-empathy-provides-an-entry-point'"
            ]
          },
          "metadata": {},
          "execution_count": 35
        }
      ]
    },
    {
      "cell_type": "code",
      "metadata": {
        "colab": {
          "base_uri": "https://localhost:8080/"
        },
        "id": "OyojwYy7X00N",
        "outputId": "9d3ccf15-6998-4b26-aa5f-a3e259a63237"
      },
      "source": [
        "divs[0]"
      ],
      "execution_count": 40,
      "outputs": [
        {
          "output_type": "execute_result",
          "data": {
            "text/plain": [
              "<div class=\"col-6 col-lg-3 text-center margin-30px-bottom sm-margin-30px-top\">\n",
              "\n",
              "        <a href=\"/inspirational-quotes/8263-an-exchange-of-empathy-provides-an-entry-point\"><img alt=\"An exchange of empathy provides an entry point for a lot of people to see what healing feels like.  #&lt;Author:0x00007fcd46df0c08&gt;\" class=\"margin-10px-bottom shadow\" height=\"310\" src=\"https://assets.passiton.com/quotes/quote_artwork/8263/medium/20210917_friday_quote.jpg?1631298884\" width=\"310\"/></a>\n",
              "        <h5 class=\"value_on_red\"><a href=\"/inspirational-quotes/8263-an-exchange-of-empathy-provides-an-entry-point\">EMPATHY</a></h5>\n",
              "\n",
              "</div>"
            ]
          },
          "metadata": {},
          "execution_count": 40
        }
      ]
    },
    {
      "cell_type": "code",
      "metadata": {
        "id": "QfJoTIgvX03H"
      },
      "source": [
        "_url = divs[0].a['href']"
      ],
      "execution_count": 63,
      "outputs": []
    },
    {
      "cell_type": "code",
      "metadata": {
        "id": "ur81zpL0X06l"
      },
      "source": [
        "_img = divs[0].img['src']"
      ],
      "execution_count": 64,
      "outputs": []
    },
    {
      "cell_type": "code",
      "metadata": {
        "id": "Z0YeYD4Ic5fF"
      },
      "source": [
        "_name = divs[0].h5.text"
      ],
      "execution_count": 65,
      "outputs": []
    },
    {
      "cell_type": "code",
      "metadata": {
        "id": "bqb14StOc5hz"
      },
      "source": [
        "quote = divs[0].img['alt'].split('#')[0]"
      ],
      "execution_count": 50,
      "outputs": []
    },
    {
      "cell_type": "code",
      "metadata": {
        "id": "4aLkjQHSc5kr"
      },
      "source": [
        "quote_data = {}"
      ],
      "execution_count": 73,
      "outputs": []
    },
    {
      "cell_type": "code",
      "metadata": {
        "id": "8rCEpd3fc5ne"
      },
      "source": [
        "quotes = []"
      ],
      "execution_count": 67,
      "outputs": []
    },
    {
      "cell_type": "code",
      "metadata": {
        "id": "5_vUiKrmc5qL"
      },
      "source": [
        "for i in divs:\n",
        "  temp_data = {}\n",
        "  temp_data['name'] = i.h5.text\n",
        "  temp_data['url'] = i.a['href']\n",
        "  temp_data['img'] = i.img['src']\n",
        "  temp_data['quote'] = i.img['alt'].split('#')[0]\n",
        "  quotes.append(temp_data)"
      ],
      "execution_count": 68,
      "outputs": []
    },
    {
      "cell_type": "code",
      "metadata": {
        "colab": {
          "base_uri": "https://localhost:8080/"
        },
        "id": "QkzPhEgJc5tD",
        "outputId": "95845951-79b3-49f7-8f51-cef481af64be"
      },
      "source": [
        "quotes"
      ],
      "execution_count": 69,
      "outputs": [
        {
          "output_type": "execute_result",
          "data": {
            "text/plain": [
              "[{'img': 'https://assets.passiton.com/quotes/quote_artwork/8263/medium/20210917_friday_quote.jpg?1631298884',\n",
              "  'name': 'EMPATHY',\n",
              "  'quote': 'An exchange of empathy provides an entry point for a lot of people to see what healing feels like.  ',\n",
              "  'url': '/inspirational-quotes/8263-an-exchange-of-empathy-provides-an-entry-point'},\n",
              " {'img': 'https://assets.passiton.com/quotes/quote_artwork/8262/medium/20210916_thursday_quote.jpg?1631298861',\n",
              "  'name': 'EMPATHY',\n",
              "  'quote': 'Whenever you are about to find fault with someone, ask yourself the following question: What fault of mine most nearly resembles the one I am about to criticize? ',\n",
              "  'url': '/inspirational-quotes/8262-whenever-you-are-about-to-find-fault-with'},\n",
              " {'img': 'https://assets.passiton.com/quotes/quote_artwork/8080/medium/20210915_wednesday_quote.jpg?1631298835',\n",
              "  'name': 'EMPATHY',\n",
              "  'quote': 'We think we listen, but very rarely do we listen with real understanding, true empathy. Yet listening, of this very special kind, is one of the most potent forces for change that I know. ',\n",
              "  'url': '/inspirational-quotes/8080-we-think-we-listen-but-very-rarely-do-we'},\n",
              " {'img': 'https://assets.passiton.com/quotes/quote_artwork/8261/medium/20210914_tuesday_quote.jpg?1631298808',\n",
              "  'name': 'EMPATHY',\n",
              "  'quote': 'Empathy is about finding echoes of another person in yourself. ',\n",
              "  'url': '/inspirational-quotes/8261-empathy-is-about-finding-echoes-of-another'},\n",
              " {'img': 'https://assets.passiton.com/quotes/quote_artwork/3202/medium/20210913_monday_quote.jpg?1631298784',\n",
              "  'name': 'EMPATHY',\n",
              "  'quote': 'How far you go in life depends on your being tender with the young, compassionate with the aged, sympathetic with the striving, and tolerant of the weak and the strong, because someday in your life, you will have been all of these. ',\n",
              "  'url': '/inspirational-quotes/3202-how-far-you-go-in-life-depends-on-your-being'},\n",
              " {'img': 'https://assets.passiton.com/quotes/quote_artwork/7961/medium/20210910_friday_quote.jpg?1630703929',\n",
              "  'name': 'SELF-CARE',\n",
              "  'quote': 'Talk to yourself like you would to someone you love. ',\n",
              "  'url': '/inspirational-quotes/7961-talk-to-yourself-like-you-would-to-someone-you'},\n",
              " {'img': 'https://assets.passiton.com/quotes/quote_artwork/8260/medium/20210909_thursday_quote.jpg?1630703897',\n",
              "  'name': 'SELF-CARE',\n",
              "  'quote': 'Self-care is not self-indulgence, it is self-preservation. ',\n",
              "  'url': '/inspirational-quotes/8260-self-care-is-not-self-indulgence-it-is'},\n",
              " {'img': 'https://assets.passiton.com/quotes/quote_artwork/7055/medium/20210908_wednesday_quote.jpg?1630703870',\n",
              "  'name': 'SELF-CARE',\n",
              "  'quote': 'There’s only one corner of the universe you can be certain of improving, and that’s your own self. ',\n",
              "  'url': '/inspirational-quotes/7055-there-s-only-one-corner-of-the-universe-you-can'},\n",
              " {'img': 'https://assets.passiton.com/quotes/quote_artwork/8259/medium/20210907_tuesday_quote.jpg?1630703831',\n",
              "  'name': 'SELF-CARE',\n",
              "  'quote': 'Rest and self-care are so important. When you take time to replenish your spirit, it allows you to serve from the overflow. You cannot serve from an empty vessel. ',\n",
              "  'url': '/inspirational-quotes/8259-rest-and-self-care-are-so-important-when-you'},\n",
              " {'img': 'https://assets.passiton.com/quotes/quote_artwork/8258/medium/20210906_monday_quote.jpg?1630703806',\n",
              "  'name': 'SELF-CARE',\n",
              "  'quote': 'Mind. Body. Soul. These are the three things self-care is all about. ',\n",
              "  'url': '/inspirational-quotes/8258-mind-body-soul-these-are-the-three-things'},\n",
              " {'img': 'https://assets.passiton.com/quotes/quote_artwork/8257/medium/20200903_friday_quote.jpg?1630078590',\n",
              "  'name': 'TEAMWORK',\n",
              "  'quote': 'The people closest to me determine my level of success or failure. The better they are, the better I am. And if I want to go to the highest level, I can do it only with the help of other people. We have to take each other higher. ',\n",
              "  'url': '/inspirational-quotes/8257-the-people-closest-to-me-determine-my-level-of'},\n",
              " {'img': 'https://assets.passiton.com/quotes/quote_artwork/5572/medium/20200902_thursday_quote.jpg?1630078566',\n",
              "  'name': 'TEAMWORK',\n",
              "  'quote': 'Cooperation is the thorough conviction that nobody can get there unless everybody gets there. ',\n",
              "  'url': '/inspirational-quotes/5572-cooperation-is-the-thorough-conviction-that'},\n",
              " {'img': 'https://assets.passiton.com/quotes/quote_artwork/7295/medium/20200901_wednesday_quote.jpg?1630078539',\n",
              "  'name': 'TEAMWORK',\n",
              "  'quote': 'The strength of the team is each individual member. The strength of each member is the team. ',\n",
              "  'url': '/inspirational-quotes/7295-the-strength-of-the-team-is-each-individual'},\n",
              " {'img': 'https://assets.passiton.com/quotes/quote_artwork/6116/medium/20200831_tuesday_quote.jpg?1630078510',\n",
              "  'name': 'TEAMWORK',\n",
              "  'quote': 'Problems can become opportunities when the right people come together.  ',\n",
              "  'url': '/inspirational-quotes/6116-problems-can-become-opportunities-when-the'},\n",
              " {'img': 'https://assets.passiton.com/quotes/quote_artwork/6751/medium/20200830_monday_quote.jpg?1630078481',\n",
              "  'name': 'TEAMWORK',\n",
              "  'quote': 'Individual commitment to a group effort - that is what makes a team work, a company work, a society work, a civilization work. ',\n",
              "  'url': '/inspirational-quotes/6751-individual-commitment-to-a-group-effort-that'},\n",
              " {'img': 'https://assets.passiton.com/quotes/quote_artwork/7705/medium/20210827_friday_quote.jpg?1629348009',\n",
              "  'name': 'INCLUDING OTHERS',\n",
              "  'quote': 'It is easier to reach our potential when we learn the value of including others in our quest. ',\n",
              "  'url': '/inspirational-quotes/7705-it-is-easier-to-reach-our-potential-when-we'},\n",
              " {'img': 'https://assets.passiton.com/quotes/quote_artwork/8256/medium/20210826_thursday_quote.jpg?1629347979',\n",
              "  'name': 'INCLUDING OTHERS',\n",
              "  'quote': 'To be fully seen by somebody, then, and be loved anyhow—this is a human offering that can border on miraculous. ',\n",
              "  'url': '/inspirational-quotes/8256-to-be-fully-seen-by-somebody-then-and-be'},\n",
              " {'img': 'https://assets.passiton.com/quotes/quote_artwork/8255/medium/20210825_wednesday_quote.jpg?1629347953',\n",
              "  'name': 'INCLUDING OTHERS',\n",
              "  'quote': 'Have a big enough heart to love unconditionally, and a broad enough mind to embrace the differences that make each of us unique. ',\n",
              "  'url': '/inspirational-quotes/8255-have-a-big-enough-heart-to-love'},\n",
              " {'img': 'https://assets.passiton.com/quotes/quote_artwork/8254/medium/20210824_tuesday_quote.jpg?1629347928',\n",
              "  'name': 'INCLUDING OTHERS',\n",
              "  'quote': 'Acceptance is simply love in practice. When you love, you accept, when you lack love, you judge. ',\n",
              "  'url': '/inspirational-quotes/8254-acceptance-is-simply-love-in-practice-when-you'},\n",
              " {'img': 'https://assets.passiton.com/quotes/quote_artwork/8253/medium/20210823_monday_quote.jpg?1629347894',\n",
              "  'name': 'INCLUDING OTHERS',\n",
              "  'quote': \"The happiness of one's own heart alone cannot satisfy the soul; one must try to include, as necessary to one's own happiness, the happiness of others. \",\n",
              "  'url': '/inspirational-quotes/8253-the-happiness-of-ones-own-heart-alone-cannot'},\n",
              " {'img': 'https://assets.passiton.com/quotes/quote_artwork/7020/medium/20210820_friday_quote.jpg?1628879237',\n",
              "  'name': 'COURAGE',\n",
              "  'quote': 'Nothing in life is to be feared. It is only to be understood. Now is the time to understand more, so that we may fear less. ',\n",
              "  'url': '/inspirational-quotes/7020-nothing-in-life-is-to-be-feared-it-is-only-to'},\n",
              " {'img': 'https://assets.passiton.com/quotes/quote_artwork/8252/medium/20210819_thursday_quote.jpg?1628879212',\n",
              "  'name': 'COURAGE',\n",
              "  'quote': 'Have the courage to follow your heart and intuition. They somehow already know what you truly want to become. ',\n",
              "  'url': '/inspirational-quotes/8252-have-the-courage-to-follow-your-heart-and'},\n",
              " {'img': 'https://assets.passiton.com/quotes/quote_artwork/8251/medium/20210818_wednesday_quote.jpg?1628879189',\n",
              "  'name': 'COURAGE',\n",
              "  'quote': 'Courage doesn’t mean you don’t get afraid. Courage means you don’t let fear stop you.  ',\n",
              "  'url': '/inspirational-quotes/8251-courage-doesn-t-mean-you-don-t-get-afraid'},\n",
              " {'img': 'https://assets.passiton.com/quotes/quote_artwork/7299/medium/20210817_tuesday_quote.jpg?1628879166',\n",
              "  'name': 'COURAGE',\n",
              "  'quote': \"Life shrinks or expands in proportion to one's courage. \",\n",
              "  'url': '/inspirational-quotes/7299-life-shrinks-or-expands-in-proportion-to-ones'},\n",
              " {'img': 'https://assets.passiton.com/quotes/quote_artwork/8250/medium/20210816_monday_quote.jpg?1628879133',\n",
              "  'name': 'COURAGE',\n",
              "  'quote': \"In one of its earliest forms, the word courage meant ‘To speak one’s mind by telling all one’s heart.' \",\n",
              "  'url': '/inspirational-quotes/8250-in-one-of-its-earliest-forms-the-word-courage'},\n",
              " {'img': 'https://assets.passiton.com/quotes/quote_artwork/8249/medium/20210813_friday_quote.jpg?1628114247',\n",
              "  'name': 'PERSEVERANCE',\n",
              "  'quote': 'Some people want it to happen, some wish it would happen, others make it happen. ',\n",
              "  'url': '/inspirational-quotes/8249-some-people-want-it-to-happen-some-wish-it'},\n",
              " {'img': 'https://assets.passiton.com/quotes/quote_artwork/4076/medium/20210812_thursday_quote.jpg?1628114208',\n",
              "  'name': 'PERSEVERANCE',\n",
              "  'quote': 'There are no shortcuts to any place worth going. ',\n",
              "  'url': '/inspirational-quotes/4076-there-are-no-shortcuts-to-any-place-worth-going'},\n",
              " {'img': 'https://assets.passiton.com/quotes/quote_artwork/8248/medium/20210811_wednesday_quote.jpg?1628114184',\n",
              "  'name': 'PERSEVERANCE',\n",
              "  'quote': 'The only failure is quitting. Everything else is just gathering information. ',\n",
              "  'url': '/inspirational-quotes/8248-the-only-failure-is-quitting-everything-else'},\n",
              " {'img': 'https://assets.passiton.com/quotes/quote_artwork/2210/medium/20210810_tuesday_quote.jpg?1628114164',\n",
              "  'name': 'PERSEVERANCE',\n",
              "  'quote': \"There's only one way to succeed in anything, and that is to give it everything. \",\n",
              "  'url': '/inspirational-quotes/2210-theres-only-one-way-to-succeed-in-anything-and'},\n",
              " {'img': 'https://assets.passiton.com/quotes/quote_artwork/5831/medium/20210809_monday_quote.jpg?1628114140',\n",
              "  'name': 'PERSEVERANCE',\n",
              "  'quote': 'In the confrontation between the stream and the rock, the stream always wins- not through strength but by perseverance. ',\n",
              "  'url': '/inspirational-quotes/5831-in-the-confrontation-between-the-stream-and-the'},\n",
              " {'img': 'https://assets.passiton.com/quotes/quote_artwork/7783/medium/20210806_friday_quote.jpg?1627091944',\n",
              "  'name': 'LAUGHTER',\n",
              "  'quote': 'A good laugh heals a lot of hurts. ',\n",
              "  'url': '/inspirational-quotes/7783-a-good-laugh-heals-a-lot-of-hurts'},\n",
              " {'img': 'https://assets.passiton.com/quotes/quote_artwork/8247/medium/20210805_thursday_quote.jpg?1627091911',\n",
              "  'name': 'LAUGHTER',\n",
              "  'quote': 'Laughter lightens the soul. ',\n",
              "  'url': '/inspirational-quotes/8247-laughter-lightens-the-soul'}]"
            ]
          },
          "metadata": {},
          "execution_count": 69
        }
      ]
    },
    {
      "cell_type": "code",
      "metadata": {
        "id": "1s2ky5Dvf8rb"
      },
      "source": [
        "final_data = pd.DataFrame(quotes)"
      ],
      "execution_count": 70,
      "outputs": []
    },
    {
      "cell_type": "code",
      "metadata": {
        "colab": {
          "base_uri": "https://localhost:8080/",
          "height": 1000
        },
        "id": "w-piy5Bqf8uR",
        "outputId": "d57cf216-7275-43e1-f1a5-5b59f137ba27"
      },
      "source": [
        "final_data"
      ],
      "execution_count": 71,
      "outputs": [
        {
          "output_type": "execute_result",
          "data": {
            "text/html": [
              "<div>\n",
              "<style scoped>\n",
              "    .dataframe tbody tr th:only-of-type {\n",
              "        vertical-align: middle;\n",
              "    }\n",
              "\n",
              "    .dataframe tbody tr th {\n",
              "        vertical-align: top;\n",
              "    }\n",
              "\n",
              "    .dataframe thead th {\n",
              "        text-align: right;\n",
              "    }\n",
              "</style>\n",
              "<table border=\"1\" class=\"dataframe\">\n",
              "  <thead>\n",
              "    <tr style=\"text-align: right;\">\n",
              "      <th></th>\n",
              "      <th>name</th>\n",
              "      <th>url</th>\n",
              "      <th>img</th>\n",
              "      <th>quote</th>\n",
              "    </tr>\n",
              "  </thead>\n",
              "  <tbody>\n",
              "    <tr>\n",
              "      <th>0</th>\n",
              "      <td>EMPATHY</td>\n",
              "      <td>/inspirational-quotes/8263-an-exchange-of-empa...</td>\n",
              "      <td>https://assets.passiton.com/quotes/quote_artwo...</td>\n",
              "      <td>An exchange of empathy provides an entry point...</td>\n",
              "    </tr>\n",
              "    <tr>\n",
              "      <th>1</th>\n",
              "      <td>EMPATHY</td>\n",
              "      <td>/inspirational-quotes/8262-whenever-you-are-ab...</td>\n",
              "      <td>https://assets.passiton.com/quotes/quote_artwo...</td>\n",
              "      <td>Whenever you are about to find fault with some...</td>\n",
              "    </tr>\n",
              "    <tr>\n",
              "      <th>2</th>\n",
              "      <td>EMPATHY</td>\n",
              "      <td>/inspirational-quotes/8080-we-think-we-listen-...</td>\n",
              "      <td>https://assets.passiton.com/quotes/quote_artwo...</td>\n",
              "      <td>We think we listen, but very rarely do we list...</td>\n",
              "    </tr>\n",
              "    <tr>\n",
              "      <th>3</th>\n",
              "      <td>EMPATHY</td>\n",
              "      <td>/inspirational-quotes/8261-empathy-is-about-fi...</td>\n",
              "      <td>https://assets.passiton.com/quotes/quote_artwo...</td>\n",
              "      <td>Empathy is about finding echoes of another per...</td>\n",
              "    </tr>\n",
              "    <tr>\n",
              "      <th>4</th>\n",
              "      <td>EMPATHY</td>\n",
              "      <td>/inspirational-quotes/3202-how-far-you-go-in-l...</td>\n",
              "      <td>https://assets.passiton.com/quotes/quote_artwo...</td>\n",
              "      <td>How far you go in life depends on your being t...</td>\n",
              "    </tr>\n",
              "    <tr>\n",
              "      <th>5</th>\n",
              "      <td>SELF-CARE</td>\n",
              "      <td>/inspirational-quotes/7961-talk-to-yourself-li...</td>\n",
              "      <td>https://assets.passiton.com/quotes/quote_artwo...</td>\n",
              "      <td>Talk to yourself like you would to someone you...</td>\n",
              "    </tr>\n",
              "    <tr>\n",
              "      <th>6</th>\n",
              "      <td>SELF-CARE</td>\n",
              "      <td>/inspirational-quotes/8260-self-care-is-not-se...</td>\n",
              "      <td>https://assets.passiton.com/quotes/quote_artwo...</td>\n",
              "      <td>Self-care is not self-indulgence, it is self-p...</td>\n",
              "    </tr>\n",
              "    <tr>\n",
              "      <th>7</th>\n",
              "      <td>SELF-CARE</td>\n",
              "      <td>/inspirational-quotes/7055-there-s-only-one-co...</td>\n",
              "      <td>https://assets.passiton.com/quotes/quote_artwo...</td>\n",
              "      <td>There’s only one corner of the universe you ca...</td>\n",
              "    </tr>\n",
              "    <tr>\n",
              "      <th>8</th>\n",
              "      <td>SELF-CARE</td>\n",
              "      <td>/inspirational-quotes/8259-rest-and-self-care-...</td>\n",
              "      <td>https://assets.passiton.com/quotes/quote_artwo...</td>\n",
              "      <td>Rest and self-care are so important. When you ...</td>\n",
              "    </tr>\n",
              "    <tr>\n",
              "      <th>9</th>\n",
              "      <td>SELF-CARE</td>\n",
              "      <td>/inspirational-quotes/8258-mind-body-soul-thes...</td>\n",
              "      <td>https://assets.passiton.com/quotes/quote_artwo...</td>\n",
              "      <td>Mind. Body. Soul. These are the three things s...</td>\n",
              "    </tr>\n",
              "    <tr>\n",
              "      <th>10</th>\n",
              "      <td>TEAMWORK</td>\n",
              "      <td>/inspirational-quotes/8257-the-people-closest-...</td>\n",
              "      <td>https://assets.passiton.com/quotes/quote_artwo...</td>\n",
              "      <td>The people closest to me determine my level of...</td>\n",
              "    </tr>\n",
              "    <tr>\n",
              "      <th>11</th>\n",
              "      <td>TEAMWORK</td>\n",
              "      <td>/inspirational-quotes/5572-cooperation-is-the-...</td>\n",
              "      <td>https://assets.passiton.com/quotes/quote_artwo...</td>\n",
              "      <td>Cooperation is the thorough conviction that no...</td>\n",
              "    </tr>\n",
              "    <tr>\n",
              "      <th>12</th>\n",
              "      <td>TEAMWORK</td>\n",
              "      <td>/inspirational-quotes/7295-the-strength-of-the...</td>\n",
              "      <td>https://assets.passiton.com/quotes/quote_artwo...</td>\n",
              "      <td>The strength of the team is each individual me...</td>\n",
              "    </tr>\n",
              "    <tr>\n",
              "      <th>13</th>\n",
              "      <td>TEAMWORK</td>\n",
              "      <td>/inspirational-quotes/6116-problems-can-become...</td>\n",
              "      <td>https://assets.passiton.com/quotes/quote_artwo...</td>\n",
              "      <td>Problems can become opportunities when the rig...</td>\n",
              "    </tr>\n",
              "    <tr>\n",
              "      <th>14</th>\n",
              "      <td>TEAMWORK</td>\n",
              "      <td>/inspirational-quotes/6751-individual-commitme...</td>\n",
              "      <td>https://assets.passiton.com/quotes/quote_artwo...</td>\n",
              "      <td>Individual commitment to a group effort - that...</td>\n",
              "    </tr>\n",
              "    <tr>\n",
              "      <th>15</th>\n",
              "      <td>INCLUDING OTHERS</td>\n",
              "      <td>/inspirational-quotes/7705-it-is-easier-to-rea...</td>\n",
              "      <td>https://assets.passiton.com/quotes/quote_artwo...</td>\n",
              "      <td>It is easier to reach our potential when we le...</td>\n",
              "    </tr>\n",
              "    <tr>\n",
              "      <th>16</th>\n",
              "      <td>INCLUDING OTHERS</td>\n",
              "      <td>/inspirational-quotes/8256-to-be-fully-seen-by...</td>\n",
              "      <td>https://assets.passiton.com/quotes/quote_artwo...</td>\n",
              "      <td>To be fully seen by somebody, then, and be lov...</td>\n",
              "    </tr>\n",
              "    <tr>\n",
              "      <th>17</th>\n",
              "      <td>INCLUDING OTHERS</td>\n",
              "      <td>/inspirational-quotes/8255-have-a-big-enough-h...</td>\n",
              "      <td>https://assets.passiton.com/quotes/quote_artwo...</td>\n",
              "      <td>Have a big enough heart to love unconditionall...</td>\n",
              "    </tr>\n",
              "    <tr>\n",
              "      <th>18</th>\n",
              "      <td>INCLUDING OTHERS</td>\n",
              "      <td>/inspirational-quotes/8254-acceptance-is-simpl...</td>\n",
              "      <td>https://assets.passiton.com/quotes/quote_artwo...</td>\n",
              "      <td>Acceptance is simply love in practice. When yo...</td>\n",
              "    </tr>\n",
              "    <tr>\n",
              "      <th>19</th>\n",
              "      <td>INCLUDING OTHERS</td>\n",
              "      <td>/inspirational-quotes/8253-the-happiness-of-on...</td>\n",
              "      <td>https://assets.passiton.com/quotes/quote_artwo...</td>\n",
              "      <td>The happiness of one's own heart alone cannot ...</td>\n",
              "    </tr>\n",
              "    <tr>\n",
              "      <th>20</th>\n",
              "      <td>COURAGE</td>\n",
              "      <td>/inspirational-quotes/7020-nothing-in-life-is-...</td>\n",
              "      <td>https://assets.passiton.com/quotes/quote_artwo...</td>\n",
              "      <td>Nothing in life is to be feared. It is only to...</td>\n",
              "    </tr>\n",
              "    <tr>\n",
              "      <th>21</th>\n",
              "      <td>COURAGE</td>\n",
              "      <td>/inspirational-quotes/8252-have-the-courage-to...</td>\n",
              "      <td>https://assets.passiton.com/quotes/quote_artwo...</td>\n",
              "      <td>Have the courage to follow your heart and intu...</td>\n",
              "    </tr>\n",
              "    <tr>\n",
              "      <th>22</th>\n",
              "      <td>COURAGE</td>\n",
              "      <td>/inspirational-quotes/8251-courage-doesn-t-mea...</td>\n",
              "      <td>https://assets.passiton.com/quotes/quote_artwo...</td>\n",
              "      <td>Courage doesn’t mean you don’t get afraid. Cou...</td>\n",
              "    </tr>\n",
              "    <tr>\n",
              "      <th>23</th>\n",
              "      <td>COURAGE</td>\n",
              "      <td>/inspirational-quotes/7299-life-shrinks-or-exp...</td>\n",
              "      <td>https://assets.passiton.com/quotes/quote_artwo...</td>\n",
              "      <td>Life shrinks or expands in proportion to one's...</td>\n",
              "    </tr>\n",
              "    <tr>\n",
              "      <th>24</th>\n",
              "      <td>COURAGE</td>\n",
              "      <td>/inspirational-quotes/8250-in-one-of-its-earli...</td>\n",
              "      <td>https://assets.passiton.com/quotes/quote_artwo...</td>\n",
              "      <td>In one of its earliest forms, the word courage...</td>\n",
              "    </tr>\n",
              "    <tr>\n",
              "      <th>25</th>\n",
              "      <td>PERSEVERANCE</td>\n",
              "      <td>/inspirational-quotes/8249-some-people-want-it...</td>\n",
              "      <td>https://assets.passiton.com/quotes/quote_artwo...</td>\n",
              "      <td>Some people want it to happen, some wish it wo...</td>\n",
              "    </tr>\n",
              "    <tr>\n",
              "      <th>26</th>\n",
              "      <td>PERSEVERANCE</td>\n",
              "      <td>/inspirational-quotes/4076-there-are-no-shortc...</td>\n",
              "      <td>https://assets.passiton.com/quotes/quote_artwo...</td>\n",
              "      <td>There are no shortcuts to any place worth going.</td>\n",
              "    </tr>\n",
              "    <tr>\n",
              "      <th>27</th>\n",
              "      <td>PERSEVERANCE</td>\n",
              "      <td>/inspirational-quotes/8248-the-only-failure-is...</td>\n",
              "      <td>https://assets.passiton.com/quotes/quote_artwo...</td>\n",
              "      <td>The only failure is quitting. Everything else ...</td>\n",
              "    </tr>\n",
              "    <tr>\n",
              "      <th>28</th>\n",
              "      <td>PERSEVERANCE</td>\n",
              "      <td>/inspirational-quotes/2210-theres-only-one-way...</td>\n",
              "      <td>https://assets.passiton.com/quotes/quote_artwo...</td>\n",
              "      <td>There's only one way to succeed in anything, a...</td>\n",
              "    </tr>\n",
              "    <tr>\n",
              "      <th>29</th>\n",
              "      <td>PERSEVERANCE</td>\n",
              "      <td>/inspirational-quotes/5831-in-the-confrontatio...</td>\n",
              "      <td>https://assets.passiton.com/quotes/quote_artwo...</td>\n",
              "      <td>In the confrontation between the stream and th...</td>\n",
              "    </tr>\n",
              "    <tr>\n",
              "      <th>30</th>\n",
              "      <td>LAUGHTER</td>\n",
              "      <td>/inspirational-quotes/7783-a-good-laugh-heals-...</td>\n",
              "      <td>https://assets.passiton.com/quotes/quote_artwo...</td>\n",
              "      <td>A good laugh heals a lot of hurts.</td>\n",
              "    </tr>\n",
              "    <tr>\n",
              "      <th>31</th>\n",
              "      <td>LAUGHTER</td>\n",
              "      <td>/inspirational-quotes/8247-laughter-lightens-t...</td>\n",
              "      <td>https://assets.passiton.com/quotes/quote_artwo...</td>\n",
              "      <td>Laughter lightens the soul.</td>\n",
              "    </tr>\n",
              "  </tbody>\n",
              "</table>\n",
              "</div>"
            ],
            "text/plain": [
              "                name  ...                                              quote\n",
              "0            EMPATHY  ...  An exchange of empathy provides an entry point...\n",
              "1            EMPATHY  ...  Whenever you are about to find fault with some...\n",
              "2            EMPATHY  ...  We think we listen, but very rarely do we list...\n",
              "3            EMPATHY  ...  Empathy is about finding echoes of another per...\n",
              "4            EMPATHY  ...  How far you go in life depends on your being t...\n",
              "5          SELF-CARE  ...  Talk to yourself like you would to someone you...\n",
              "6          SELF-CARE  ...  Self-care is not self-indulgence, it is self-p...\n",
              "7          SELF-CARE  ...  There’s only one corner of the universe you ca...\n",
              "8          SELF-CARE  ...  Rest and self-care are so important. When you ...\n",
              "9          SELF-CARE  ...  Mind. Body. Soul. These are the three things s...\n",
              "10          TEAMWORK  ...  The people closest to me determine my level of...\n",
              "11          TEAMWORK  ...  Cooperation is the thorough conviction that no...\n",
              "12          TEAMWORK  ...  The strength of the team is each individual me...\n",
              "13          TEAMWORK  ...  Problems can become opportunities when the rig...\n",
              "14          TEAMWORK  ...  Individual commitment to a group effort - that...\n",
              "15  INCLUDING OTHERS  ...  It is easier to reach our potential when we le...\n",
              "16  INCLUDING OTHERS  ...  To be fully seen by somebody, then, and be lov...\n",
              "17  INCLUDING OTHERS  ...  Have a big enough heart to love unconditionall...\n",
              "18  INCLUDING OTHERS  ...  Acceptance is simply love in practice. When yo...\n",
              "19  INCLUDING OTHERS  ...  The happiness of one's own heart alone cannot ...\n",
              "20           COURAGE  ...  Nothing in life is to be feared. It is only to...\n",
              "21           COURAGE  ...  Have the courage to follow your heart and intu...\n",
              "22           COURAGE  ...  Courage doesn’t mean you don’t get afraid. Cou...\n",
              "23           COURAGE  ...  Life shrinks or expands in proportion to one's...\n",
              "24           COURAGE  ...  In one of its earliest forms, the word courage...\n",
              "25      PERSEVERANCE  ...  Some people want it to happen, some wish it wo...\n",
              "26      PERSEVERANCE  ...  There are no shortcuts to any place worth going. \n",
              "27      PERSEVERANCE  ...  The only failure is quitting. Everything else ...\n",
              "28      PERSEVERANCE  ...  There's only one way to succeed in anything, a...\n",
              "29      PERSEVERANCE  ...  In the confrontation between the stream and th...\n",
              "30          LAUGHTER  ...                A good laugh heals a lot of hurts. \n",
              "31          LAUGHTER  ...                       Laughter lightens the soul. \n",
              "\n",
              "[32 rows x 4 columns]"
            ]
          },
          "metadata": {},
          "execution_count": 71
        }
      ]
    },
    {
      "cell_type": "code",
      "metadata": {
        "id": "UCOBMC1mf8w9"
      },
      "source": [
        "final_data.to_excel('quotes.xlsx')"
      ],
      "execution_count": 72,
      "outputs": []
    },
    {
      "cell_type": "code",
      "metadata": {
        "id": "5-MaIk1sf8zp"
      },
      "source": [
        "quotes = []\n",
        "for j in range(1,46):\n",
        "  url = 'https://www.passiton.com/inspirational-quotes?page='\n",
        "  data = requests.get(url+str(j))\n",
        "  soup = BeautifulSoup(data.content,'html5lib')\n",
        "  div = soup.find('div',attrs = {'id':'all_quotes'})\n",
        "  divs = div.findAll('div',attrs={'col-6 col-lg-3 text-center margin-30px-bottom sm-margin-30px-top'})\n",
        "  for i in divs:\n",
        "    temp_data = {}\n",
        "    temp_data['name'] = i.h5.text\n",
        "    temp_data['url'] = i.a['href']\n",
        "    temp_data['img'] = i.img['src']\n",
        "    temp_data['quote'] = i.img['alt'].split('#')[0]\n",
        "    quotes.append(temp_data)\n",
        "    # final_data = pd.DataFrame(quotes)\n",
        "    # final_data.to_excel('quotes.xlsx')"
      ],
      "execution_count": 98,
      "outputs": []
    },
    {
      "cell_type": "code",
      "metadata": {
        "id": "GqXV23PXf876"
      },
      "source": [
        "final_data = pd.DataFrame(quotes)"
      ],
      "execution_count": 101,
      "outputs": []
    },
    {
      "cell_type": "code",
      "metadata": {
        "colab": {
          "base_uri": "https://localhost:8080/",
          "height": 418
        },
        "id": "KRnMSMrHf8_C",
        "outputId": "2fec1dcc-857d-4e52-de55-80746f2a5fc2"
      },
      "source": [
        "final_data"
      ],
      "execution_count": 105,
      "outputs": [
        {
          "output_type": "execute_result",
          "data": {
            "text/html": [
              "<div>\n",
              "<style scoped>\n",
              "    .dataframe tbody tr th:only-of-type {\n",
              "        vertical-align: middle;\n",
              "    }\n",
              "\n",
              "    .dataframe tbody tr th {\n",
              "        vertical-align: top;\n",
              "    }\n",
              "\n",
              "    .dataframe thead th {\n",
              "        text-align: right;\n",
              "    }\n",
              "</style>\n",
              "<table border=\"1\" class=\"dataframe\">\n",
              "  <thead>\n",
              "    <tr style=\"text-align: right;\">\n",
              "      <th></th>\n",
              "      <th>name</th>\n",
              "      <th>url</th>\n",
              "      <th>img</th>\n",
              "      <th>quote</th>\n",
              "    </tr>\n",
              "  </thead>\n",
              "  <tbody>\n",
              "    <tr>\n",
              "      <th>0</th>\n",
              "      <td>EMPATHY</td>\n",
              "      <td>/inspirational-quotes/8263-an-exchange-of-empa...</td>\n",
              "      <td>https://assets.passiton.com/quotes/quote_artwo...</td>\n",
              "      <td>An exchange of empathy provides an entry point...</td>\n",
              "    </tr>\n",
              "    <tr>\n",
              "      <th>1</th>\n",
              "      <td>EMPATHY</td>\n",
              "      <td>/inspirational-quotes/8262-whenever-you-are-ab...</td>\n",
              "      <td>https://assets.passiton.com/quotes/quote_artwo...</td>\n",
              "      <td>Whenever you are about to find fault with some...</td>\n",
              "    </tr>\n",
              "    <tr>\n",
              "      <th>2</th>\n",
              "      <td>EMPATHY</td>\n",
              "      <td>/inspirational-quotes/8080-we-think-we-listen-...</td>\n",
              "      <td>https://assets.passiton.com/quotes/quote_artwo...</td>\n",
              "      <td>We think we listen, but very rarely do we list...</td>\n",
              "    </tr>\n",
              "    <tr>\n",
              "      <th>3</th>\n",
              "      <td>EMPATHY</td>\n",
              "      <td>/inspirational-quotes/8261-empathy-is-about-fi...</td>\n",
              "      <td>https://assets.passiton.com/quotes/quote_artwo...</td>\n",
              "      <td>Empathy is about finding echoes of another per...</td>\n",
              "    </tr>\n",
              "    <tr>\n",
              "      <th>4</th>\n",
              "      <td>EMPATHY</td>\n",
              "      <td>/inspirational-quotes/3202-how-far-you-go-in-l...</td>\n",
              "      <td>https://assets.passiton.com/quotes/quote_artwo...</td>\n",
              "      <td>How far you go in life depends on your being t...</td>\n",
              "    </tr>\n",
              "    <tr>\n",
              "      <th>...</th>\n",
              "      <td>...</td>\n",
              "      <td>...</td>\n",
              "      <td>...</td>\n",
              "      <td>...</td>\n",
              "    </tr>\n",
              "    <tr>\n",
              "      <th>1435</th>\n",
              "      <td>STEWARDSHIP</td>\n",
              "      <td>/inspirational-quotes/7273-the-earth-will-not-...</td>\n",
              "      <td>https://assets.passiton.com/quotes/quote_artwo...</td>\n",
              "      <td>The earth will not continue to offer its harve...</td>\n",
              "    </tr>\n",
              "    <tr>\n",
              "      <th>1436</th>\n",
              "      <td>APPRECIATING NATURE</td>\n",
              "      <td>/inspirational-quotes/7271-the-earth-has-music...</td>\n",
              "      <td>https://assets.passiton.com/quotes/quote_artwo...</td>\n",
              "      <td>The earth has music for those who listen.</td>\n",
              "    </tr>\n",
              "    <tr>\n",
              "      <th>1437</th>\n",
              "      <td>APPRECIATING NATURE</td>\n",
              "      <td>/inspirational-quotes/7270-forget-not-that-the...</td>\n",
              "      <td>https://assets.passiton.com/quotes/quote_artwo...</td>\n",
              "      <td>Forget not that the earth delights to feel you...</td>\n",
              "    </tr>\n",
              "    <tr>\n",
              "      <th>1438</th>\n",
              "      <td>RESPONSIBILITY</td>\n",
              "      <td>/inspirational-quotes/7267-you-must-take-perso...</td>\n",
              "      <td>https://assets.passiton.com/quotes/quote_artwo...</td>\n",
              "      <td>You must take personal responsibility. You can...</td>\n",
              "    </tr>\n",
              "    <tr>\n",
              "      <th>1439</th>\n",
              "      <td>RESPONSIBILITY</td>\n",
              "      <td>/inspirational-quotes/7266-find-joy-in-everyth...</td>\n",
              "      <td>https://assets.passiton.com/quotes/quote_artwo...</td>\n",
              "      <td>Find joy in everything you choose to do. Every...</td>\n",
              "    </tr>\n",
              "  </tbody>\n",
              "</table>\n",
              "<p>1440 rows × 4 columns</p>\n",
              "</div>"
            ],
            "text/plain": [
              "                     name  ...                                              quote\n",
              "0                 EMPATHY  ...  An exchange of empathy provides an entry point...\n",
              "1                 EMPATHY  ...  Whenever you are about to find fault with some...\n",
              "2                 EMPATHY  ...  We think we listen, but very rarely do we list...\n",
              "3                 EMPATHY  ...  Empathy is about finding echoes of another per...\n",
              "4                 EMPATHY  ...  How far you go in life depends on your being t...\n",
              "...                   ...  ...                                                ...\n",
              "1435          STEWARDSHIP  ...  The earth will not continue to offer its harve...\n",
              "1436  APPRECIATING NATURE  ...         The earth has music for those who listen. \n",
              "1437  APPRECIATING NATURE  ...  Forget not that the earth delights to feel you...\n",
              "1438       RESPONSIBILITY  ...  You must take personal responsibility. You can...\n",
              "1439       RESPONSIBILITY  ...  Find joy in everything you choose to do. Every...\n",
              "\n",
              "[1440 rows x 4 columns]"
            ]
          },
          "metadata": {},
          "execution_count": 105
        }
      ]
    }
  ]
}