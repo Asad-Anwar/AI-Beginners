{
 "cells": [
  {
   "cell_type": "code",
   "execution_count": null,
   "metadata": {},
   "outputs": [],
   "source": [
    "psl_cities =['Karachi','Quetta','Islamabad','Peshawar','Multan','Lahore']"
   ]
  },
  {
   "cell_type": "code",
   "execution_count": null,
   "metadata": {},
   "outputs": [],
   "source": [
    "city = 'Multan'"
   ]
  },
  {
   "cell_type": "code",
   "execution_count": null,
   "metadata": {},
   "outputs": [],
   "source": [
    "if city == psl_cities[0]:\n",
    "    print(\"Winner\",psl_cities[0])\n",
    "elif city == psl_cities[1]:\n",
    "    print(\"Winner\",psl_cities[1])\n",
    "elif city == psl_cities[2]:\n",
    "    print(\"Winner\",psl_cities[2])\n",
    "elif city == psl_cities[3]:\n",
    "    print(\"Winner\",psl_cities[3])\n",
    "elif city == psl_cities[4]:\n",
    "    print(\"Winner\",psl_cities[4])\n",
    "elif city == psl_cities[5]:\n",
    "    print(\"Winner\",psl_cities[5])"
   ]
  },
  {
   "cell_type": "code",
   "execution_count": null,
   "metadata": {},
   "outputs": [],
   "source": [
    "for temp_city in psl_cities:\n",
    "    if temp_city == city:\n",
    "        print(\"Winner\",temp_city)"
   ]
  },
  {
   "cell_type": "code",
   "execution_count": null,
   "metadata": {},
   "outputs": [],
   "source": [
    "a = range(100)\n",
    "a"
   ]
  },
  {
   "cell_type": "code",
   "execution_count": null,
   "metadata": {},
   "outputs": [],
   "source": [
    "for i in range(4):\n",
    "    print(i)"
   ]
  },
  {
   "cell_type": "code",
   "execution_count": null,
   "metadata": {},
   "outputs": [],
   "source": [
    "for i in range(4):\n",
    "    print(\"I'll be a good student in class.\")"
   ]
  },
  {
   "cell_type": "code",
   "execution_count": null,
   "metadata": {},
   "outputs": [],
   "source": [
    "First_Names = ['BlueRay','Upchuck','Lojack','Gizmo']\n",
    "Full_Names = [];"
   ]
  },
  {
   "cell_type": "code",
   "execution_count": null,
   "metadata": {},
   "outputs": [],
   "source": [
    "Last_Names = ['Zzz','Burp','Dogbone','Droop']"
   ]
  },
  {
   "cell_type": "code",
   "execution_count": null,
   "metadata": {},
   "outputs": [],
   "source": [
    "for i in First_Names:\n",
    "    for j in Last_Names:\n",
    "        Full_Names.append(i +' '+ j)\n",
    "Full_Names"
   ]
  },
  {
   "cell_type": "code",
   "execution_count": null,
   "metadata": {},
   "outputs": [],
   "source": [
    "for i in range(4):\n",
    "    print(First_Names[i],Last_Names[i])"
   ]
  },
  {
   "cell_type": "code",
   "execution_count": null,
   "metadata": {},
   "outputs": [],
   "source": [
    "username = input('Enter your name: ')"
   ]
  },
  {
   "cell_type": "code",
   "execution_count": null,
   "metadata": {},
   "outputs": [],
   "source": [
    "print(username)"
   ]
  },
  {
   "cell_type": "code",
   "execution_count": null,
   "metadata": {},
   "outputs": [],
   "source": [
    "type(username)"
   ]
  },
  {
   "cell_type": "code",
   "execution_count": null,
   "metadata": {},
   "outputs": [],
   "source": [
    "num1 = int(input('Enter your num1: '))\n",
    "num2 = int(input('Enter your num2: '))\n",
    "num = num1 + num2\n",
    "print('Result:',num)\n",
    "# parsing: to convert str into integer"
   ]
  },
  {
   "cell_type": "code",
   "execution_count": null,
   "metadata": {},
   "outputs": [],
   "source": [
    "# Assignment No 1 to operate it in num1: 9 and num2: c\n",
    "num1 = input('Enter your num1: ')\n",
    "num2 = input('Enter your num2: ')\n",
    "try:\n",
    "    num1 = int(num1)\n",
    "    num2 = int(num2)\n",
    "    num = num1 + num2\n",
    "    print('Result:',num)\n",
    "except:\n",
    "    num = num1 + num2\n",
    "    print('Result:',num)"
   ]
  },
  {
   "cell_type": "code",
   "execution_count": null,
   "metadata": {},
   "outputs": [],
   "source": [
    "# Google Colab - Welcome to Colab then new notebook"
   ]
  },
  {
   "cell_type": "code",
   "execution_count": null,
   "metadata": {},
   "outputs": [],
   "source": [
    "# Assignment No 1 to operate it in num1: 9 and num2: c\n",
    "num1 = input('Enter your num1: ')\n",
    "num2 = input('Enter your num2: ')\n",
    "try:\n",
    "    num1 = int(num1)\n",
    "except:\n",
    "    num1 = num1\n",
    "try:\n",
    "    num2 = int(num2)\n",
    "    num = num1 + num2\n",
    "    print('Result:',num)\n",
    "except:\n",
    "    num2 = num2\n",
    "    num = num1 + num2\n",
    "    print('Result:',num)"
   ]
  },
  {
   "cell_type": "code",
   "execution_count": null,
   "metadata": {},
   "outputs": [],
   "source": [
    "psl_cities =['Karachi','Quetta','Islamabad','Peshawar','Multan','Lahore']\n",
    "city = input(\"Please input your city: \")\n",
    "city = city.title()\n",
    "for temp_city in psl_cities:\n",
    "    if temp_city == city:\n",
    "        print(\"Congratz you were the participant.\")\n",
    "        break\n",
    "    else:\n",
    "        print(\"Sorry Better Luck Next Time\")"
   ]
  },
  {
   "cell_type": "code",
   "execution_count": 18,
   "metadata": {},
   "outputs": [
    {
     "name": "stdout",
     "output_type": "stream",
     "text": [
      "Enter your num1: 9\n",
      "Enter your num2: 5\n",
      "Result: 14\n"
     ]
    }
   ],
   "source": [
    "# Assignment Completed\n",
    "# Assignment No 1 to operate it in num1: 9 and num2: c\n",
    "num1 = input('Enter your num1: ')\n",
    "num2 = input('Enter your num2: ')\n",
    "try:\n",
    "    num1 = int(num1)\n",
    "    num2 = int(num2)\n",
    "    num = num1 + num2\n",
    "    print('Result:',num)\n",
    "except:\n",
    "    num1 = str(num1)\n",
    "    num2 = num2\n",
    "    num = num1 + num2\n",
    "    print('Result:',num)"
   ]
  },
  {
   "cell_type": "code",
   "execution_count": 15,
   "metadata": {},
   "outputs": [
    {
     "name": "stdout",
     "output_type": "stream",
     "text": [
      "Please input your city: lousiana\n",
      "Sorry Better Luck Next Time.\n"
     ]
    }
   ],
   "source": [
    "# Task Completed\n",
    "psl_cities =['Karachi','Quetta','Islamabad','Peshawar','Multan','Lahore']\n",
    "city = input(\"Please input your city: \")\n",
    "city = city.title()\n",
    "a = 'Not Found'\n",
    "for i in range(5):\n",
    "    if psl_cities[i] == city:\n",
    "        a = 'Found' \n",
    "if a == 'Found':\n",
    "    print(\"Congratz you were the participant.\")\n",
    "else:\n",
    "    print(\"Sorry Better Luck Next Time.\")   "
   ]
  }
 ],
 "metadata": {
  "kernelspec": {
   "display_name": "Python 3",
   "language": "python",
   "name": "python3"
  }
 },
 "nbformat": 4,
 "nbformat_minor": 2
}
